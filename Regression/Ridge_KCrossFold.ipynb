{
 "cells": [
  {
   "cell_type": "code",
   "execution_count": 1,
   "id": "0d22ce7a-5b2a-406f-8e54-4e33110f8e7a",
   "metadata": {},
   "outputs": [],
   "source": [
    "import pandas as pd \n",
    "import numpy as np"
   ]
  },
  {
   "cell_type": "code",
   "execution_count": 2,
   "id": "cc86db98-8990-49c9-8207-b282e609a0f9",
   "metadata": {},
   "outputs": [],
   "source": [
    "import matplotlib.pyplot as plt\n",
    "import seaborn as sns"
   ]
  },
  {
   "cell_type": "code",
   "execution_count": 3,
   "id": "4e4131b0-28a4-4577-a8ed-8bccd14f4f14",
   "metadata": {},
   "outputs": [],
   "source": [
    "from sklearn.datasets import fetch_california_housing"
   ]
  },
  {
   "cell_type": "code",
   "execution_count": 4,
   "id": "c10a003d-5e44-4e2f-9eb6-65086de2f565",
   "metadata": {},
   "outputs": [],
   "source": [
    "data = fetch_california_housing()"
   ]
  },
  {
   "cell_type": "code",
   "execution_count": 5,
   "id": "5e981a15-39d4-4715-8126-37a37522c838",
   "metadata": {},
   "outputs": [],
   "source": [
    "X,Y = data.data,data.target"
   ]
  },
  {
   "cell_type": "code",
   "execution_count": 6,
   "id": "8c80bbe6-2900-4bc0-9b4e-871c316b11da",
   "metadata": {},
   "outputs": [
    {
     "data": {
      "text/plain": [
       "array([[   8.3252    ,   41.        ,    6.98412698, ...,    2.55555556,\n",
       "          37.88      , -122.23      ],\n",
       "       [   8.3014    ,   21.        ,    6.23813708, ...,    2.10984183,\n",
       "          37.86      , -122.22      ],\n",
       "       [   7.2574    ,   52.        ,    8.28813559, ...,    2.80225989,\n",
       "          37.85      , -122.24      ],\n",
       "       ...,\n",
       "       [   1.7       ,   17.        ,    5.20554273, ...,    2.3256351 ,\n",
       "          39.43      , -121.22      ],\n",
       "       [   1.8672    ,   18.        ,    5.32951289, ...,    2.12320917,\n",
       "          39.43      , -121.32      ],\n",
       "       [   2.3886    ,   16.        ,    5.25471698, ...,    2.61698113,\n",
       "          39.37      , -121.24      ]])"
      ]
     },
     "execution_count": 6,
     "metadata": {},
     "output_type": "execute_result"
    }
   ],
   "source": [
    "X"
   ]
  },
  {
   "cell_type": "code",
   "execution_count": 7,
   "id": "6b9962e4-d9e5-4b24-8818-e613154ef2fa",
   "metadata": {},
   "outputs": [
    {
     "data": {
      "text/plain": [
       "array([4.526, 3.585, 3.521, ..., 0.923, 0.847, 0.894])"
      ]
     },
     "execution_count": 7,
     "metadata": {},
     "output_type": "execute_result"
    }
   ],
   "source": [
    "Y"
   ]
  },
  {
   "cell_type": "code",
   "execution_count": 8,
   "id": "2a33c965-2888-42cf-8733-8aa83f8c6318",
   "metadata": {},
   "outputs": [
    {
     "data": {
      "text/plain": [
       "{'data': array([[   8.3252    ,   41.        ,    6.98412698, ...,    2.55555556,\n",
       "           37.88      , -122.23      ],\n",
       "        [   8.3014    ,   21.        ,    6.23813708, ...,    2.10984183,\n",
       "           37.86      , -122.22      ],\n",
       "        [   7.2574    ,   52.        ,    8.28813559, ...,    2.80225989,\n",
       "           37.85      , -122.24      ],\n",
       "        ...,\n",
       "        [   1.7       ,   17.        ,    5.20554273, ...,    2.3256351 ,\n",
       "           39.43      , -121.22      ],\n",
       "        [   1.8672    ,   18.        ,    5.32951289, ...,    2.12320917,\n",
       "           39.43      , -121.32      ],\n",
       "        [   2.3886    ,   16.        ,    5.25471698, ...,    2.61698113,\n",
       "           39.37      , -121.24      ]]),\n",
       " 'target': array([4.526, 3.585, 3.521, ..., 0.923, 0.847, 0.894]),\n",
       " 'frame': None,\n",
       " 'target_names': ['MedHouseVal'],\n",
       " 'feature_names': ['MedInc',\n",
       "  'HouseAge',\n",
       "  'AveRooms',\n",
       "  'AveBedrms',\n",
       "  'Population',\n",
       "  'AveOccup',\n",
       "  'Latitude',\n",
       "  'Longitude'],\n",
       " 'DESCR': '.. _california_housing_dataset:\\n\\nCalifornia Housing dataset\\n--------------------------\\n\\n**Data Set Characteristics:**\\n\\n:Number of Instances: 20640\\n\\n:Number of Attributes: 8 numeric, predictive attributes and the target\\n\\n:Attribute Information:\\n    - MedInc        median income in block group\\n    - HouseAge      median house age in block group\\n    - AveRooms      average number of rooms per household\\n    - AveBedrms     average number of bedrooms per household\\n    - Population    block group population\\n    - AveOccup      average number of household members\\n    - Latitude      block group latitude\\n    - Longitude     block group longitude\\n\\n:Missing Attribute Values: None\\n\\nThis dataset was obtained from the StatLib repository.\\nhttps://www.dcc.fc.up.pt/~ltorgo/Regression/cal_housing.html\\n\\nThe target variable is the median house value for California districts,\\nexpressed in hundreds of thousands of dollars ($100,000).\\n\\nThis dataset was derived from the 1990 U.S. census, using one row per census\\nblock group. A block group is the smallest geographical unit for which the U.S.\\nCensus Bureau publishes sample data (a block group typically has a population\\nof 600 to 3,000 people).\\n\\nA household is a group of people residing within a home. Since the average\\nnumber of rooms and bedrooms in this dataset are provided per household, these\\ncolumns may take surprisingly large values for block groups with few households\\nand many empty houses, such as vacation resorts.\\n\\nIt can be downloaded/loaded using the\\n:func:`sklearn.datasets.fetch_california_housing` function.\\n\\n.. rubric:: References\\n\\n- Pace, R. Kelley and Ronald Barry, Sparse Spatial Autoregressions,\\n  Statistics and Probability Letters, 33 (1997) 291-297\\n'}"
      ]
     },
     "execution_count": 8,
     "metadata": {},
     "output_type": "execute_result"
    }
   ],
   "source": [
    "data"
   ]
  },
  {
   "cell_type": "markdown",
   "id": "0f55d45c-e5ae-4ed9-a5df-27dfbc59614e",
   "metadata": {},
   "source": [
    "6,7 = latitude,longitude , no effect on pricing"
   ]
  },
  {
   "cell_type": "code",
   "execution_count": 9,
   "id": "c0ead263-9007-4206-806e-c5386c3240e3",
   "metadata": {},
   "outputs": [],
   "source": [
    "X1 = X[:,:6]"
   ]
  },
  {
   "cell_type": "code",
   "execution_count": 21,
   "id": "ac9711d2-1b37-4bc8-8c87-0fab5c7c81f1",
   "metadata": {},
   "outputs": [
    {
     "data": {
      "text/plain": [
       "(20640, 6)"
      ]
     },
     "execution_count": 21,
     "metadata": {},
     "output_type": "execute_result"
    }
   ],
   "source": [
    "X1.shape"
   ]
  },
  {
   "cell_type": "code",
   "execution_count": 22,
   "id": "905db7e1-67bb-4d19-aea0-cf847ff79bf1",
   "metadata": {},
   "outputs": [],
   "source": [
    "C = np.dot(X1.T,X1)"
   ]
  },
  {
   "cell_type": "code",
   "execution_count": 23,
   "id": "9358231e-8335-4398-8c71-237dffef1e22",
   "metadata": {},
   "outputs": [
    {
     "data": {
      "text/plain": [
       "array([[3.83723229e+05, 2.22928568e+06, 4.65439543e+05, 8.64612451e+04,\n",
       "        1.14096929e+08, 2.52959028e+05],\n",
       "       [2.22928568e+06, 2.01984850e+07, 3.11067738e+06, 6.38694833e+05,\n",
       "        7.55482945e+08, 1.85071039e+06],\n",
       "       [4.65439543e+05, 3.11067738e+06, 7.34686462e+05, 1.43399883e+05,\n",
       "        1.55555196e+08, 3.41507443e+05],\n",
       "       [8.64612451e+04, 6.38694833e+05, 1.43399883e+05, 2.94589973e+04,\n",
       "        3.15329544e+07, 6.88775051e+04],\n",
       "       [1.14096929e+08, 7.55482945e+08, 1.55555196e+08, 3.15329544e+07,\n",
       "        6.84090565e+10, 1.07303639e+08],\n",
       "       [2.52959028e+05, 1.85071039e+06, 3.41507443e+05, 6.88775051e+04,\n",
       "        1.07303639e+08, 2.42094243e+06]])"
      ]
     },
     "execution_count": 23,
     "metadata": {},
     "output_type": "execute_result"
    }
   ],
   "source": [
    "C"
   ]
  },
  {
   "cell_type": "markdown",
   "id": "6ca95b18-b8f0-41f9-82c6-fa41bf478459",
   "metadata": {},
   "source": [
    "Ridge Regression , reguliazer = L2 norm, W = (C+AI)^-1(XY) "
   ]
  },
  {
   "cell_type": "markdown",
   "id": "46905867-9782-45aa-95aa-1f87223bac2a",
   "metadata": {},
   "source": [
    "E|w^ - w|| = trace((X^TX + AI)^-1)sigma^2."
   ]
  },
  {
   "cell_type": "code",
   "execution_count": 24,
   "id": "f5c2d799-db6f-45eb-81f2-07e3b7daa925",
   "metadata": {},
   "outputs": [],
   "source": [
    "A = [100,300,700]\n",
    "Wr = []\n",
    "\n",
    "for i in A:\n",
    "    n = C.shape[0]\n",
    "    regulizer = np.eye(n)\n",
    "    regulizer *= i\n",
    "    \n",
    "    Cj = C + regulizer\n",
    "    inv = np.linalg.pinv(Cj)\n",
    "    comp = np.dot(X1.T,Y)\n",
    "    wr = np.dot(inv,comp)\n",
    "    Wr.append(wr)\n",
    "    \n"
   ]
  },
  {
   "cell_type": "code",
   "execution_count": 25,
   "id": "9c5d3147-0450-45c7-b556-f0fc3b6373ce",
   "metadata": {},
   "outputs": [
    {
     "data": {
      "text/plain": [
       "(6, 6)"
      ]
     },
     "execution_count": 25,
     "metadata": {},
     "output_type": "execute_result"
    }
   ],
   "source": [
    "C.shape"
   ]
  },
  {
   "cell_type": "code",
   "execution_count": 26,
   "id": "40e0c85b-2a74-4e21-aee1-d139d3173e5e",
   "metadata": {},
   "outputs": [
    {
     "data": {
      "text/plain": [
       "[array([ 4.95072713e-01,  1.24895363e-02, -1.71519683e-01,  7.01936279e-01,\n",
       "        -9.55180202e-06, -4.90077310e-03]),\n",
       " array([ 4.83482863e-01,  1.33947908e-02, -1.43741509e-01,  5.70348424e-01,\n",
       "        -2.79963887e-06, -4.85541127e-03]),\n",
       " array([ 4.68539348e-01,  1.45183061e-02, -1.09703159e-01,  4.10979691e-01,\n",
       "         5.68329701e-06, -4.79551036e-03])]"
      ]
     },
     "execution_count": 26,
     "metadata": {},
     "output_type": "execute_result"
    }
   ],
   "source": [
    "Wr"
   ]
  },
  {
   "cell_type": "code",
   "execution_count": 27,
   "id": "02328a3d-b11c-4b55-a1ee-4bb10dd674f9",
   "metadata": {},
   "outputs": [],
   "source": [
    "inv2 = np.linalg.pinv(C)"
   ]
  },
  {
   "cell_type": "code",
   "execution_count": 28,
   "id": "510c0221-88be-4794-b99a-1e2ef6cc96d9",
   "metadata": {},
   "outputs": [],
   "source": [
    "W = np.dot(inv2,np.dot(X1.T,Y))"
   ]
  },
  {
   "cell_type": "code",
   "execution_count": 29,
   "id": "c6079794-2d82-435d-94dc-eba4dcd80ed8",
   "metadata": {},
   "outputs": [
    {
     "data": {
      "text/plain": [
       "array([ 5.02770277e-01,  1.18780586e-02, -1.90384317e-01,  7.91739138e-01,\n",
       "       -1.40887336e-05, -4.93057331e-03])"
      ]
     },
     "execution_count": 29,
     "metadata": {},
     "output_type": "execute_result"
    }
   ],
   "source": [
    "W"
   ]
  },
  {
   "cell_type": "code",
   "execution_count": 30,
   "id": "03865139-0d48-488c-9b66-2d0992549efa",
   "metadata": {},
   "outputs": [],
   "source": [
    "df = pd.DataFrame(data=data.data ,columns=data.feature_names)"
   ]
  },
  {
   "cell_type": "code",
   "execution_count": 31,
   "id": "539ac047-20c2-4e7e-96c7-834eb25cda3d",
   "metadata": {},
   "outputs": [
    {
     "data": {
      "text/html": [
       "<div>\n",
       "<style scoped>\n",
       "    .dataframe tbody tr th:only-of-type {\n",
       "        vertical-align: middle;\n",
       "    }\n",
       "\n",
       "    .dataframe tbody tr th {\n",
       "        vertical-align: top;\n",
       "    }\n",
       "\n",
       "    .dataframe thead th {\n",
       "        text-align: right;\n",
       "    }\n",
       "</style>\n",
       "<table border=\"1\" class=\"dataframe\">\n",
       "  <thead>\n",
       "    <tr style=\"text-align: right;\">\n",
       "      <th></th>\n",
       "      <th>MedInc</th>\n",
       "      <th>HouseAge</th>\n",
       "      <th>AveRooms</th>\n",
       "      <th>AveBedrms</th>\n",
       "      <th>Population</th>\n",
       "      <th>AveOccup</th>\n",
       "      <th>Latitude</th>\n",
       "      <th>Longitude</th>\n",
       "    </tr>\n",
       "  </thead>\n",
       "  <tbody>\n",
       "    <tr>\n",
       "      <th>0</th>\n",
       "      <td>8.3252</td>\n",
       "      <td>41.0</td>\n",
       "      <td>6.984127</td>\n",
       "      <td>1.023810</td>\n",
       "      <td>322.0</td>\n",
       "      <td>2.555556</td>\n",
       "      <td>37.88</td>\n",
       "      <td>-122.23</td>\n",
       "    </tr>\n",
       "    <tr>\n",
       "      <th>1</th>\n",
       "      <td>8.3014</td>\n",
       "      <td>21.0</td>\n",
       "      <td>6.238137</td>\n",
       "      <td>0.971880</td>\n",
       "      <td>2401.0</td>\n",
       "      <td>2.109842</td>\n",
       "      <td>37.86</td>\n",
       "      <td>-122.22</td>\n",
       "    </tr>\n",
       "    <tr>\n",
       "      <th>2</th>\n",
       "      <td>7.2574</td>\n",
       "      <td>52.0</td>\n",
       "      <td>8.288136</td>\n",
       "      <td>1.073446</td>\n",
       "      <td>496.0</td>\n",
       "      <td>2.802260</td>\n",
       "      <td>37.85</td>\n",
       "      <td>-122.24</td>\n",
       "    </tr>\n",
       "    <tr>\n",
       "      <th>3</th>\n",
       "      <td>5.6431</td>\n",
       "      <td>52.0</td>\n",
       "      <td>5.817352</td>\n",
       "      <td>1.073059</td>\n",
       "      <td>558.0</td>\n",
       "      <td>2.547945</td>\n",
       "      <td>37.85</td>\n",
       "      <td>-122.25</td>\n",
       "    </tr>\n",
       "    <tr>\n",
       "      <th>4</th>\n",
       "      <td>3.8462</td>\n",
       "      <td>52.0</td>\n",
       "      <td>6.281853</td>\n",
       "      <td>1.081081</td>\n",
       "      <td>565.0</td>\n",
       "      <td>2.181467</td>\n",
       "      <td>37.85</td>\n",
       "      <td>-122.25</td>\n",
       "    </tr>\n",
       "    <tr>\n",
       "      <th>...</th>\n",
       "      <td>...</td>\n",
       "      <td>...</td>\n",
       "      <td>...</td>\n",
       "      <td>...</td>\n",
       "      <td>...</td>\n",
       "      <td>...</td>\n",
       "      <td>...</td>\n",
       "      <td>...</td>\n",
       "    </tr>\n",
       "    <tr>\n",
       "      <th>20635</th>\n",
       "      <td>1.5603</td>\n",
       "      <td>25.0</td>\n",
       "      <td>5.045455</td>\n",
       "      <td>1.133333</td>\n",
       "      <td>845.0</td>\n",
       "      <td>2.560606</td>\n",
       "      <td>39.48</td>\n",
       "      <td>-121.09</td>\n",
       "    </tr>\n",
       "    <tr>\n",
       "      <th>20636</th>\n",
       "      <td>2.5568</td>\n",
       "      <td>18.0</td>\n",
       "      <td>6.114035</td>\n",
       "      <td>1.315789</td>\n",
       "      <td>356.0</td>\n",
       "      <td>3.122807</td>\n",
       "      <td>39.49</td>\n",
       "      <td>-121.21</td>\n",
       "    </tr>\n",
       "    <tr>\n",
       "      <th>20637</th>\n",
       "      <td>1.7000</td>\n",
       "      <td>17.0</td>\n",
       "      <td>5.205543</td>\n",
       "      <td>1.120092</td>\n",
       "      <td>1007.0</td>\n",
       "      <td>2.325635</td>\n",
       "      <td>39.43</td>\n",
       "      <td>-121.22</td>\n",
       "    </tr>\n",
       "    <tr>\n",
       "      <th>20638</th>\n",
       "      <td>1.8672</td>\n",
       "      <td>18.0</td>\n",
       "      <td>5.329513</td>\n",
       "      <td>1.171920</td>\n",
       "      <td>741.0</td>\n",
       "      <td>2.123209</td>\n",
       "      <td>39.43</td>\n",
       "      <td>-121.32</td>\n",
       "    </tr>\n",
       "    <tr>\n",
       "      <th>20639</th>\n",
       "      <td>2.3886</td>\n",
       "      <td>16.0</td>\n",
       "      <td>5.254717</td>\n",
       "      <td>1.162264</td>\n",
       "      <td>1387.0</td>\n",
       "      <td>2.616981</td>\n",
       "      <td>39.37</td>\n",
       "      <td>-121.24</td>\n",
       "    </tr>\n",
       "  </tbody>\n",
       "</table>\n",
       "<p>20640 rows × 8 columns</p>\n",
       "</div>"
      ],
      "text/plain": [
       "       MedInc  HouseAge  AveRooms  AveBedrms  Population  AveOccup  Latitude  \\\n",
       "0      8.3252      41.0  6.984127   1.023810       322.0  2.555556     37.88   \n",
       "1      8.3014      21.0  6.238137   0.971880      2401.0  2.109842     37.86   \n",
       "2      7.2574      52.0  8.288136   1.073446       496.0  2.802260     37.85   \n",
       "3      5.6431      52.0  5.817352   1.073059       558.0  2.547945     37.85   \n",
       "4      3.8462      52.0  6.281853   1.081081       565.0  2.181467     37.85   \n",
       "...       ...       ...       ...        ...         ...       ...       ...   \n",
       "20635  1.5603      25.0  5.045455   1.133333       845.0  2.560606     39.48   \n",
       "20636  2.5568      18.0  6.114035   1.315789       356.0  3.122807     39.49   \n",
       "20637  1.7000      17.0  5.205543   1.120092      1007.0  2.325635     39.43   \n",
       "20638  1.8672      18.0  5.329513   1.171920       741.0  2.123209     39.43   \n",
       "20639  2.3886      16.0  5.254717   1.162264      1387.0  2.616981     39.37   \n",
       "\n",
       "       Longitude  \n",
       "0        -122.23  \n",
       "1        -122.22  \n",
       "2        -122.24  \n",
       "3        -122.25  \n",
       "4        -122.25  \n",
       "...          ...  \n",
       "20635    -121.09  \n",
       "20636    -121.21  \n",
       "20637    -121.22  \n",
       "20638    -121.32  \n",
       "20639    -121.24  \n",
       "\n",
       "[20640 rows x 8 columns]"
      ]
     },
     "execution_count": 31,
     "metadata": {},
     "output_type": "execute_result"
    }
   ],
   "source": [
    "df"
   ]
  },
  {
   "cell_type": "code",
   "execution_count": 32,
   "id": "74823ba2-7cdc-48ba-b201-742ecfe4c4df",
   "metadata": {},
   "outputs": [],
   "source": [
    "df['MedHouseVal'] = data.target"
   ]
  },
  {
   "cell_type": "code",
   "execution_count": 33,
   "id": "a108bc20-bfe4-4235-8fc0-3cf463f2fc29",
   "metadata": {},
   "outputs": [
    {
     "data": {
      "text/html": [
       "<div>\n",
       "<style scoped>\n",
       "    .dataframe tbody tr th:only-of-type {\n",
       "        vertical-align: middle;\n",
       "    }\n",
       "\n",
       "    .dataframe tbody tr th {\n",
       "        vertical-align: top;\n",
       "    }\n",
       "\n",
       "    .dataframe thead th {\n",
       "        text-align: right;\n",
       "    }\n",
       "</style>\n",
       "<table border=\"1\" class=\"dataframe\">\n",
       "  <thead>\n",
       "    <tr style=\"text-align: right;\">\n",
       "      <th></th>\n",
       "      <th>MedInc</th>\n",
       "      <th>HouseAge</th>\n",
       "      <th>AveRooms</th>\n",
       "      <th>AveBedrms</th>\n",
       "      <th>Population</th>\n",
       "      <th>AveOccup</th>\n",
       "      <th>Latitude</th>\n",
       "      <th>Longitude</th>\n",
       "      <th>MedHouseVal</th>\n",
       "    </tr>\n",
       "  </thead>\n",
       "  <tbody>\n",
       "    <tr>\n",
       "      <th>MedInc</th>\n",
       "      <td>1.000000</td>\n",
       "      <td>-0.119034</td>\n",
       "      <td>0.326895</td>\n",
       "      <td>-0.062040</td>\n",
       "      <td>0.004834</td>\n",
       "      <td>0.018766</td>\n",
       "      <td>-0.079809</td>\n",
       "      <td>-0.015176</td>\n",
       "      <td>0.688075</td>\n",
       "    </tr>\n",
       "    <tr>\n",
       "      <th>HouseAge</th>\n",
       "      <td>-0.119034</td>\n",
       "      <td>1.000000</td>\n",
       "      <td>-0.153277</td>\n",
       "      <td>-0.077747</td>\n",
       "      <td>-0.296244</td>\n",
       "      <td>0.013191</td>\n",
       "      <td>0.011173</td>\n",
       "      <td>-0.108197</td>\n",
       "      <td>0.105623</td>\n",
       "    </tr>\n",
       "    <tr>\n",
       "      <th>AveRooms</th>\n",
       "      <td>0.326895</td>\n",
       "      <td>-0.153277</td>\n",
       "      <td>1.000000</td>\n",
       "      <td>0.847621</td>\n",
       "      <td>-0.072213</td>\n",
       "      <td>-0.004852</td>\n",
       "      <td>0.106389</td>\n",
       "      <td>-0.027540</td>\n",
       "      <td>0.151948</td>\n",
       "    </tr>\n",
       "    <tr>\n",
       "      <th>AveBedrms</th>\n",
       "      <td>-0.062040</td>\n",
       "      <td>-0.077747</td>\n",
       "      <td>0.847621</td>\n",
       "      <td>1.000000</td>\n",
       "      <td>-0.066197</td>\n",
       "      <td>-0.006181</td>\n",
       "      <td>0.069721</td>\n",
       "      <td>0.013344</td>\n",
       "      <td>-0.046701</td>\n",
       "    </tr>\n",
       "    <tr>\n",
       "      <th>Population</th>\n",
       "      <td>0.004834</td>\n",
       "      <td>-0.296244</td>\n",
       "      <td>-0.072213</td>\n",
       "      <td>-0.066197</td>\n",
       "      <td>1.000000</td>\n",
       "      <td>0.069863</td>\n",
       "      <td>-0.108785</td>\n",
       "      <td>0.099773</td>\n",
       "      <td>-0.024650</td>\n",
       "    </tr>\n",
       "    <tr>\n",
       "      <th>AveOccup</th>\n",
       "      <td>0.018766</td>\n",
       "      <td>0.013191</td>\n",
       "      <td>-0.004852</td>\n",
       "      <td>-0.006181</td>\n",
       "      <td>0.069863</td>\n",
       "      <td>1.000000</td>\n",
       "      <td>0.002366</td>\n",
       "      <td>0.002476</td>\n",
       "      <td>-0.023737</td>\n",
       "    </tr>\n",
       "    <tr>\n",
       "      <th>Latitude</th>\n",
       "      <td>-0.079809</td>\n",
       "      <td>0.011173</td>\n",
       "      <td>0.106389</td>\n",
       "      <td>0.069721</td>\n",
       "      <td>-0.108785</td>\n",
       "      <td>0.002366</td>\n",
       "      <td>1.000000</td>\n",
       "      <td>-0.924664</td>\n",
       "      <td>-0.144160</td>\n",
       "    </tr>\n",
       "    <tr>\n",
       "      <th>Longitude</th>\n",
       "      <td>-0.015176</td>\n",
       "      <td>-0.108197</td>\n",
       "      <td>-0.027540</td>\n",
       "      <td>0.013344</td>\n",
       "      <td>0.099773</td>\n",
       "      <td>0.002476</td>\n",
       "      <td>-0.924664</td>\n",
       "      <td>1.000000</td>\n",
       "      <td>-0.045967</td>\n",
       "    </tr>\n",
       "    <tr>\n",
       "      <th>MedHouseVal</th>\n",
       "      <td>0.688075</td>\n",
       "      <td>0.105623</td>\n",
       "      <td>0.151948</td>\n",
       "      <td>-0.046701</td>\n",
       "      <td>-0.024650</td>\n",
       "      <td>-0.023737</td>\n",
       "      <td>-0.144160</td>\n",
       "      <td>-0.045967</td>\n",
       "      <td>1.000000</td>\n",
       "    </tr>\n",
       "  </tbody>\n",
       "</table>\n",
       "</div>"
      ],
      "text/plain": [
       "               MedInc  HouseAge  AveRooms  AveBedrms  Population  AveOccup  \\\n",
       "MedInc       1.000000 -0.119034  0.326895  -0.062040    0.004834  0.018766   \n",
       "HouseAge    -0.119034  1.000000 -0.153277  -0.077747   -0.296244  0.013191   \n",
       "AveRooms     0.326895 -0.153277  1.000000   0.847621   -0.072213 -0.004852   \n",
       "AveBedrms   -0.062040 -0.077747  0.847621   1.000000   -0.066197 -0.006181   \n",
       "Population   0.004834 -0.296244 -0.072213  -0.066197    1.000000  0.069863   \n",
       "AveOccup     0.018766  0.013191 -0.004852  -0.006181    0.069863  1.000000   \n",
       "Latitude    -0.079809  0.011173  0.106389   0.069721   -0.108785  0.002366   \n",
       "Longitude   -0.015176 -0.108197 -0.027540   0.013344    0.099773  0.002476   \n",
       "MedHouseVal  0.688075  0.105623  0.151948  -0.046701   -0.024650 -0.023737   \n",
       "\n",
       "             Latitude  Longitude  MedHouseVal  \n",
       "MedInc      -0.079809  -0.015176     0.688075  \n",
       "HouseAge     0.011173  -0.108197     0.105623  \n",
       "AveRooms     0.106389  -0.027540     0.151948  \n",
       "AveBedrms    0.069721   0.013344    -0.046701  \n",
       "Population  -0.108785   0.099773    -0.024650  \n",
       "AveOccup     0.002366   0.002476    -0.023737  \n",
       "Latitude     1.000000  -0.924664    -0.144160  \n",
       "Longitude   -0.924664   1.000000    -0.045967  \n",
       "MedHouseVal -0.144160  -0.045967     1.000000  "
      ]
     },
     "execution_count": 33,
     "metadata": {},
     "output_type": "execute_result"
    }
   ],
   "source": [
    "df.corr()"
   ]
  },
  {
   "cell_type": "code",
   "execution_count": 34,
   "id": "794d1132-4daf-4c26-8e40-80e97a1d12fb",
   "metadata": {},
   "outputs": [],
   "source": [
    "shrinkage_mats = []\n",
    "for i in Wr:\n",
    "    sw = i@C\n",
    "    shrinkage_mats.append(sw)"
   ]
  },
  {
   "cell_type": "code",
   "execution_count": 35,
   "id": "8d9cfca7-e89b-4861-8307-4e07c2293fc6",
   "metadata": {},
   "outputs": [
    {
     "data": {
      "text/plain": [
       "[array([1.96342360e+05, 1.25442277e+06, 2.40762244e+05, 4.62252925e+04,\n",
       "        6.01959540e+07, 1.25230565e+05]),\n",
       " array([1.96246823e+05, 1.25442000e+06, 2.40788214e+05, 4.61243816e+04,\n",
       "        6.01959540e+07, 1.25231532e+05]),\n",
       " array([1.96063890e+05, 1.25441385e+06, 2.40821884e+05, 4.60078003e+04,\n",
       "        6.01959540e+07, 1.25233432e+05])]"
      ]
     },
     "execution_count": 35,
     "metadata": {},
     "output_type": "execute_result"
    }
   ],
   "source": [
    "shrinkage_mats"
   ]
  },
  {
   "cell_type": "code",
   "execution_count": 36,
   "id": "421a7e1b-56a4-459b-be28-c3caac3e5e0d",
   "metadata": {},
   "outputs": [
    {
     "data": {
      "image/png": "[encoded data removed]",
      "text/plain": [
       "<Figure size 640x480 with 1 Axes>"
      ]
     },
     "metadata": {},
     "output_type": "display_data"
    }
   ],
   "source": [
    "Wri = np.array(Wr)\n",
    "for i in range(Wri.shape[1]):\n",
    "    plt.plot(A,Wri[:,i],label= f\"feature{i}\")\n",
    "plt.xscale(\"log\")   \n",
    "plt.xlabel(\"Regularization strength (lambda)\")\n",
    "plt.ylabel(\"Coefficient value\")\n",
    "plt.title(\"Ridge Trace Plot\")\n",
    "plt.legend()\n",
    "plt.show()\n",
    "    "
   ]
  },
  {
   "cell_type": "code",
   "execution_count": 37,
   "id": "d95fe0eb-7ff6-4bae-935a-e49c2644edd6",
   "metadata": {},
   "outputs": [
    {
     "data": {
      "text/plain": [
       "array([[ 4.95072713e-01,  1.24895363e-02, -1.71519683e-01,\n",
       "         7.01936279e-01, -9.55180202e-06, -4.90077310e-03],\n",
       "       [ 4.83482863e-01,  1.33947908e-02, -1.43741509e-01,\n",
       "         5.70348424e-01, -2.79963887e-06, -4.85541127e-03],\n",
       "       [ 4.68539348e-01,  1.45183061e-02, -1.09703159e-01,\n",
       "         4.10979691e-01,  5.68329701e-06, -4.79551036e-03]])"
      ]
     },
     "execution_count": 37,
     "metadata": {},
     "output_type": "execute_result"
    }
   ],
   "source": [
    "Wri"
   ]
  },
  {
   "cell_type": "code",
   "execution_count": 38,
   "id": "d2a6c533-62b9-4727-b7b2-cafa967c7afb",
   "metadata": {},
   "outputs": [],
   "source": [
    "A2 = [1000,3000,7000]\n",
    "Wr2 = []\n",
    "\n",
    "for i in A2:\n",
    "    n = C.shape[0]\n",
    "    regulizer = np.eye(n)\n",
    "    regulizer *= i\n",
    "    \n",
    "    Cj = C + regulizer\n",
    "    inv = np.linalg.pinv(Cj)\n",
    "    comp = np.dot(X1.T,Y)\n",
    "    wr = np.dot(inv,comp)\n",
    "    Wr2.append(wr)"
   ]
  },
  {
   "cell_type": "code",
   "execution_count": 39,
   "id": "deb23ef6-4b3d-4836-9aa7-62f948c158a5",
   "metadata": {},
   "outputs": [
    {
     "data": {
      "image/png": "[encoded data removed]",
      "text/plain": [
       "<Figure size 640x480 with 1 Axes>"
      ]
     },
     "metadata": {},
     "output_type": "display_data"
    }
   ],
   "source": [
    "Wri2 = np.array(Wr2)\n",
    "for i in range(Wri2.shape[1]):\n",
    "    plt.plot(A2,Wri2[:,i],label= f\"feature{i}\")\n",
    "plt.xscale(\"log\")   \n",
    "plt.xlabel(\"Regularization strength (lambda)\")\n",
    "plt.ylabel(\"Coefficient value\")\n",
    "plt.title(\"Ridge Trace Plot\")\n",
    "plt.legend()\n",
    "plt.show()\n",
    "    "
   ]
  },
  {
   "cell_type": "code",
   "execution_count": 43,
   "id": "bffed4b6-2f68-45d3-9751-68d68cb59e13",
   "metadata": {},
   "outputs": [
    {
     "data": {
      "image/png": "[encoded data removed]",
      "text/plain": [
       "<Figure size 640x480 with 1 Axes>"
      ]
     },
     "metadata": {},
     "output_type": "display_data"
    }
   ],
   "source": [
    "\n",
    "plt.plot(W,label= f\"feature{i}\")\n",
    "plt.xlabel(\"features\")\n",
    "plt.ylabel(\"weight coeffiecient without regularization\")\n",
    "plt.show()\n"
   ]
  },
  {
   "cell_type": "code",
   "execution_count": 41,
   "id": "05ac7a38-68f6-4822-86ab-50fe10028a8c",
   "metadata": {},
   "outputs": [
    {
     "data": {
      "text/plain": [
       "(6,)"
      ]
     },
     "execution_count": 41,
     "metadata": {},
     "output_type": "execute_result"
    }
   ],
   "source": [
    "W.shape"
   ]
  },
  {
   "cell_type": "code",
   "execution_count": 44,
   "id": "98fd8a6e-cd84-4e3a-9fb0-6bc35e94ba98",
   "metadata": {},
   "outputs": [
    {
     "data": {
      "image/png": "[encoded data removed]",
      "text/plain": [
       "<Figure size 640x480 with 1 Axes>"
      ]
     },
     "metadata": {},
     "output_type": "display_data"
    }
   ],
   "source": [
    "plt.plot(Wri[2])\n",
    "plt.xlabel(\"features\")\n",
    "plt.ylabel(f\"weight coeffiecient with regularization{A[2]}\")\n",
    "plt.show()"
   ]
  },
  {
   "cell_type": "markdown",
   "id": "f662a2ba-a373-4345-8a61-3d0bb1f253d7",
   "metadata": {},
   "source": [
    "3rd feature shrinks, with A[1] lembda"
   ]
  },
  {
   "cell_type": "code",
   "execution_count": 45,
   "id": "edeb674e-2a59-403e-b393-71aa091ff174",
   "metadata": {},
   "outputs": [
    {
     "data": {
      "image/png": "[encoded data removed]",
      "text/plain": [
       "<Figure size 640x480 with 1 Axes>"
      ]
     },
     "metadata": {},
     "output_type": "display_data"
    }
   ],
   "source": [
    "plt.plot(Wri2[2])\n",
    "plt.xlabel(\"features\")\n",
    "plt.ylabel(f\"weight coeffiecient  with regularization{A2[2]}\")\n",
    "plt.show()"
   ]
  },
  {
   "cell_type": "markdown",
   "id": "4f07814d-cbb3-4cd0-b5eb-7e0c161bab6a",
   "metadata": {},
   "source": [
    "3rd feature shrinks significantly , while 1 shrinks a bit"
   ]
  },
  {
   "cell_type": "markdown",
   "id": "3c06a090-72cb-4b27-836e-46762080ce1e",
   "metadata": {},
   "source": [
    "K cross fold validation "
   ]
  },
  {
   "cell_type": "markdown",
   "id": "cc5e3841-bb78-4fee-822b-904b7959d1e2",
   "metadata": {},
   "source": [
    "Let's select the paramter by k cross fold"
   ]
  },
  {
   "cell_type": "code",
   "execution_count": 46,
   "id": "fd4a74a2-e25e-4309-b898-6123c5e22d20",
   "metadata": {},
   "outputs": [],
   "source": [
    "X_train,X_test = X1[:16000,],X1[16000:,]"
   ]
  },
  {
   "cell_type": "code",
   "execution_count": 47,
   "id": "7d631751-93ef-4159-ac43-b9aa99e1984f",
   "metadata": {},
   "outputs": [
    {
     "data": {
      "text/plain": [
       "(4640, 6)"
      ]
     },
     "execution_count": 47,
     "metadata": {},
     "output_type": "execute_result"
    }
   ],
   "source": [
    "X_test.shape"
   ]
  },
  {
   "cell_type": "code",
   "execution_count": 48,
   "id": "491b9b7f-abf8-4c12-aefb-53abf0511434",
   "metadata": {},
   "outputs": [],
   "source": [
    "Y_train,Y_test = Y[:16000],Y[16000:]"
   ]
  },
  {
   "cell_type": "code",
   "execution_count": 49,
   "id": "c54d8196-bc08-40b1-9c9c-6f022cbc470c",
   "metadata": {},
   "outputs": [],
   "source": [
    "def ridge_weights(x,y,r):\n",
    "    c = np.dot(x.T,x)\n",
    "    rg = np.eye(c.shape[0])\n",
    "    rg *= r\n",
    "    cj = c+rg \n",
    "    inv = np.linalg.pinv(cj)\n",
    "    comp = np.dot(x.T,y)\n",
    "    w = np.dot(inv,comp)\n",
    "    return w "
   ]
  },
  {
   "cell_type": "code",
   "execution_count": 50,
   "id": "ebb058c9-4e00-4e62-8a57-dba3d8b9d41c",
   "metadata": {},
   "outputs": [],
   "source": [
    "def prediction(x,w):\n",
    "    y_preds = np.zeros(x.shape[0],dtype=float)\n",
    "    for i in range(x.shape[0]):\n",
    "        pred = np.dot(x[i],w)\n",
    "        y_preds[i] = pred\n",
    "    return y_preds"
   ]
  },
  {
   "cell_type": "code",
   "execution_count": 51,
   "id": "d03ccbdd-5811-43f8-af61-f6bb7aa7bc89",
   "metadata": {},
   "outputs": [],
   "source": [
    "def RMSE(Y_pred,Y_actual):\n",
    "  \n",
    "    s = 0\n",
    "    for i in range(len(Y_pred)):\n",
    "        s += (Y_pred[i] - Y_actual[i])**2\n",
    "    mse = s/(len(Y_pred))\n",
    "    rmse = mse**0.5\n",
    "    return rmse"
   ]
  },
  {
   "cell_type": "code",
   "execution_count": 52,
   "id": "91fce9f5-e9d6-4f33-a5d0-ff93e5d24570",
   "metadata": {},
   "outputs": [],
   "source": [
    "def R2(Y_pred,Y_actual):\n",
    "    y_mean = np.mean(Y_actual)\n",
    "    actual = np.sum((Y_pred - Y_actual)**2) \n",
    "    meaned = np.sum((Y_pred - np.mean(Y_actual))**2)\n",
    "    \n",
    "    r2 = 1-(actual/meaned)\n",
    "    return r2\n",
    "        "
   ]
  },
  {
   "cell_type": "code",
   "execution_count": 53,
   "id": "08681781-4a2d-492d-89f2-bcc9ee7217c1",
   "metadata": {},
   "outputs": [],
   "source": [
    "def K_cross_fold_validation(X_train,Y_train,k,Regulizer_c):\n",
    "    n = X_train.shape[0]\n",
    "    indxs = np.arange(n)\n",
    "    np.random.seed(42)\n",
    "    np.random.shuffle(indxs)\n",
    "    \n",
    "    X_train_s = X_train[indxs,:]\n",
    "    Y_train_s = Y_train[indxs]\n",
    "    \n",
    "    validate = X_train_s.shape[0]//k\n",
    "    \n",
    "    \n",
    "    r_len = len(Regulizer_c)\n",
    "    validation_errors = np.full(r_len,1e13,dtype='float')\n",
    "    \n",
    "    for r in range(len(Regulizer_c)):\n",
    "        fold_error = []\n",
    "        for i in range(k):\n",
    "            intv = i*validate\n",
    "            trainning_set_x = np.concatenate([X_train_s[:intv],X_train_s[intv+validate:]],axis=0)\n",
    "            validation_set_x = X_train_s[intv : intv+validate]\n",
    "            training_set_y = np.concatenate([Y_train_s[:intv],Y_train_s[intv+validate:]],axis=0)\n",
    "            validation_set_y = Y_train_s[intv : intv+validate]\n",
    "    \n",
    "            weight = ridge_weights(trainning_set_x,training_set_y,Regulizer_c[r])\n",
    "            predictions = prediction(validation_set_x,weight)\n",
    "            errors = RMSE(predictions,validation_set_y)\n",
    "    \n",
    "            \n",
    "            fold_error.append(errors)\n",
    "\n",
    "        \n",
    "        validation_errors[r] = np.mean(fold_error)  \n",
    "            \n",
    "    idx = np.argmin(validation_errors)\n",
    "    return Regulizer_c[idx],validation_errors[idx]\n",
    "    \n",
    "    \n"
   ]
  },
  {
   "cell_type": "code",
   "execution_count": 54,
   "id": "073ac654-4e5d-4abe-9e54-ab2f174d7487",
   "metadata": {},
   "outputs": [
    {
     "name": "stdout",
     "output_type": "stream",
     "text": [
      "[50, 60, 70]\n",
      "[80, 90, 100]\n",
      "[110, 120, 150]\n"
     ]
    }
   ],
   "source": [
    "l = [50,60,70,80,90,100,110,120,150,170,190]\n",
    "o =0 \n",
    "for i in range(1,4):\n",
    "    h = l[o:(3*i)]\n",
    "    o = 3*i \n",
    "    print(h)"
   ]
  },
  {
   "cell_type": "code",
   "execution_count": 55,
   "id": "1c06396d-8ca2-4690-a920-9374b8107dcd",
   "metadata": {},
   "outputs": [],
   "source": [
    "lembda,rmse = K_cross_fold_validation(X_train,Y_train,4,l)"
   ]
  },
  {
   "cell_type": "code",
   "execution_count": 56,
   "id": "ff3e8133-2bfb-418a-aebc-aa8deacf6546",
   "metadata": {},
   "outputs": [],
   "source": [
    "W = ridge_weights(X_train,Y_train,lembda)"
   ]
  },
  {
   "cell_type": "code",
   "execution_count": 57,
   "id": "557974c8-8ceb-4777-a995-ccda3def28be",
   "metadata": {},
   "outputs": [
    {
     "data": {
      "text/plain": [
       "array([ 4.90344036e-01,  1.22918265e-02, -1.79190397e-01,  7.57793970e-01,\n",
       "       -1.09392494e-05, -1.27870974e-02])"
      ]
     },
     "execution_count": 57,
     "metadata": {},
     "output_type": "execute_result"
    }
   ],
   "source": [
    "W"
   ]
  },
  {
   "cell_type": "code",
   "execution_count": 58,
   "id": "cdca79fa-459e-4dca-8694-32683c7ae366",
   "metadata": {},
   "outputs": [],
   "source": [
    "training_prediction = prediction(X_train,W)\n",
    "rmse_train = RMSE(training_prediction,Y_train)\n",
    "R2_train = R2(training_prediction,Y_train)"
   ]
  },
  {
   "cell_type": "code",
   "execution_count": 59,
   "id": "0732e99c-c7cf-49a3-b537-544a27045461",
   "metadata": {},
   "outputs": [
    {
     "data": {
      "text/plain": [
       "0.7807608458219378"
      ]
     },
     "execution_count": 59,
     "metadata": {},
     "output_type": "execute_result"
    }
   ],
   "source": [
    "rmse_train"
   ]
  },
  {
   "cell_type": "code",
   "execution_count": 60,
   "id": "10c4e4ae-f7a2-4347-85ff-351bf180fbf4",
   "metadata": {},
   "outputs": [
    {
     "data": {
      "text/plain": [
       "-0.016900157716120745"
      ]
     },
     "execution_count": 60,
     "metadata": {},
     "output_type": "execute_result"
    }
   ],
   "source": [
    "R2_train"
   ]
  },
  {
   "cell_type": "code",
   "execution_count": 61,
   "id": "53d6eb4e-186e-4800-afff-b0e36b6d2a39",
   "metadata": {},
   "outputs": [],
   "source": [
    "testing_prediction = prediction(X_test,W)\n",
    "rmse_test = RMSE(testing_prediction,Y_test)\n",
    "R2_test = R2(testing_prediction,Y_test)"
   ]
  },
  {
   "cell_type": "code",
   "execution_count": 62,
   "id": "9f7e1643-f4d1-40ed-8711-9a0cd111857b",
   "metadata": {},
   "outputs": [
    {
     "data": {
      "text/plain": [
       "0.8330169545490519"
      ]
     },
     "execution_count": 62,
     "metadata": {},
     "output_type": "execute_result"
    }
   ],
   "source": [
    "rmse_test"
   ]
  },
  {
   "cell_type": "code",
   "execution_count": 63,
   "id": "e854f716-2aac-448a-bd56-c4c7a7da0c2f",
   "metadata": {},
   "outputs": [
    {
     "data": {
      "text/plain": [
       "0.0589605669264891"
      ]
     },
     "execution_count": 63,
     "metadata": {},
     "output_type": "execute_result"
    }
   ],
   "source": [
    "R2_test"
   ]
  },
  {
   "cell_type": "code",
   "execution_count": 64,
   "id": "70db8bcb-806b-4b01-83b4-a837473002d6",
   "metadata": {},
   "outputs": [],
   "source": [
    "x_std = X_train.std(axis=0)\n",
    "fixed_std = np.where(x_std==0,1,x_std)\n",
    "X_train_new = X_train - np.mean(X_train,axis=0) / fixed_std  "
   ]
  },
  {
   "cell_type": "code",
   "execution_count": 65,
   "id": "2db5bbc9-df24-4628-aeb4-330b61c80808",
   "metadata": {},
   "outputs": [
    {
     "data": {
      "text/plain": [
       "array([[ 6.29830897e+00,  3.87081843e+01,  4.97931938e+00,\n",
       "        -1.09351291e+00,  3.20765272e+02,  1.97690522e+00],\n",
       "       [ 6.27450897e+00,  1.87081843e+01,  4.23332948e+00,\n",
       "        -1.14544194e+00,  2.39976527e+03,  1.53119149e+00],\n",
       "       [ 5.23050897e+00,  4.97081843e+01,  6.28332799e+00,\n",
       "        -1.04387611e+00,  4.94765272e+02,  2.22360955e+00],\n",
       "       ...,\n",
       "       [ 7.33340897e+00,  4.87081843e+01,  4.76077843e+00,\n",
       "        -1.12979126e+00,  1.08876527e+03,  2.13955415e+00],\n",
       "       [ 4.13230897e+00,  4.37081843e+01,  4.88455410e+00,\n",
       "        -9.59875626e-01,  1.29176527e+03,  2.17241350e+00],\n",
       "       [ 2.58020897e+00,  4.97081843e+01,  4.02538107e+00,\n",
       "        -1.04185074e+00,  6.87765272e+02,  2.02134967e+00]])"
      ]
     },
     "execution_count": 65,
     "metadata": {},
     "output_type": "execute_result"
    }
   ],
   "source": [
    "X_train_new"
   ]
  },
  {
   "cell_type": "code",
   "execution_count": 66,
   "id": "dbb26a54-30fa-460d-9114-ccc34383da6e",
   "metadata": {},
   "outputs": [],
   "source": [
    "lembda2,err = K_cross_fold_validation(X_train_new,Y_train,4,l)"
   ]
  },
  {
   "cell_type": "code",
   "execution_count": 67,
   "id": "9b61377a-c5ac-425e-bf77-5859bc86a4ee",
   "metadata": {},
   "outputs": [
    {
     "data": {
      "text/plain": [
       "190"
      ]
     },
     "execution_count": 67,
     "metadata": {},
     "output_type": "execute_result"
    }
   ],
   "source": [
    "lembda2"
   ]
  },
  {
   "cell_type": "code",
   "execution_count": 68,
   "id": "75bcfcdd-024a-4f8e-bd2f-5dab30cb0e18",
   "metadata": {},
   "outputs": [
    {
     "data": {
      "text/plain": [
       "0.8315025971181809"
      ]
     },
     "execution_count": 68,
     "metadata": {},
     "output_type": "execute_result"
    }
   ],
   "source": [
    "err"
   ]
  },
  {
   "cell_type": "code",
   "execution_count": 69,
   "id": "19bd413f-65be-4520-a992-c590329ea30b",
   "metadata": {},
   "outputs": [],
   "source": [
    "W2 = ridge_weights(X_train_new,Y_train,lembda2)"
   ]
  },
  {
   "cell_type": "code",
   "execution_count": 70,
   "id": "fc128091-3a03-4f86-a88e-8c4e3a07ef49",
   "metadata": {},
   "outputs": [],
   "source": [
    "training_prediction = prediction(X_train,W)\n",
    "rmse_train = RMSE(training_prediction,Y_train)\n",
    "R2_train = R2(training_prediction,Y_train)"
   ]
  },
  {
   "cell_type": "code",
   "execution_count": 71,
   "id": "7219dc77-3801-4d28-80cc-9bc82b4d693b",
   "metadata": {},
   "outputs": [
    {
     "data": {
      "text/plain": [
       "0.7807608458219378"
      ]
     },
     "execution_count": 71,
     "metadata": {},
     "output_type": "execute_result"
    }
   ],
   "source": [
    "rmse_train"
   ]
  },
  {
   "cell_type": "code",
   "execution_count": 72,
   "id": "99c39951-c09d-45ac-b090-f219ffffd1d1",
   "metadata": {},
   "outputs": [
    {
     "data": {
      "text/plain": [
       "-0.016900157716120745"
      ]
     },
     "execution_count": 72,
     "metadata": {},
     "output_type": "execute_result"
    }
   ],
   "source": [
    "R2_train"
   ]
  },
  {
   "cell_type": "code",
   "execution_count": 73,
   "id": "4a2c664b-6f15-4655-8bfc-181b3e575c2c",
   "metadata": {},
   "outputs": [],
   "source": [
    "alphas = np.logspace(-3, 3, 100)"
   ]
  },
  {
   "cell_type": "code",
   "execution_count": 74,
   "id": "11978b4a-8d33-4815-9798-c6d62202b239",
   "metadata": {},
   "outputs": [
    {
     "data": {
      "text/plain": [
       "array([1.00000000e-03, 1.14975700e-03, 1.32194115e-03, 1.51991108e-03,\n",
       "       1.74752840e-03, 2.00923300e-03, 2.31012970e-03, 2.65608778e-03,\n",
       "       3.05385551e-03, 3.51119173e-03, 4.03701726e-03, 4.64158883e-03,\n",
       "       5.33669923e-03, 6.13590727e-03, 7.05480231e-03, 8.11130831e-03,\n",
       "       9.32603347e-03, 1.07226722e-02, 1.23284674e-02, 1.41747416e-02,\n",
       "       1.62975083e-02, 1.87381742e-02, 2.15443469e-02, 2.47707636e-02,\n",
       "       2.84803587e-02, 3.27454916e-02, 3.76493581e-02, 4.32876128e-02,\n",
       "       4.97702356e-02, 5.72236766e-02, 6.57933225e-02, 7.56463328e-02,\n",
       "       8.69749003e-02, 1.00000000e-01, 1.14975700e-01, 1.32194115e-01,\n",
       "       1.51991108e-01, 1.74752840e-01, 2.00923300e-01, 2.31012970e-01,\n",
       "       2.65608778e-01, 3.05385551e-01, 3.51119173e-01, 4.03701726e-01,\n",
       "       4.64158883e-01, 5.33669923e-01, 6.13590727e-01, 7.05480231e-01,\n",
       "       8.11130831e-01, 9.32603347e-01, 1.07226722e+00, 1.23284674e+00,\n",
       "       1.41747416e+00, 1.62975083e+00, 1.87381742e+00, 2.15443469e+00,\n",
       "       2.47707636e+00, 2.84803587e+00, 3.27454916e+00, 3.76493581e+00,\n",
       "       4.32876128e+00, 4.97702356e+00, 5.72236766e+00, 6.57933225e+00,\n",
       "       7.56463328e+00, 8.69749003e+00, 1.00000000e+01, 1.14975700e+01,\n",
       "       1.32194115e+01, 1.51991108e+01, 1.74752840e+01, 2.00923300e+01,\n",
       "       2.31012970e+01, 2.65608778e+01, 3.05385551e+01, 3.51119173e+01,\n",
       "       4.03701726e+01, 4.64158883e+01, 5.33669923e+01, 6.13590727e+01,\n",
       "       7.05480231e+01, 8.11130831e+01, 9.32603347e+01, 1.07226722e+02,\n",
       "       1.23284674e+02, 1.41747416e+02, 1.62975083e+02, 1.87381742e+02,\n",
       "       2.15443469e+02, 2.47707636e+02, 2.84803587e+02, 3.27454916e+02,\n",
       "       3.76493581e+02, 4.32876128e+02, 4.97702356e+02, 5.72236766e+02,\n",
       "       6.57933225e+02, 7.56463328e+02, 8.69749003e+02, 1.00000000e+03])"
      ]
     },
     "execution_count": 74,
     "metadata": {},
     "output_type": "execute_result"
    }
   ],
   "source": [
    "alphas"
   ]
  },
  {
   "cell_type": "code",
   "execution_count": 75,
   "id": "d277dadf-b4f8-44f7-970a-695fb05eeb28",
   "metadata": {},
   "outputs": [],
   "source": [
    "lembda3,err3 =  K_cross_fold_validation(X_train,Y_train,4,alphas)"
   ]
  },
  {
   "cell_type": "code",
   "execution_count": 76,
   "id": "90a141b0-cf4c-4a14-9910-e1f2532bb5eb",
   "metadata": {},
   "outputs": [
    {
     "data": {
      "text/plain": [
       "80"
      ]
     },
     "execution_count": 76,
     "metadata": {},
     "output_type": "execute_result"
    }
   ],
   "source": [
    "lembda"
   ]
  },
  {
   "cell_type": "code",
   "execution_count": 77,
   "id": "de071162-3699-4b21-b9e1-9dc08f4167f8",
   "metadata": {},
   "outputs": [
    {
     "data": {
      "text/plain": [
       "0.7983820858366748"
      ]
     },
     "execution_count": 77,
     "metadata": {},
     "output_type": "execute_result"
    }
   ],
   "source": [
    "err3"
   ]
  },
  {
   "cell_type": "code",
   "execution_count": 78,
   "id": "ca551cb6-360d-47ef-9b10-51953724ead0",
   "metadata": {},
   "outputs": [],
   "source": [
    "class Ridge_Regression:\n",
    "    def __init__(self,alpha=0.6):\n",
    "        self.alpha = alpha\n",
    "        self.Weight = None \n",
    "        \n",
    "    def ridge_weights(self,x,y,r):\n",
    "        x_c = x - np.mean(x,axis=0)\n",
    "        y_c = y - np.mean(y)\n",
    "        c = np.dot(x_c.T,x_c)\n",
    "        rg = np.eye(c.shape[0])\n",
    "        rg *= r\n",
    "        cj = c+rg \n",
    "        inv = np.linalg.pinv(cj)\n",
    "        comp = np.dot(x_c.T,y_c)\n",
    "        w = np.dot(inv,comp)\n",
    "        self.intercept = np.mean(y) - np.dot(np.mean(x,axis=0),w)\n",
    "        return w \n",
    "    \n",
    "    def fit(self,X,Y):\n",
    "        \n",
    "        self.Weight = self.ridge_weights(X,Y,self.alpha)\n",
    "\n",
    "    def prediction(self,x):\n",
    "        if self.Weight is None:\n",
    "            return \"No fit was found to predict\"\n",
    "            \n",
    "        self.y_preds = np.dot(x,self.Weight) + self.intercept \n",
    "        \n",
    "        return self.y_preds\n",
    "        \n",
    "    def RMSE(self,Y_actual):\n",
    "        if self.Weight is None:\n",
    "            return \"No fit was found to predict\"\n",
    "        \n",
    "        if self.y_preds.shape != Y_actual.shape:\n",
    "            return \"Dimesions mismatch between predicted and actual vectors\" \n",
    "        mse = np.mean((self.y_preds - Y_actual)**2)\n",
    "        rmse = mse**0.5\n",
    "        return rmse\n",
    "\n",
    "    def R2(self,Y_actual):\n",
    "        if self.y_preds.shape != Y_actual.shape:\n",
    "            return \"Dimesions mismatch between predicted and actual vectors\"\n",
    "       \n",
    "        \n",
    "        actual = np.sum((Y_actual- self.y_preds)**2 )\n",
    "        meaned = np.sum((Y_actual - np.mean(Y_actual))**2)\n",
    "        \n",
    "        r2 = 1-(actual/meaned)\n",
    "        return r2\n",
    "            \n",
    "    \n",
    "    "
   ]
  },
  {
   "cell_type": "code",
   "execution_count": 79,
   "id": "fcf9047e-f4e1-441d-8d4c-3675e6f62d7b",
   "metadata": {},
   "outputs": [],
   "source": [
    "from sklearn.datasets import load_diabetes\n",
    "X_diabetes, y_diabetes = load_diabetes(return_X_y=True)"
   ]
  },
  {
   "cell_type": "code",
   "execution_count": 80,
   "id": "196be3f1-9cc6-4885-9e53-8bcc55149ab0",
   "metadata": {},
   "outputs": [
    {
     "data": {
      "text/plain": [
       "(442, 10)"
      ]
     },
     "execution_count": 80,
     "metadata": {},
     "output_type": "execute_result"
    }
   ],
   "source": [
    "X_diabetes.shape"
   ]
  },
  {
   "cell_type": "code",
   "execution_count": 81,
   "id": "e4ee1c5f-9858-4443-9cae-10106d74f6d0",
   "metadata": {},
   "outputs": [],
   "source": [
    "X_d_train,X_d_test = X_diabetes[:350,],X_diabetes[:350,]"
   ]
  },
  {
   "cell_type": "code",
   "execution_count": 82,
   "id": "12f117a8-5163-4340-b57b-09a5246dc00c",
   "metadata": {},
   "outputs": [
    {
     "data": {
      "text/plain": [
       "(350, 10)"
      ]
     },
     "execution_count": 82,
     "metadata": {},
     "output_type": "execute_result"
    }
   ],
   "source": [
    "X_d_train.shape"
   ]
  },
  {
   "cell_type": "code",
   "execution_count": 83,
   "id": "77d2c983-d33b-4064-b510-a2b78c222c98",
   "metadata": {},
   "outputs": [],
   "source": [
    "Y_d_train,Y_d_test = y_diabetes[:350],y_diabetes[350:]"
   ]
  },
  {
   "cell_type": "code",
   "execution_count": 84,
   "id": "da2e51bb-2c24-4751-93cc-e3637eca4e03",
   "metadata": {},
   "outputs": [],
   "source": [
    "alphas = np.logspace(-3,3,100)"
   ]
  },
  {
   "cell_type": "code",
   "execution_count": 85,
   "id": "54c54c86-8b14-4b11-9f24-88be202a1484",
   "metadata": {},
   "outputs": [],
   "source": [
    "from sklearn.metrics import mean_squared_error,r2_score"
   ]
  },
  {
   "cell_type": "code",
   "execution_count": 86,
   "id": "cbeea50f-c1f1-4d0a-8946-b6c5308fe4dd",
   "metadata": {},
   "outputs": [],
   "source": [
    "from sklearn.linear_model import Ridge"
   ]
  },
  {
   "cell_type": "markdown",
   "id": "c80b7d5a-0f33-4b92-bf44-cd67a7525b2d",
   "metadata": {},
   "source": [
    "Compairing Sklearn's Ridge Regression vs mine on Calfinornian House Price data set"
   ]
  },
  {
   "cell_type": "code",
   "execution_count": 87,
   "id": "0569399a-b719-4fc2-970a-7b71eb8c9430",
   "metadata": {},
   "outputs": [],
   "source": [
    "skR = Ridge(alpha=80)"
   ]
  },
  {
   "cell_type": "code",
   "execution_count": 88,
   "id": "3afd1af6-a6ad-4668-a679-c15d0972fecb",
   "metadata": {},
   "outputs": [],
   "source": [
    "skM = Ridge_Regression(alpha=80)"
   ]
  },
  {
   "cell_type": "code",
   "execution_count": 89,
   "id": "f91c4e5b-20eb-400c-9bbf-4b77cd2cba9f",
   "metadata": {},
   "outputs": [
    {
     "data": {
      "text/html": [
       "<style>#sk-container-id-1 {\n",
       "  /* Definition of color scheme common for light and dark mode */\n",
       "  --sklearn-color-text: black;\n",
       "  --sklearn-color-line: gray;\n",
       "  /* Definition of color scheme for unfitted estimators */\n",
       "  --sklearn-color-unfitted-level-0: #fff5e6;\n",
       "  --sklearn-color-unfitted-level-1: #f6e4d2;\n",
       "  --sklearn-color-unfitted-level-2: #ffe0b3;\n",
       "  --sklearn-color-unfitted-level-3: chocolate;\n",
       "  /* Definition of color scheme for fitted estimators */\n",
       "  --sklearn-color-fitted-level-0: #f0f8ff;\n",
       "  --sklearn-color-fitted-level-1: #d4ebff;\n",
       "  --sklearn-color-fitted-level-2: #b3dbfd;\n",
       "  --sklearn-color-fitted-level-3: cornflowerblue;\n",
       "\n",
       "  /* Specific color for light theme */\n",
       "  --sklearn-color-text-on-default-background: var(--sg-text-color, var(--theme-code-foreground, var(--jp-content-font-color1, black)));\n",
       "  --sklearn-color-background: var(--sg-background-color, var(--theme-background, var(--jp-layout-color0, white)));\n",
       "  --sklearn-color-border-box: var(--sg-text-color, var(--theme-code-foreground, var(--jp-content-font-color1, black)));\n",
       "  --sklearn-color-icon: #696969;\n",
       "\n",
       "  @media (prefers-color-scheme: dark) {\n",
       "    /* Redefinition of color scheme for dark theme */\n",
       "    --sklearn-color-text-on-default-background: var(--sg-text-color, var(--theme-code-foreground, var(--jp-content-font-color1, white)));\n",
       "    --sklearn-color-background: var(--sg-background-color, var(--theme-background, var(--jp-layout-color0, #111)));\n",
       "    --sklearn-color-border-box: var(--sg-text-color, var(--theme-code-foreground, var(--jp-content-font-color1, white)));\n",
       "    --sklearn-color-icon: #878787;\n",
       "  }\n",
       "}\n",
       "\n",
       "#sk-container-id-1 {\n",
       "  color: var(--sklearn-color-text);\n",
       "}\n",
       "\n",
       "#sk-container-id-1 pre {\n",
       "  padding: 0;\n",
       "}\n",
       "\n",
       "#sk-container-id-1 input.sk-hidden--visually {\n",
       "  border: 0;\n",
       "  clip: rect(1px 1px 1px 1px);\n",
       "  clip: rect(1px, 1px, 1px, 1px);\n",
       "  height: 1px;\n",
       "  margin: -1px;\n",
       "  overflow: hidden;\n",
       "  padding: 0;\n",
       "  position: absolute;\n",
       "  width: 1px;\n",
       "}\n",
       "\n",
       "#sk-container-id-1 div.sk-dashed-wrapped {\n",
       "  border: 1px dashed var(--sklearn-color-line);\n",
       "  margin: 0 0.4em 0.5em 0.4em;\n",
       "  box-sizing: border-box;\n",
       "  padding-bottom: 0.4em;\n",
       "  background-color: var(--sklearn-color-background);\n",
       "}\n",
       "\n",
       "#sk-container-id-1 div.sk-container {\n",
       "  /* jupyter's `normalize.less` sets `[hidden] { display: none; }`\n",
       "     but bootstrap.min.css set `[hidden] { display: none !important; }`\n",
       "     so we also need the `!important` here to be able to override the\n",
       "     default hidden behavior on the sphinx rendered scikit-learn.org.\n",
       "     See: https://github.com/scikit-learn/scikit-learn/issues/21755 */\n",
       "  display: inline-block !important;\n",
       "  position: relative;\n",
       "}\n",
       "\n",
       "#sk-container-id-1 div.sk-text-repr-fallback {\n",
       "  display: none;\n",
       "}\n",
       "\n",
       "div.sk-parallel-item,\n",
       "div.sk-serial,\n",
       "div.sk-item {\n",
       "  /* draw centered vertical line to link estimators */\n",
       "  background-image: linear-gradient(var(--sklearn-color-text-on-default-background), var(--sklearn-color-text-on-default-background));\n",
       "  background-size: 2px 100%;\n",
       "  background-repeat: no-repeat;\n",
       "  background-position: center center;\n",
       "}\n",
       "\n",
       "/* Parallel-specific style estimator block */\n",
       "\n",
       "#sk-container-id-1 div.sk-parallel-item::after {\n",
       "  content: \"\";\n",
       "  width: 100%;\n",
       "  border-bottom: 2px solid var(--sklearn-color-text-on-default-background);\n",
       "  flex-grow: 1;\n",
       "}\n",
       "\n",
       "#sk-container-id-1 div.sk-parallel {\n",
       "  display: flex;\n",
       "  align-items: stretch;\n",
       "  justify-content: center;\n",
       "  background-color: var(--sklearn-color-background);\n",
       "  position: relative;\n",
       "}\n",
       "\n",
       "#sk-container-id-1 div.sk-parallel-item {\n",
       "  display: flex;\n",
       "  flex-direction: column;\n",
       "}\n",
       "\n",
       "#sk-container-id-1 div.sk-parallel-item:first-child::after {\n",
       "  align-self: flex-end;\n",
       "  width: 50%;\n",
       "}\n",
       "\n",
       "#sk-container-id-1 div.sk-parallel-item:last-child::after {\n",
       "  align-self: flex-start;\n",
       "  width: 50%;\n",
       "}\n",
       "\n",
       "#sk-container-id-1 div.sk-parallel-item:only-child::after {\n",
       "  width: 0;\n",
       "}\n",
       "\n",
       "/* Serial-specific style estimator block */\n",
       "\n",
       "#sk-container-id-1 div.sk-serial {\n",
       "  display: flex;\n",
       "  flex-direction: column;\n",
       "  align-items: center;\n",
       "  background-color: var(--sklearn-color-background);\n",
       "  padding-right: 1em;\n",
       "  padding-left: 1em;\n",
       "}\n",
       "\n",
       "\n",
       "/* Toggleable style: style used for estimator/Pipeline/ColumnTransformer box that is\n",
       "clickable and can be expanded/collapsed.\n",
       "- Pipeline and ColumnTransformer use this feature and define the default style\n",
       "- Estimators will overwrite some part of the style using the `sk-estimator` class\n",
       "*/\n",
       "\n",
       "/* Pipeline and ColumnTransformer style (default) */\n",
       "\n",
       "#sk-container-id-1 div.sk-toggleable {\n",
       "  /* Default theme specific background. It is overwritten whether we have a\n",
       "  specific estimator or a Pipeline/ColumnTransformer */\n",
       "  background-color: var(--sklearn-color-background);\n",
       "}\n",
       "\n",
       "/* Toggleable label */\n",
       "#sk-container-id-1 label.sk-toggleable__label {\n",
       "  cursor: pointer;\n",
       "  display: block;\n",
       "  width: 100%;\n",
       "  margin-bottom: 0;\n",
       "  padding: 0.5em;\n",
       "  box-sizing: border-box;\n",
       "  text-align: center;\n",
       "}\n",
       "\n",
       "#sk-container-id-1 label.sk-toggleable__label-arrow:before {\n",
       "  /* Arrow on the left of the label */\n",
       "  content: \"▸\";\n",
       "  float: left;\n",
       "  margin-right: 0.25em;\n",
       "  color: var(--sklearn-color-icon);\n",
       "}\n",
       "\n",
       "#sk-container-id-1 label.sk-toggleable__label-arrow:hover:before {\n",
       "  color: var(--sklearn-color-text);\n",
       "}\n",
       "\n",
       "/* Toggleable content - dropdown */\n",
       "\n",
       "#sk-container-id-1 div.sk-toggleable__content {\n",
       "  max-height: 0;\n",
       "  max-width: 0;\n",
       "  overflow: hidden;\n",
       "  text-align: left;\n",
       "  /* unfitted */\n",
       "  background-color: var(--sklearn-color-unfitted-level-0);\n",
       "}\n",
       "\n",
       "#sk-container-id-1 div.sk-toggleable__content.fitted {\n",
       "  /* fitted */\n",
       "  background-color: var(--sklearn-color-fitted-level-0);\n",
       "}\n",
       "\n",
       "#sk-container-id-1 div.sk-toggleable__content pre {\n",
       "  margin: 0.2em;\n",
       "  border-radius: 0.25em;\n",
       "  color: var(--sklearn-color-text);\n",
       "  /* unfitted */\n",
       "  background-color: var(--sklearn-color-unfitted-level-0);\n",
       "}\n",
       "\n",
       "#sk-container-id-1 div.sk-toggleable__content.fitted pre {\n",
       "  /* unfitted */\n",
       "  background-color: var(--sklearn-color-fitted-level-0);\n",
       "}\n",
       "\n",
       "#sk-container-id-1 input.sk-toggleable__control:checked~div.sk-toggleable__content {\n",
       "  /* Expand drop-down */\n",
       "  max-height: 200px;\n",
       "  max-width: 100%;\n",
       "  overflow: auto;\n",
       "}\n",
       "\n",
       "#sk-container-id-1 input.sk-toggleable__control:checked~label.sk-toggleable__label-arrow:before {\n",
       "  content: \"▾\";\n",
       "}\n",
       "\n",
       "/* Pipeline/ColumnTransformer-specific style */\n",
       "\n",
       "#sk-container-id-1 div.sk-label input.sk-toggleable__control:checked~label.sk-toggleable__label {\n",
       "  color: var(--sklearn-color-text);\n",
       "  background-color: var(--sklearn-color-unfitted-level-2);\n",
       "}\n",
       "\n",
       "#sk-container-id-1 div.sk-label.fitted input.sk-toggleable__control:checked~label.sk-toggleable__label {\n",
       "  background-color: var(--sklearn-color-fitted-level-2);\n",
       "}\n",
       "\n",
       "/* Estimator-specific style */\n",
       "\n",
       "/* Colorize estimator box */\n",
       "#sk-container-id-1 div.sk-estimator input.sk-toggleable__control:checked~label.sk-toggleable__label {\n",
       "  /* unfitted */\n",
       "  background-color: var(--sklearn-color-unfitted-level-2);\n",
       "}\n",
       "\n",
       "#sk-container-id-1 div.sk-estimator.fitted input.sk-toggleable__control:checked~label.sk-toggleable__label {\n",
       "  /* fitted */\n",
       "  background-color: var(--sklearn-color-fitted-level-2);\n",
       "}\n",
       "\n",
       "#sk-container-id-1 div.sk-label label.sk-toggleable__label,\n",
       "#sk-container-id-1 div.sk-label label {\n",
       "  /* The background is the default theme color */\n",
       "  color: var(--sklearn-color-text-on-default-background);\n",
       "}\n",
       "\n",
       "/* On hover, darken the color of the background */\n",
       "#sk-container-id-1 div.sk-label:hover label.sk-toggleable__label {\n",
       "  color: var(--sklearn-color-text);\n",
       "  background-color: var(--sklearn-color-unfitted-level-2);\n",
       "}\n",
       "\n",
       "/* Label box, darken color on hover, fitted */\n",
       "#sk-container-id-1 div.sk-label.fitted:hover label.sk-toggleable__label.fitted {\n",
       "  color: var(--sklearn-color-text);\n",
       "  background-color: var(--sklearn-color-fitted-level-2);\n",
       "}\n",
       "\n",
       "/* Estimator label */\n",
       "\n",
       "#sk-container-id-1 div.sk-label label {\n",
       "  font-family: monospace;\n",
       "  font-weight: bold;\n",
       "  display: inline-block;\n",
       "  line-height: 1.2em;\n",
       "}\n",
       "\n",
       "#sk-container-id-1 div.sk-label-container {\n",
       "  text-align: center;\n",
       "}\n",
       "\n",
       "/* Estimator-specific */\n",
       "#sk-container-id-1 div.sk-estimator {\n",
       "  font-family: monospace;\n",
       "  border: 1px dotted var(--sklearn-color-border-box);\n",
       "  border-radius: 0.25em;\n",
       "  box-sizing: border-box;\n",
       "  margin-bottom: 0.5em;\n",
       "  /* unfitted */\n",
       "  background-color: var(--sklearn-color-unfitted-level-0);\n",
       "}\n",
       "\n",
       "#sk-container-id-1 div.sk-estimator.fitted {\n",
       "  /* fitted */\n",
       "  background-color: var(--sklearn-color-fitted-level-0);\n",
       "}\n",
       "\n",
       "/* on hover */\n",
       "#sk-container-id-1 div.sk-estimator:hover {\n",
       "  /* unfitted */\n",
       "  background-color: var(--sklearn-color-unfitted-level-2);\n",
       "}\n",
       "\n",
       "#sk-container-id-1 div.sk-estimator.fitted:hover {\n",
       "  /* fitted */\n",
       "  background-color: var(--sklearn-color-fitted-level-2);\n",
       "}\n",
       "\n",
       "/* Specification for estimator info (e.g. \"i\" and \"?\") */\n",
       "\n",
       "/* Common style for \"i\" and \"?\" */\n",
       "\n",
       ".sk-estimator-doc-link,\n",
       "a:link.sk-estimator-doc-link,\n",
       "a:visited.sk-estimator-doc-link {\n",
       "  float: right;\n",
       "  font-size: smaller;\n",
       "  line-height: 1em;\n",
       "  font-family: monospace;\n",
       "  background-color: var(--sklearn-color-background);\n",
       "  border-radius: 1em;\n",
       "  height: 1em;\n",
       "  width: 1em;\n",
       "  text-decoration: none !important;\n",
       "  margin-left: 1ex;\n",
       "  /* unfitted */\n",
       "  border: var(--sklearn-color-unfitted-level-1) 1pt solid;\n",
       "  color: var(--sklearn-color-unfitted-level-1);\n",
       "}\n",
       "\n",
       ".sk-estimator-doc-link.fitted,\n",
       "a:link.sk-estimator-doc-link.fitted,\n",
       "a:visited.sk-estimator-doc-link.fitted {\n",
       "  /* fitted */\n",
       "  border: var(--sklearn-color-fitted-level-1) 1pt solid;\n",
       "  color: var(--sklearn-color-fitted-level-1);\n",
       "}\n",
       "\n",
       "/* On hover */\n",
       "div.sk-estimator:hover .sk-estimator-doc-link:hover,\n",
       ".sk-estimator-doc-link:hover,\n",
       "div.sk-label-container:hover .sk-estimator-doc-link:hover,\n",
       ".sk-estimator-doc-link:hover {\n",
       "  /* unfitted */\n",
       "  background-color: var(--sklearn-color-unfitted-level-3);\n",
       "  color: var(--sklearn-color-background);\n",
       "  text-decoration: none;\n",
       "}\n",
       "\n",
       "div.sk-estimator.fitted:hover .sk-estimator-doc-link.fitted:hover,\n",
       ".sk-estimator-doc-link.fitted:hover,\n",
       "div.sk-label-container:hover .sk-estimator-doc-link.fitted:hover,\n",
       ".sk-estimator-doc-link.fitted:hover {\n",
       "  /* fitted */\n",
       "  background-color: var(--sklearn-color-fitted-level-3);\n",
       "  color: var(--sklearn-color-background);\n",
       "  text-decoration: none;\n",
       "}\n",
       "\n",
       "/* Span, style for the box shown on hovering the info icon */\n",
       ".sk-estimator-doc-link span {\n",
       "  display: none;\n",
       "  z-index: 9999;\n",
       "  position: relative;\n",
       "  font-weight: normal;\n",
       "  right: .2ex;\n",
       "  padding: .5ex;\n",
       "  margin: .5ex;\n",
       "  width: min-content;\n",
       "  min-width: 20ex;\n",
       "  max-width: 50ex;\n",
       "  color: var(--sklearn-color-text);\n",
       "  box-shadow: 2pt 2pt 4pt #999;\n",
       "  /* unfitted */\n",
       "  background: var(--sklearn-color-unfitted-level-0);\n",
       "  border: .5pt solid var(--sklearn-color-unfitted-level-3);\n",
       "}\n",
       "\n",
       ".sk-estimator-doc-link.fitted span {\n",
       "  /* fitted */\n",
       "  background: var(--sklearn-color-fitted-level-0);\n",
       "  border: var(--sklearn-color-fitted-level-3);\n",
       "}\n",
       "\n",
       ".sk-estimator-doc-link:hover span {\n",
       "  display: block;\n",
       "}\n",
       "\n",
       "/* \"?\"-specific style due to the `<a>` HTML tag */\n",
       "\n",
       "#sk-container-id-1 a.estimator_doc_link {\n",
       "  float: right;\n",
       "  font-size: 1rem;\n",
       "  line-height: 1em;\n",
       "  font-family: monospace;\n",
       "  background-color: var(--sklearn-color-background);\n",
       "  border-radius: 1rem;\n",
       "  height: 1rem;\n",
       "  width: 1rem;\n",
       "  text-decoration: none;\n",
       "  /* unfitted */\n",
       "  color: var(--sklearn-color-unfitted-level-1);\n",
       "  border: var(--sklearn-color-unfitted-level-1) 1pt solid;\n",
       "}\n",
       "\n",
       "#sk-container-id-1 a.estimator_doc_link.fitted {\n",
       "  /* fitted */\n",
       "  border: var(--sklearn-color-fitted-level-1) 1pt solid;\n",
       "  color: var(--sklearn-color-fitted-level-1);\n",
       "}\n",
       "\n",
       "/* On hover */\n",
       "#sk-container-id-1 a.estimator_doc_link:hover {\n",
       "  /* unfitted */\n",
       "  background-color: var(--sklearn-color-unfitted-level-3);\n",
       "  color: var(--sklearn-color-background);\n",
       "  text-decoration: none;\n",
       "}\n",
       "\n",
       "#sk-container-id-1 a.estimator_doc_link.fitted:hover {\n",
       "  /* fitted */\n",
       "  background-color: var(--sklearn-color-fitted-level-3);\n",
       "}\n",
       "</style><div id=\"sk-container-id-1\" class=\"sk-top-container\"><div class=\"sk-text-repr-fallback\"><pre>Ridge(alpha=80)</pre><b>In a Jupyter environment, please rerun this cell to show the HTML representation or trust the notebook. <br />On GitHub, the HTML representation is unable to render, please try loading this page with nbviewer.org.</b></div><div class=\"sk-container\" hidden><div class=\"sk-item\"><div class=\"sk-estimator fitted sk-toggleable\"><input class=\"sk-toggleable__control sk-hidden--visually\" id=\"sk-estimator-id-1\" type=\"checkbox\" checked><label for=\"sk-estimator-id-1\" class=\"sk-toggleable__label fitted sk-toggleable__label-arrow fitted\">&nbsp;&nbsp;Ridge<a class=\"sk-estimator-doc-link fitted\" rel=\"noreferrer\" target=\"_blank\" href=\"https://scikit-learn.org/1.5/modules/generated/sklearn.linear_model.Ridge.html\">?<span>Documentation for Ridge</span></a><span class=\"sk-estimator-doc-link fitted\">i<span>Fitted</span></span></label><div class=\"sk-toggleable__content fitted\"><pre>Ridge(alpha=80)</pre></div> </div></div></div></div>"
      ],
      "text/plain": [
       "Ridge(alpha=80)"
      ]
     },
     "execution_count": 89,
     "metadata": {},
     "output_type": "execute_result"
    }
   ],
   "source": [
    "skR.fit(X_train,Y_train)"
   ]
  },
  {
   "cell_type": "code",
   "execution_count": 90,
   "id": "a92909ce-3762-44ee-836e-544e2ddb2cf0",
   "metadata": {},
   "outputs": [],
   "source": [
    "skM.fit(X_train,Y_train)"
   ]
  },
  {
   "cell_type": "code",
   "execution_count": 91,
   "id": "fd44b6c4-e5f1-400b-bee3-0938ffce8b1c",
   "metadata": {},
   "outputs": [
    {
     "data": {
      "text/plain": [
       "0.6019039181608977"
      ]
     },
     "execution_count": 91,
     "metadata": {},
     "output_type": "execute_result"
    }
   ],
   "source": [
    "mean_squared_error(skM.prediction(X_train),Y_train)"
   ]
  },
  {
   "cell_type": "code",
   "execution_count": 92,
   "id": "43cb71fc-d5bc-4757-b72f-90ead9df2e10",
   "metadata": {},
   "outputs": [
    {
     "data": {
      "text/plain": [
       "0.6019039181608508"
      ]
     },
     "execution_count": 92,
     "metadata": {},
     "output_type": "execute_result"
    }
   ],
   "source": [
    "mean_squared_error(skR.predict(X_train),Y_train)"
   ]
  },
  {
   "cell_type": "code",
   "execution_count": 93,
   "id": "0d3cb762-20ce-4130-bca5-0041b3cb69d1",
   "metadata": {},
   "outputs": [
    {
     "data": {
      "text/plain": [
       "0.09928065330189917"
      ]
     },
     "execution_count": 93,
     "metadata": {},
     "output_type": "execute_result"
    }
   ],
   "source": [
    "r2_score(skR.predict(X_train),Y_train)"
   ]
  },
  {
   "cell_type": "code",
   "execution_count": 94,
   "id": "47c0cd24-6825-476c-9839-c0566fadc294",
   "metadata": {},
   "outputs": [
    {
     "data": {
      "text/plain": [
       "0.09928065330031333"
      ]
     },
     "execution_count": 94,
     "metadata": {},
     "output_type": "execute_result"
    }
   ],
   "source": [
    "r2_score(skM.prediction(X_train),Y_train)"
   ]
  },
  {
   "cell_type": "markdown",
   "id": "ed7f6060-6733-4bdb-9d3d-cdd0dfe633c3",
   "metadata": {},
   "source": [
    "testing scores for overfitting check"
   ]
  },
  {
   "cell_type": "code",
   "execution_count": 95,
   "id": "fd6285fa-b3b9-49d4-9192-019580edfc91",
   "metadata": {},
   "outputs": [
    {
     "data": {
      "text/plain": [
       "array([2.51826095, 3.06118346, 2.5876031 , ..., 0.7761233 , 0.8996206 ,\n",
       "       1.15188597])"
      ]
     },
     "execution_count": 95,
     "metadata": {},
     "output_type": "execute_result"
    }
   ],
   "source": [
    "skR.predict(X_test)"
   ]
  },
  {
   "cell_type": "code",
   "execution_count": 96,
   "id": "b461791a-400c-45f2-8f03-fbe3e0acb920",
   "metadata": {},
   "outputs": [
    {
     "data": {
      "text/plain": [
       "0.6790979460354734"
      ]
     },
     "execution_count": 96,
     "metadata": {},
     "output_type": "execute_result"
    }
   ],
   "source": [
    "mean_squared_error(skR.predict(X_test),Y_test)"
   ]
  },
  {
   "cell_type": "code",
   "execution_count": 97,
   "id": "73df9294-4a5a-45f0-9a9b-7d499caeff8e",
   "metadata": {},
   "outputs": [
    {
     "data": {
      "text/plain": [
       "0.1465757354509991"
      ]
     },
     "execution_count": 97,
     "metadata": {},
     "output_type": "execute_result"
    }
   ],
   "source": [
    "r2_score(skR.predict(X_test),Y_test)"
   ]
  },
  {
   "cell_type": "code",
   "execution_count": 98,
   "id": "67b2b6eb-da11-4705-a75c-6e875e845e61",
   "metadata": {},
   "outputs": [
    {
     "data": {
      "text/plain": [
       "0.6790979460355182"
      ]
     },
     "execution_count": 98,
     "metadata": {},
     "output_type": "execute_result"
    }
   ],
   "source": [
    "mean_squared_error(skM.prediction(X_test),Y_test)"
   ]
  },
  {
   "cell_type": "code",
   "execution_count": 99,
   "id": "7a4567ce-e5e2-4aa6-bc0f-a1478b936f51",
   "metadata": {},
   "outputs": [
    {
     "data": {
      "text/plain": [
       "0.14657573544950675"
      ]
     },
     "execution_count": 99,
     "metadata": {},
     "output_type": "execute_result"
    }
   ],
   "source": [
    "r2_score(skM.prediction(X_test),Y_test)"
   ]
  },
  {
   "cell_type": "code",
   "execution_count": null,
   "id": "576825ee-f401-46a4-9dd7-ccfe7c421f15",
   "metadata": {},
   "outputs": [],
   "source": []
  }
 ],
 "metadata": {
  "kernelspec": {
   "display_name": "Python 3 (ipykernel)",
   "language": "python",
   "name": "python3"
  },
  "language_info": {
   "codemirror_mode": {
    "name": "ipython",
    "version": 3
   },
   "file_extension": ".py",
   "mimetype": "text/x-python",
   "name": "python",
   "nbconvert_exporter": "python",
   "pygments_lexer": "ipython3",
   "version": "3.12.7"
  }
 },
 "nbformat": 4,
 "nbformat_minor": 5
}
