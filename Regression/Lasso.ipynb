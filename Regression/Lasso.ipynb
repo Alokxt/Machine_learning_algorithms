{
 "cells": [
  {
   "cell_type": "code",
   "execution_count": 1,
   "id": "3c570777-0449-4a5c-a9d5-ccd600afb3d8",
   "metadata": {},
   "outputs": [],
   "source": [
    "import pandas as pd\n",
    "import numpy as np\n",
    "import matplotlib.pyplot as plt \n",
    "import seaborn as sns"
   ]
  },
  {
   "cell_type": "code",
   "execution_count": 2,
   "id": "d295d8b9-004e-4b8f-974a-5222af7e30bf",
   "metadata": {},
   "outputs": [],
   "source": [
    "from sklearn.datasets import fetch_california_housing"
   ]
  },
  {
   "cell_type": "code",
   "execution_count": 3,
   "id": "69b66ed1-4dbd-48a9-bb62-79a7dac93739",
   "metadata": {},
   "outputs": [],
   "source": [
    "data = fetch_california_housing()"
   ]
  },
  {
   "cell_type": "code",
   "execution_count": 4,
   "id": "84974900-5f3e-4647-8571-02b2d4f0e95b",
   "metadata": {},
   "outputs": [
    {
     "data": {
      "text/plain": [
       "{'data': array([[   8.3252    ,   41.        ,    6.98412698, ...,    2.55555556,\n",
       "           37.88      , -122.23      ],\n",
       "        [   8.3014    ,   21.        ,    6.23813708, ...,    2.10984183,\n",
       "           37.86      , -122.22      ],\n",
       "        [   7.2574    ,   52.        ,    8.28813559, ...,    2.80225989,\n",
       "           37.85      , -122.24      ],\n",
       "        ...,\n",
       "        [   1.7       ,   17.        ,    5.20554273, ...,    2.3256351 ,\n",
       "           39.43      , -121.22      ],\n",
       "        [   1.8672    ,   18.        ,    5.32951289, ...,    2.12320917,\n",
       "           39.43      , -121.32      ],\n",
       "        [   2.3886    ,   16.        ,    5.25471698, ...,    2.61698113,\n",
       "           39.37      , -121.24      ]]),\n",
       " 'target': array([4.526, 3.585, 3.521, ..., 0.923, 0.847, 0.894]),\n",
       " 'frame': None,\n",
       " 'target_names': ['MedHouseVal'],\n",
       " 'feature_names': ['MedInc',\n",
       "  'HouseAge',\n",
       "  'AveRooms',\n",
       "  'AveBedrms',\n",
       "  'Population',\n",
       "  'AveOccup',\n",
       "  'Latitude',\n",
       "  'Longitude'],\n",
       " 'DESCR': '.. _california_housing_dataset:\\n\\nCalifornia Housing dataset\\n--------------------------\\n\\n**Data Set Characteristics:**\\n\\n:Number of Instances: 20640\\n\\n:Number of Attributes: 8 numeric, predictive attributes and the target\\n\\n:Attribute Information:\\n    - MedInc        median income in block group\\n    - HouseAge      median house age in block group\\n    - AveRooms      average number of rooms per household\\n    - AveBedrms     average number of bedrooms per household\\n    - Population    block group population\\n    - AveOccup      average number of household members\\n    - Latitude      block group latitude\\n    - Longitude     block group longitude\\n\\n:Missing Attribute Values: None\\n\\nThis dataset was obtained from the StatLib repository.\\nhttps://www.dcc.fc.up.pt/~ltorgo/Regression/cal_housing.html\\n\\nThe target variable is the median house value for California districts,\\nexpressed in hundreds of thousands of dollars ($100,000).\\n\\nThis dataset was derived from the 1990 U.S. census, using one row per census\\nblock group. A block group is the smallest geographical unit for which the U.S.\\nCensus Bureau publishes sample data (a block group typically has a population\\nof 600 to 3,000 people).\\n\\nA household is a group of people residing within a home. Since the average\\nnumber of rooms and bedrooms in this dataset are provided per household, these\\ncolumns may take surprisingly large values for block groups with few households\\nand many empty houses, such as vacation resorts.\\n\\nIt can be downloaded/loaded using the\\n:func:`sklearn.datasets.fetch_california_housing` function.\\n\\n.. rubric:: References\\n\\n- Pace, R. Kelley and Ronald Barry, Sparse Spatial Autoregressions,\\n  Statistics and Probability Letters, 33 (1997) 291-297\\n'}"
      ]
     },
     "execution_count": 4,
     "metadata": {},
     "output_type": "execute_result"
    }
   ],
   "source": [
    "data"
   ]
  },
  {
   "cell_type": "code",
   "execution_count": 5,
   "id": "a15702bb-ad75-4c27-9b8e-c79af9ebcf5d",
   "metadata": {},
   "outputs": [],
   "source": [
    "X,y = data.data,data.target"
   ]
  },
  {
   "cell_type": "code",
   "execution_count": 6,
   "id": "a3143863-65c1-4233-8af3-9483e3f1fca8",
   "metadata": {},
   "outputs": [
    {
     "data": {
      "text/plain": [
       "(20640, 8)"
      ]
     },
     "execution_count": 6,
     "metadata": {},
     "output_type": "execute_result"
    }
   ],
   "source": [
    "X.shape"
   ]
  },
  {
   "cell_type": "code",
   "execution_count": 7,
   "id": "ae17fc04-2d1f-4431-aef3-cb2bd0154b45",
   "metadata": {},
   "outputs": [
    {
     "data": {
      "text/plain": [
       "(20640,)"
      ]
     },
     "execution_count": 7,
     "metadata": {},
     "output_type": "execute_result"
    }
   ],
   "source": [
    "y.shape"
   ]
  },
  {
   "cell_type": "markdown",
   "id": "6d1a5e3c-b08b-4252-a912-9d3b9feb6540",
   "metadata": {},
   "source": [
    "Lasso loss = min ||y-Wx||^2 + A/2 |w|"
   ]
  },
  {
   "cell_type": "markdown",
   "id": "a6cda929-976b-44b3-ac56-87b4f6ca09b4",
   "metadata": {},
   "source": [
    "co ordinate descent, W = 1/L2norm *S(z,lembda)\n",
    "S(z,lembda) = sign(z)*max(|z|-lembda,0)\n",
    "z = Xj(Y - Y_pred_without_jth_feature)"
   ]
  },
  {
   "cell_type": "code",
   "execution_count": 8,
   "id": "edbd2d56-7f0a-47f9-b1d3-3a3958b01607",
   "metadata": {},
   "outputs": [],
   "source": [
    "def gradeint(x,y,w):\n",
    "    return ((x.T@x)@w-(x.T@y))"
   ]
  },
  {
   "cell_type": "code",
   "execution_count": 9,
   "id": "535a2098-35d8-472d-9c4a-a53ba3babdb9",
   "metadata": {},
   "outputs": [],
   "source": [
    "def soft_threshold(x,z,lembda):\n",
    "    if z>0:\n",
    "        return max(z-lembda,0)/(np.linalg.norm(x,ord=2))**2\n",
    "    else:\n",
    "        return -max(np.abs(z)-lembda,0)/ (np.linalg.norm(x,ord=2))**2"
   ]
  },
  {
   "cell_type": "code",
   "execution_count": 10,
   "id": "6820452a-bbbe-466d-8410-6113b6c3970f",
   "metadata": {},
   "outputs": [],
   "source": [
    "def weight(x,y):\n",
    "    c = np.dot(x.T,x)\n",
    "    inv = np.linalg.pinv(c)\n",
    "    comp = np.dot(x.T,y)\n",
    "    w = np.dot(inv,comp)\n",
    "    return w"
   ]
  },
  {
   "cell_type": "code",
   "execution_count": 11,
   "id": "50cef66b-344e-438c-9d4a-e29693da0984",
   "metadata": {},
   "outputs": [],
   "source": [
    "def prediction_f(X_train_new,Y_train,f):\n",
    "    X_n = np.concatenate([X_train_new[:,:f],X_train_new[:,f+1:]],axis=1)\n",
    "    \n",
    "    c = np.dot(X_n.T,X_n)\n",
    "    inv = np.linalg.pinv(c)\n",
    "    comp = np.dot(X_n.T,Y_train)\n",
    "    w = np.dot(inv,comp)\n",
    "    pred = np.dot(X_n,w)\n",
    "    return pred"
   ]
  },
  {
   "cell_type": "code",
   "execution_count": 19,
   "id": "f119dbdc-1be8-46af-a3e9-a123b8797b2d",
   "metadata": {},
   "outputs": [],
   "source": [
    "def co_ordinate_descent(X_train_new,Y_train,k=100,lembda=1e3):\n",
    "    W_lasso  = np.ones(X_train_new.shape[1],dtype='float')\n",
    "    \n",
    "    for i in range(k):\n",
    "        \n",
    "        W_lasso_n = W_lasso.copy()\n",
    "        for f in range(X_train_new.shape[1]):\n",
    "            \n",
    "            predict_without_f = prediction_f(X_train_new,Y_train,f)\n",
    "            \n",
    "        \n",
    "            z = np.dot(X_train_new[:,f].T,(Y_train -predict_without_f))\n",
    "            \n",
    "            threshold = soft_threshold(X_train_new[:,f],z,lembda)\n",
    "           \n",
    "            W_lasso_n[f] += threshold \n",
    "            \n",
    "            \n",
    "        \n",
    "        if np.linalg.norm(W_lasso_n  - W_lasso) < -1e-2:\n",
    "           \n",
    "            print(i)\n",
    "            return W_lasso_n \n",
    "        W_lasso = W_lasso_n.copy()\n",
    "        \n",
    "            \n",
    "    return W_lasso\n",
    "    \n",
    "    \n",
    "    "
   ]
  },
  {
   "cell_type": "code",
   "execution_count": 20,
   "id": "90f8d33a-bc23-4099-b5bb-27f18bb9639e",
   "metadata": {},
   "outputs": [],
   "source": []
  },
  {
   "cell_type": "code",
   "execution_count": 21,
   "id": "91caac99-cbaf-4f96-b1ec-9906d23d63a3",
   "metadata": {},
   "outputs": [
    {
     "data": {
      "text/plain": [
       "(16000, 8)"
      ]
     },
     "execution_count": 21,
     "metadata": {},
     "output_type": "execute_result"
    }
   ],
   "source": [
    "X_train.shape"
   ]
  },
  {
   "cell_type": "code",
   "execution_count": 22,
   "id": "2eea5dfa-5cb6-4f1e-b5a3-92dd58221378",
   "metadata": {},
   "outputs": [
    {
     "data": {
      "text/plain": [
       "(16000,)"
      ]
     },
     "execution_count": 22,
     "metadata": {},
     "output_type": "execute_result"
    }
   ],
   "source": [
    "Y_train.shape"
   ]
  },
  {
   "cell_type": "code",
   "execution_count": 23,
   "id": "85ee4bcd-8863-47a4-bd9a-4f1b811a92af",
   "metadata": {},
   "outputs": [],
   "source": [
    "X_test,Y_test = X[16000:,],y[16000:]"
   ]
  },
  {
   "cell_type": "code",
   "execution_count": 24,
   "id": "289681be-b3dc-4c4d-9c66-bbad3fee3149",
   "metadata": {},
   "outputs": [
    {
     "data": {
      "text/plain": [
       "(4640, 8)"
      ]
     },
     "execution_count": 24,
     "metadata": {},
     "output_type": "execute_result"
    }
   ],
   "source": [
    "X_test.shape"
   ]
  },
  {
   "cell_type": "code",
   "execution_count": 72,
   "id": "556ae461-1019-4522-bf97-d55ab93106a0",
   "metadata": {},
   "outputs": [],
   "source": [
    "W =co_ordinate_descent(X_train,Y_train,k=100,lembda=1e10)"
   ]
  },
  {
   "cell_type": "code",
   "execution_count": 73,
   "id": "bdedec49-100a-45d4-8c9c-371b2f05a141",
   "metadata": {},
   "outputs": [
    {
     "data": {
      "text/plain": [
       "(8,)"
      ]
     },
     "execution_count": 73,
     "metadata": {},
     "output_type": "execute_result"
    }
   ],
   "source": [
    "W.shape"
   ]
  },
  {
   "cell_type": "code",
   "execution_count": 74,
   "id": "89f06e0d-0e61-4eef-b3d2-6fb3d7759538",
   "metadata": {},
   "outputs": [],
   "source": [
    "def prediction(X,w):\n",
    "    return X@w"
   ]
  },
  {
   "cell_type": "code",
   "execution_count": 75,
   "id": "e1e8c20f-bc8f-4dc8-ac8b-f04704bd17b6",
   "metadata": {},
   "outputs": [],
   "source": [
    "y_preds = prediction(X_train,W)"
   ]
  },
  {
   "cell_type": "code",
   "execution_count": 76,
   "id": "9fec6c37-0e60-463e-a4bd-f9151bab5501",
   "metadata": {},
   "outputs": [],
   "source": [
    "from sklearn.metrics import mean_squared_error,r2_score"
   ]
  },
  {
   "cell_type": "code",
   "execution_count": 77,
   "id": "43f6a602-f658-45f4-977a-8a8dd25ce652",
   "metadata": {},
   "outputs": [
    {
     "name": "stdout",
     "output_type": "stream",
     "text": [
      "1826.5166657520447\n"
     ]
    }
   ],
   "source": [
    "print(mean_squared_error(Y_train,y_preds)**0.5)"
   ]
  },
  {
   "cell_type": "code",
   "execution_count": 78,
   "id": "82d4dcdb-d690-4318-93de-e09388c66d63",
   "metadata": {},
   "outputs": [
    {
     "name": "stdout",
     "output_type": "stream",
     "text": [
      "-2603067.6734371693\n"
     ]
    }
   ],
   "source": [
    "print(r2_score(Y_train,y_preds))"
   ]
  },
  {
   "cell_type": "code",
   "execution_count": 34,
   "id": "19d11ae4-3b33-46e0-8729-3b8687f3a97a",
   "metadata": {},
   "outputs": [
    {
     "data": {
      "text/plain": [
       "array([[   8.3252    ,   41.        ,    6.98412698, ...,    2.55555556,\n",
       "          37.88      , -122.23      ],\n",
       "       [   8.3014    ,   21.        ,    6.23813708, ...,    2.10984183,\n",
       "          37.86      , -122.22      ],\n",
       "       [   7.2574    ,   52.        ,    8.28813559, ...,    2.80225989,\n",
       "          37.85      , -122.24      ],\n",
       "       ...,\n",
       "       [   9.3603    ,   51.        ,    6.76558603, ...,    2.71820449,\n",
       "          37.75      , -122.47      ],\n",
       "       [   6.1592    ,   46.        ,    6.8893617 , ...,    2.75106383,\n",
       "          37.75      , -122.47      ],\n",
       "       [   4.6071    ,   52.        ,    6.03018868, ...,    2.6       ,\n",
       "          37.75      , -122.47      ]])"
      ]
     },
     "execution_count": 34,
     "metadata": {},
     "output_type": "execute_result"
    }
   ],
   "source": [
    "X_train"
   ]
  },
  {
   "cell_type": "code",
   "execution_count": 35,
   "id": "119e611d-c90f-433b-864a-987aed2c44ff",
   "metadata": {},
   "outputs": [
    {
     "data": {
      "text/plain": [
       "array([4.526  , 3.585  , 3.521  , ..., 5.00001, 3.817  , 3.374  ])"
      ]
     },
     "execution_count": 35,
     "metadata": {},
     "output_type": "execute_result"
    }
   ],
   "source": [
    "Y_train"
   ]
  },
  {
   "cell_type": "code",
   "execution_count": 43,
   "id": "7be382c0-0585-4cbb-b3d8-bbf68dcbc8eb",
   "metadata": {},
   "outputs": [
    {
     "data": {
      "text/plain": [
       "array([ 297.53869206, 2355.2612594 ,  483.03124181, ..., 1076.1116217 ,\n",
       "       1271.23707234,  670.59276038])"
      ]
     },
     "execution_count": 43,
     "metadata": {},
     "output_type": "execute_result"
    }
   ],
   "source": [
    "y_preds"
   ]
  },
  {
   "cell_type": "code",
   "execution_count": 79,
   "id": "18f82d5b-ec0e-4f2d-92b3-142632613067",
   "metadata": {},
   "outputs": [],
   "source": [
    "X_std = X_train.std(axis=0)\n",
    "fixed_std = np.where(X_std==0,1,X_std)\n",
    "X_scaled = X_train - X_train.mean(axis=0)/fixed_std"
   ]
  },
  {
   "cell_type": "code",
   "execution_count": 80,
   "id": "06ac7c25-3999-4aff-bd00-e04a12f804d4",
   "metadata": {},
   "outputs": [],
   "source": [
    "Y_std = Y_train.std(axis=0)\n",
    "fixed_stdy = np.where(Y_std==0,1,Y_std)\n",
    "Y_scaled = Y_train-Y_train.mean()/fixed_stdy"
   ]
  },
  {
   "cell_type": "code",
   "execution_count": 82,
   "id": "f5c2ff28-b506-4a7a-82a9-93186fe53d34",
   "metadata": {},
   "outputs": [],
   "source": [
    "W2 =co_ordinate_descent(X_scaled,Y_scaled,k=100,lembda=1e4)"
   ]
  },
  {
   "cell_type": "code",
   "execution_count": 191,
   "id": "30c5ee10-d537-4f8b-a035-bc0359d18235",
   "metadata": {},
   "outputs": [],
   "source": [
    "intercept = Y_train.mean() - X_train.mean(axis=0).T@W2"
   ]
  },
  {
   "cell_type": "code",
   "execution_count": 192,
   "id": "8bf008c2-c2bb-4f8b-a224-79929596dbe2",
   "metadata": {},
   "outputs": [
    {
     "data": {
      "text/plain": [
       "5780.839885385227"
      ]
     },
     "execution_count": 192,
     "metadata": {},
     "output_type": "execute_result"
    }
   ],
   "source": [
    "intercept"
   ]
  },
  {
   "cell_type": "code",
   "execution_count": 93,
   "id": "aa193517-6e3a-4735-ac2d-a014a9e19ce9",
   "metadata": {},
   "outputs": [],
   "source": [
    "y_preds2 = X_train@W2 + intercept"
   ]
  },
  {
   "cell_type": "code",
   "execution_count": 94,
   "id": "deda0744-53ea-408f-8a3d-dee4c0c70136",
   "metadata": {},
   "outputs": [
    {
     "name": "stdout",
     "output_type": "stream",
     "text": [
      "1168.099408109506\n"
     ]
    }
   ],
   "source": [
    "print(mean_squared_error(Y_train,y_preds2)**0.5)"
   ]
  },
  {
   "cell_type": "code",
   "execution_count": 95,
   "id": "32be8ec6-fe1e-482d-9540-dce8d8f58a10",
   "metadata": {},
   "outputs": [
    {
     "name": "stdout",
     "output_type": "stream",
     "text": [
      "-1064627.173946721\n"
     ]
    }
   ],
   "source": [
    "print(r2_score(Y_train,y_preds2))"
   ]
  },
  {
   "cell_type": "code",
   "execution_count": 96,
   "id": "b974a399-c85e-4e58-b0cb-d70ce1eab9ff",
   "metadata": {},
   "outputs": [],
   "source": [
    "from sklearn.datasets import load_diabetes\n",
    "X, y = load_diabetes(return_X_y=True)"
   ]
  },
  {
   "cell_type": "code",
   "execution_count": 97,
   "id": "28545d67-b5be-4935-bd06-5d204c90b372",
   "metadata": {},
   "outputs": [
    {
     "data": {
      "text/plain": [
       "(442, 10)"
      ]
     },
     "execution_count": 97,
     "metadata": {},
     "output_type": "execute_result"
    }
   ],
   "source": [
    "X.shape"
   ]
  },
  {
   "cell_type": "code",
   "execution_count": 98,
   "id": "94d49cc4-f1aa-4497-814d-688e7858d1f6",
   "metadata": {},
   "outputs": [],
   "source": [
    "X_train,Y_train = X[:370,],y[:370]"
   ]
  },
  {
   "cell_type": "code",
   "execution_count": 99,
   "id": "93334d3b-2c29-4af3-b6d6-9c6e8c10e151",
   "metadata": {},
   "outputs": [],
   "source": [
    "X_test,Y_test = X[370:,],y[370:]"
   ]
  },
  {
   "cell_type": "code",
   "execution_count": 100,
   "id": "d2086dd1-007c-466f-9110-cd7b01b21f97",
   "metadata": {},
   "outputs": [
    {
     "data": {
      "text/plain": [
       "(370, 10)"
      ]
     },
     "execution_count": 100,
     "metadata": {},
     "output_type": "execute_result"
    }
   ],
   "source": [
    "X_train.shape"
   ]
  },
  {
   "cell_type": "code",
   "execution_count": 101,
   "id": "5c05fa04-98a7-4bb7-8c16-30104abaf613",
   "metadata": {},
   "outputs": [],
   "source": [
    "X_std = X_train.std(axis=0)\n",
    "fixed_std = np.where(X_std==0,1,X_std)\n",
    "X_scaled = X_train - X_train.mean(axis=0)/fixed_std"
   ]
  },
  {
   "cell_type": "code",
   "execution_count": 102,
   "id": "60f16360-7a55-4128-9cef-516753caf218",
   "metadata": {},
   "outputs": [],
   "source": [
    "Y_std = Y_train.std(axis=0)\n",
    "fixed_stdy = np.where(Y_std==0,1,Y_std)\n",
    "Y_scaled = Y_train-Y_train.mean()/fixed_stdy"
   ]
  },
  {
   "cell_type": "code",
   "execution_count": 199,
   "id": "e01a2ab4-b2f2-464b-a195-6fd477b559cc",
   "metadata": {},
   "outputs": [],
   "source": [
    "W2 =co_ordinate_descent(X_scaled,Y_scaled,k=10000,lembda=1e3)"
   ]
  },
  {
   "cell_type": "code",
   "execution_count": 200,
   "id": "d54edeeb-0c52-46da-80e7-4e3f2b8bd4a3",
   "metadata": {},
   "outputs": [],
   "source": [
    "intercept = Y_train.mean() - X_train.mean(axis=0).T@W2"
   ]
  },
  {
   "cell_type": "code",
   "execution_count": 201,
   "id": "b5c07486-0751-4b47-9993-635c4875c2cf",
   "metadata": {},
   "outputs": [
    {
     "data": {
      "text/plain": [
       "153.14273066819771"
      ]
     },
     "execution_count": 201,
     "metadata": {},
     "output_type": "execute_result"
    }
   ],
   "source": [
    "intercept"
   ]
  },
  {
   "cell_type": "code",
   "execution_count": 202,
   "id": "34437634-fcdd-4920-a51f-64d38bbc6a9a",
   "metadata": {},
   "outputs": [],
   "source": [
    "y_preds2 = X_train@W2 + intercept"
   ]
  },
  {
   "cell_type": "code",
   "execution_count": 196,
   "id": "190e946c-e916-4077-8aae-b8411a9f8144",
   "metadata": {},
   "outputs": [],
   "source": [
    "y_preds3 = X_train@W3"
   ]
  },
  {
   "cell_type": "code",
   "execution_count": 203,
   "id": "1be32a27-e049-4755-97e2-5ef3541b550c",
   "metadata": {},
   "outputs": [
    {
     "name": "stdout",
     "output_type": "stream",
     "text": [
      "77.02311646971725\n"
     ]
    }
   ],
   "source": [
    "print(mean_squared_error(Y_train,y_preds2)**0.5)"
   ]
  },
  {
   "cell_type": "code",
   "execution_count": 204,
   "id": "1cac562b-593e-4613-a002-98aa116abb5d",
   "metadata": {},
   "outputs": [
    {
     "name": "stdout",
     "output_type": "stream",
     "text": [
      "0.003254336031872307\n"
     ]
    }
   ],
   "source": [
    "print(r2_score(Y_train,y_preds2))"
   ]
  },
  {
   "cell_type": "code",
   "execution_count": 144,
   "id": "4b70bc70-4c14-4d4d-83fb-c50c50a488ed",
   "metadata": {},
   "outputs": [],
   "source": [
    "from sklearn.linear_model import Lasso"
   ]
  },
  {
   "cell_type": "code",
   "execution_count": 187,
   "id": "e4541ba1-1a53-4a33-bbdb-3c14ba6b9a07",
   "metadata": {},
   "outputs": [
    {
     "data": {
      "text/html": [
       "<style>#sk-container-id-1 {\n",
       "  /* Definition of color scheme common for light and dark mode */\n",
       "  --sklearn-color-text: black;\n",
       "  --sklearn-color-line: gray;\n",
       "  /* Definition of color scheme for unfitted estimators */\n",
       "  --sklearn-color-unfitted-level-0: #fff5e6;\n",
       "  --sklearn-color-unfitted-level-1: #f6e4d2;\n",
       "  --sklearn-color-unfitted-level-2: #ffe0b3;\n",
       "  --sklearn-color-unfitted-level-3: chocolate;\n",
       "  /* Definition of color scheme for fitted estimators */\n",
       "  --sklearn-color-fitted-level-0: #f0f8ff;\n",
       "  --sklearn-color-fitted-level-1: #d4ebff;\n",
       "  --sklearn-color-fitted-level-2: #b3dbfd;\n",
       "  --sklearn-color-fitted-level-3: cornflowerblue;\n",
       "\n",
       "  /* Specific color for light theme */\n",
       "  --sklearn-color-text-on-default-background: var(--sg-text-color, var(--theme-code-foreground, var(--jp-content-font-color1, black)));\n",
       "  --sklearn-color-background: var(--sg-background-color, var(--theme-background, var(--jp-layout-color0, white)));\n",
       "  --sklearn-color-border-box: var(--sg-text-color, var(--theme-code-foreground, var(--jp-content-font-color1, black)));\n",
       "  --sklearn-color-icon: #696969;\n",
       "\n",
       "  @media (prefers-color-scheme: dark) {\n",
       "    /* Redefinition of color scheme for dark theme */\n",
       "    --sklearn-color-text-on-default-background: var(--sg-text-color, var(--theme-code-foreground, var(--jp-content-font-color1, white)));\n",
       "    --sklearn-color-background: var(--sg-background-color, var(--theme-background, var(--jp-layout-color0, #111)));\n",
       "    --sklearn-color-border-box: var(--sg-text-color, var(--theme-code-foreground, var(--jp-content-font-color1, white)));\n",
       "    --sklearn-color-icon: #878787;\n",
       "  }\n",
       "}\n",
       "\n",
       "#sk-container-id-1 {\n",
       "  color: var(--sklearn-color-text);\n",
       "}\n",
       "\n",
       "#sk-container-id-1 pre {\n",
       "  padding: 0;\n",
       "}\n",
       "\n",
       "#sk-container-id-1 input.sk-hidden--visually {\n",
       "  border: 0;\n",
       "  clip: rect(1px 1px 1px 1px);\n",
       "  clip: rect(1px, 1px, 1px, 1px);\n",
       "  height: 1px;\n",
       "  margin: -1px;\n",
       "  overflow: hidden;\n",
       "  padding: 0;\n",
       "  position: absolute;\n",
       "  width: 1px;\n",
       "}\n",
       "\n",
       "#sk-container-id-1 div.sk-dashed-wrapped {\n",
       "  border: 1px dashed var(--sklearn-color-line);\n",
       "  margin: 0 0.4em 0.5em 0.4em;\n",
       "  box-sizing: border-box;\n",
       "  padding-bottom: 0.4em;\n",
       "  background-color: var(--sklearn-color-background);\n",
       "}\n",
       "\n",
       "#sk-container-id-1 div.sk-container {\n",
       "  /* jupyter's `normalize.less` sets `[hidden] { display: none; }`\n",
       "     but bootstrap.min.css set `[hidden] { display: none !important; }`\n",
       "     so we also need the `!important` here to be able to override the\n",
       "     default hidden behavior on the sphinx rendered scikit-learn.org.\n",
       "     See: https://github.com/scikit-learn/scikit-learn/issues/21755 */\n",
       "  display: inline-block !important;\n",
       "  position: relative;\n",
       "}\n",
       "\n",
       "#sk-container-id-1 div.sk-text-repr-fallback {\n",
       "  display: none;\n",
       "}\n",
       "\n",
       "div.sk-parallel-item,\n",
       "div.sk-serial,\n",
       "div.sk-item {\n",
       "  /* draw centered vertical line to link estimators */\n",
       "  background-image: linear-gradient(var(--sklearn-color-text-on-default-background), var(--sklearn-color-text-on-default-background));\n",
       "  background-size: 2px 100%;\n",
       "  background-repeat: no-repeat;\n",
       "  background-position: center center;\n",
       "}\n",
       "\n",
       "/* Parallel-specific style estimator block */\n",
       "\n",
       "#sk-container-id-1 div.sk-parallel-item::after {\n",
       "  content: \"\";\n",
       "  width: 100%;\n",
       "  border-bottom: 2px solid var(--sklearn-color-text-on-default-background);\n",
       "  flex-grow: 1;\n",
       "}\n",
       "\n",
       "#sk-container-id-1 div.sk-parallel {\n",
       "  display: flex;\n",
       "  align-items: stretch;\n",
       "  justify-content: center;\n",
       "  background-color: var(--sklearn-color-background);\n",
       "  position: relative;\n",
       "}\n",
       "\n",
       "#sk-container-id-1 div.sk-parallel-item {\n",
       "  display: flex;\n",
       "  flex-direction: column;\n",
       "}\n",
       "\n",
       "#sk-container-id-1 div.sk-parallel-item:first-child::after {\n",
       "  align-self: flex-end;\n",
       "  width: 50%;\n",
       "}\n",
       "\n",
       "#sk-container-id-1 div.sk-parallel-item:last-child::after {\n",
       "  align-self: flex-start;\n",
       "  width: 50%;\n",
       "}\n",
       "\n",
       "#sk-container-id-1 div.sk-parallel-item:only-child::after {\n",
       "  width: 0;\n",
       "}\n",
       "\n",
       "/* Serial-specific style estimator block */\n",
       "\n",
       "#sk-container-id-1 div.sk-serial {\n",
       "  display: flex;\n",
       "  flex-direction: column;\n",
       "  align-items: center;\n",
       "  background-color: var(--sklearn-color-background);\n",
       "  padding-right: 1em;\n",
       "  padding-left: 1em;\n",
       "}\n",
       "\n",
       "\n",
       "/* Toggleable style: style used for estimator/Pipeline/ColumnTransformer box that is\n",
       "clickable and can be expanded/collapsed.\n",
       "- Pipeline and ColumnTransformer use this feature and define the default style\n",
       "- Estimators will overwrite some part of the style using the `sk-estimator` class\n",
       "*/\n",
       "\n",
       "/* Pipeline and ColumnTransformer style (default) */\n",
       "\n",
       "#sk-container-id-1 div.sk-toggleable {\n",
       "  /* Default theme specific background. It is overwritten whether we have a\n",
       "  specific estimator or a Pipeline/ColumnTransformer */\n",
       "  background-color: var(--sklearn-color-background);\n",
       "}\n",
       "\n",
       "/* Toggleable label */\n",
       "#sk-container-id-1 label.sk-toggleable__label {\n",
       "  cursor: pointer;\n",
       "  display: block;\n",
       "  width: 100%;\n",
       "  margin-bottom: 0;\n",
       "  padding: 0.5em;\n",
       "  box-sizing: border-box;\n",
       "  text-align: center;\n",
       "}\n",
       "\n",
       "#sk-container-id-1 label.sk-toggleable__label-arrow:before {\n",
       "  /* Arrow on the left of the label */\n",
       "  content: \"▸\";\n",
       "  float: left;\n",
       "  margin-right: 0.25em;\n",
       "  color: var(--sklearn-color-icon);\n",
       "}\n",
       "\n",
       "#sk-container-id-1 label.sk-toggleable__label-arrow:hover:before {\n",
       "  color: var(--sklearn-color-text);\n",
       "}\n",
       "\n",
       "/* Toggleable content - dropdown */\n",
       "\n",
       "#sk-container-id-1 div.sk-toggleable__content {\n",
       "  max-height: 0;\n",
       "  max-width: 0;\n",
       "  overflow: hidden;\n",
       "  text-align: left;\n",
       "  /* unfitted */\n",
       "  background-color: var(--sklearn-color-unfitted-level-0);\n",
       "}\n",
       "\n",
       "#sk-container-id-1 div.sk-toggleable__content.fitted {\n",
       "  /* fitted */\n",
       "  background-color: var(--sklearn-color-fitted-level-0);\n",
       "}\n",
       "\n",
       "#sk-container-id-1 div.sk-toggleable__content pre {\n",
       "  margin: 0.2em;\n",
       "  border-radius: 0.25em;\n",
       "  color: var(--sklearn-color-text);\n",
       "  /* unfitted */\n",
       "  background-color: var(--sklearn-color-unfitted-level-0);\n",
       "}\n",
       "\n",
       "#sk-container-id-1 div.sk-toggleable__content.fitted pre {\n",
       "  /* unfitted */\n",
       "  background-color: var(--sklearn-color-fitted-level-0);\n",
       "}\n",
       "\n",
       "#sk-container-id-1 input.sk-toggleable__control:checked~div.sk-toggleable__content {\n",
       "  /* Expand drop-down */\n",
       "  max-height: 200px;\n",
       "  max-width: 100%;\n",
       "  overflow: auto;\n",
       "}\n",
       "\n",
       "#sk-container-id-1 input.sk-toggleable__control:checked~label.sk-toggleable__label-arrow:before {\n",
       "  content: \"▾\";\n",
       "}\n",
       "\n",
       "/* Pipeline/ColumnTransformer-specific style */\n",
       "\n",
       "#sk-container-id-1 div.sk-label input.sk-toggleable__control:checked~label.sk-toggleable__label {\n",
       "  color: var(--sklearn-color-text);\n",
       "  background-color: var(--sklearn-color-unfitted-level-2);\n",
       "}\n",
       "\n",
       "#sk-container-id-1 div.sk-label.fitted input.sk-toggleable__control:checked~label.sk-toggleable__label {\n",
       "  background-color: var(--sklearn-color-fitted-level-2);\n",
       "}\n",
       "\n",
       "/* Estimator-specific style */\n",
       "\n",
       "/* Colorize estimator box */\n",
       "#sk-container-id-1 div.sk-estimator input.sk-toggleable__control:checked~label.sk-toggleable__label {\n",
       "  /* unfitted */\n",
       "  background-color: var(--sklearn-color-unfitted-level-2);\n",
       "}\n",
       "\n",
       "#sk-container-id-1 div.sk-estimator.fitted input.sk-toggleable__control:checked~label.sk-toggleable__label {\n",
       "  /* fitted */\n",
       "  background-color: var(--sklearn-color-fitted-level-2);\n",
       "}\n",
       "\n",
       "#sk-container-id-1 div.sk-label label.sk-toggleable__label,\n",
       "#sk-container-id-1 div.sk-label label {\n",
       "  /* The background is the default theme color */\n",
       "  color: var(--sklearn-color-text-on-default-background);\n",
       "}\n",
       "\n",
       "/* On hover, darken the color of the background */\n",
       "#sk-container-id-1 div.sk-label:hover label.sk-toggleable__label {\n",
       "  color: var(--sklearn-color-text);\n",
       "  background-color: var(--sklearn-color-unfitted-level-2);\n",
       "}\n",
       "\n",
       "/* Label box, darken color on hover, fitted */\n",
       "#sk-container-id-1 div.sk-label.fitted:hover label.sk-toggleable__label.fitted {\n",
       "  color: var(--sklearn-color-text);\n",
       "  background-color: var(--sklearn-color-fitted-level-2);\n",
       "}\n",
       "\n",
       "/* Estimator label */\n",
       "\n",
       "#sk-container-id-1 div.sk-label label {\n",
       "  font-family: monospace;\n",
       "  font-weight: bold;\n",
       "  display: inline-block;\n",
       "  line-height: 1.2em;\n",
       "}\n",
       "\n",
       "#sk-container-id-1 div.sk-label-container {\n",
       "  text-align: center;\n",
       "}\n",
       "\n",
       "/* Estimator-specific */\n",
       "#sk-container-id-1 div.sk-estimator {\n",
       "  font-family: monospace;\n",
       "  border: 1px dotted var(--sklearn-color-border-box);\n",
       "  border-radius: 0.25em;\n",
       "  box-sizing: border-box;\n",
       "  margin-bottom: 0.5em;\n",
       "  /* unfitted */\n",
       "  background-color: var(--sklearn-color-unfitted-level-0);\n",
       "}\n",
       "\n",
       "#sk-container-id-1 div.sk-estimator.fitted {\n",
       "  /* fitted */\n",
       "  background-color: var(--sklearn-color-fitted-level-0);\n",
       "}\n",
       "\n",
       "/* on hover */\n",
       "#sk-container-id-1 div.sk-estimator:hover {\n",
       "  /* unfitted */\n",
       "  background-color: var(--sklearn-color-unfitted-level-2);\n",
       "}\n",
       "\n",
       "#sk-container-id-1 div.sk-estimator.fitted:hover {\n",
       "  /* fitted */\n",
       "  background-color: var(--sklearn-color-fitted-level-2);\n",
       "}\n",
       "\n",
       "/* Specification for estimator info (e.g. \"i\" and \"?\") */\n",
       "\n",
       "/* Common style for \"i\" and \"?\" */\n",
       "\n",
       ".sk-estimator-doc-link,\n",
       "a:link.sk-estimator-doc-link,\n",
       "a:visited.sk-estimator-doc-link {\n",
       "  float: right;\n",
       "  font-size: smaller;\n",
       "  line-height: 1em;\n",
       "  font-family: monospace;\n",
       "  background-color: var(--sklearn-color-background);\n",
       "  border-radius: 1em;\n",
       "  height: 1em;\n",
       "  width: 1em;\n",
       "  text-decoration: none !important;\n",
       "  margin-left: 1ex;\n",
       "  /* unfitted */\n",
       "  border: var(--sklearn-color-unfitted-level-1) 1pt solid;\n",
       "  color: var(--sklearn-color-unfitted-level-1);\n",
       "}\n",
       "\n",
       ".sk-estimator-doc-link.fitted,\n",
       "a:link.sk-estimator-doc-link.fitted,\n",
       "a:visited.sk-estimator-doc-link.fitted {\n",
       "  /* fitted */\n",
       "  border: var(--sklearn-color-fitted-level-1) 1pt solid;\n",
       "  color: var(--sklearn-color-fitted-level-1);\n",
       "}\n",
       "\n",
       "/* On hover */\n",
       "div.sk-estimator:hover .sk-estimator-doc-link:hover,\n",
       ".sk-estimator-doc-link:hover,\n",
       "div.sk-label-container:hover .sk-estimator-doc-link:hover,\n",
       ".sk-estimator-doc-link:hover {\n",
       "  /* unfitted */\n",
       "  background-color: var(--sklearn-color-unfitted-level-3);\n",
       "  color: var(--sklearn-color-background);\n",
       "  text-decoration: none;\n",
       "}\n",
       "\n",
       "div.sk-estimator.fitted:hover .sk-estimator-doc-link.fitted:hover,\n",
       ".sk-estimator-doc-link.fitted:hover,\n",
       "div.sk-label-container:hover .sk-estimator-doc-link.fitted:hover,\n",
       ".sk-estimator-doc-link.fitted:hover {\n",
       "  /* fitted */\n",
       "  background-color: var(--sklearn-color-fitted-level-3);\n",
       "  color: var(--sklearn-color-background);\n",
       "  text-decoration: none;\n",
       "}\n",
       "\n",
       "/* Span, style for the box shown on hovering the info icon */\n",
       ".sk-estimator-doc-link span {\n",
       "  display: none;\n",
       "  z-index: 9999;\n",
       "  position: relative;\n",
       "  font-weight: normal;\n",
       "  right: .2ex;\n",
       "  padding: .5ex;\n",
       "  margin: .5ex;\n",
       "  width: min-content;\n",
       "  min-width: 20ex;\n",
       "  max-width: 50ex;\n",
       "  color: var(--sklearn-color-text);\n",
       "  box-shadow: 2pt 2pt 4pt #999;\n",
       "  /* unfitted */\n",
       "  background: var(--sklearn-color-unfitted-level-0);\n",
       "  border: .5pt solid var(--sklearn-color-unfitted-level-3);\n",
       "}\n",
       "\n",
       ".sk-estimator-doc-link.fitted span {\n",
       "  /* fitted */\n",
       "  background: var(--sklearn-color-fitted-level-0);\n",
       "  border: var(--sklearn-color-fitted-level-3);\n",
       "}\n",
       "\n",
       ".sk-estimator-doc-link:hover span {\n",
       "  display: block;\n",
       "}\n",
       "\n",
       "/* \"?\"-specific style due to the `<a>` HTML tag */\n",
       "\n",
       "#sk-container-id-1 a.estimator_doc_link {\n",
       "  float: right;\n",
       "  font-size: 1rem;\n",
       "  line-height: 1em;\n",
       "  font-family: monospace;\n",
       "  background-color: var(--sklearn-color-background);\n",
       "  border-radius: 1rem;\n",
       "  height: 1rem;\n",
       "  width: 1rem;\n",
       "  text-decoration: none;\n",
       "  /* unfitted */\n",
       "  color: var(--sklearn-color-unfitted-level-1);\n",
       "  border: var(--sklearn-color-unfitted-level-1) 1pt solid;\n",
       "}\n",
       "\n",
       "#sk-container-id-1 a.estimator_doc_link.fitted {\n",
       "  /* fitted */\n",
       "  border: var(--sklearn-color-fitted-level-1) 1pt solid;\n",
       "  color: var(--sklearn-color-fitted-level-1);\n",
       "}\n",
       "\n",
       "/* On hover */\n",
       "#sk-container-id-1 a.estimator_doc_link:hover {\n",
       "  /* unfitted */\n",
       "  background-color: var(--sklearn-color-unfitted-level-3);\n",
       "  color: var(--sklearn-color-background);\n",
       "  text-decoration: none;\n",
       "}\n",
       "\n",
       "#sk-container-id-1 a.estimator_doc_link.fitted:hover {\n",
       "  /* fitted */\n",
       "  background-color: var(--sklearn-color-fitted-level-3);\n",
       "}\n",
       "</style><div id=\"sk-container-id-1\" class=\"sk-top-container\"><div class=\"sk-text-repr-fallback\"><pre>Lasso(alpha=0.1, max_iter=10000)</pre><b>In a Jupyter environment, please rerun this cell to show the HTML representation or trust the notebook. <br />On GitHub, the HTML representation is unable to render, please try loading this page with nbviewer.org.</b></div><div class=\"sk-container\" hidden><div class=\"sk-item\"><div class=\"sk-estimator fitted sk-toggleable\"><input class=\"sk-toggleable__control sk-hidden--visually\" id=\"sk-estimator-id-1\" type=\"checkbox\" checked><label for=\"sk-estimator-id-1\" class=\"sk-toggleable__label fitted sk-toggleable__label-arrow fitted\">&nbsp;&nbsp;Lasso<a class=\"sk-estimator-doc-link fitted\" rel=\"noreferrer\" target=\"_blank\" href=\"https://scikit-learn.org/1.5/modules/generated/sklearn.linear_model.Lasso.html\">?<span>Documentation for Lasso</span></a><span class=\"sk-estimator-doc-link fitted\">i<span>Fitted</span></span></label><div class=\"sk-toggleable__content fitted\"><pre>Lasso(alpha=0.1, max_iter=10000)</pre></div> </div></div></div></div>"
      ],
      "text/plain": [
       "Lasso(alpha=0.1, max_iter=10000)"
      ]
     },
     "execution_count": 187,
     "metadata": {},
     "output_type": "execute_result"
    }
   ],
   "source": [
    "lasso = Lasso(alpha=0.1, max_iter=10000)  # alpha = λ, regularization strength\n",
    "lasso.fit(X_scaled, Y_scaled)"
   ]
  },
  {
   "cell_type": "code",
   "execution_count": 189,
   "id": "40140a35-e636-44f9-90d0-8affcb7dbf54",
   "metadata": {},
   "outputs": [
    {
     "name": "stdout",
     "output_type": "stream",
     "text": [
      "Intercept: 158.8506943290304\n",
      "Coefficients: [   0.         -174.24080201  519.63988321  255.70702875  -52.95665431\n",
      "   -0.         -204.28142678    0.          454.27923877   93.35058091]\n",
      "Training R^2: 0.4966631462542921\n"
     ]
    }
   ],
   "source": [
    "print(\"Intercept:\", lasso.intercept_)\n",
    "print(\"Coefficients:\", lasso.coef_)\n",
    "print(\"Training R^2:\", lasso.score(X_scaled, Y_train))\n"
   ]
  },
  {
   "cell_type": "code",
   "execution_count": null,
   "id": "e6c701d3-0209-4ee5-a120-13c743677b94",
   "metadata": {},
   "outputs": [],
   "source": []
  }
 ],
 "metadata": {
  "kernelspec": {
   "display_name": "Python 3 (ipykernel)",
   "language": "python",
   "name": "python3"
  },
  "language_info": {
   "codemirror_mode": {
    "name": "ipython",
    "version": 3
   },
   "file_extension": ".py",
   "mimetype": "text/x-python",
   "name": "python",
   "nbconvert_exporter": "python",
   "pygments_lexer": "ipython3",
   "version": "3.12.7"
  }
 },
 "nbformat": 4,
 "nbformat_minor": 5
}
