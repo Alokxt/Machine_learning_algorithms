{
 "cells": [
  {
   "cell_type": "code",
   "execution_count": 1,
   "id": "56a39d56-93b9-4dd2-9af4-c90b07742319",
   "metadata": {},
   "outputs": [],
   "source": [
    "import pandas as pd \n",
    "import numpy as np \n",
    "import matplotlib.pyplot as plt \n",
    "import seaborn as sns "
   ]
  },
  {
   "cell_type": "code",
   "execution_count": 2,
   "id": "e2063a25-3d5a-4150-bc5c-fb5a7939693c",
   "metadata": {},
   "outputs": [],
   "source": [
    "df = pd.read_csv('house_price_regression_dataset.csv')\n"
   ]
  },
  {
   "cell_type": "code",
   "execution_count": 3,
   "id": "8bcf83d4-e027-4967-bbeb-e35e12605ce3",
   "metadata": {},
   "outputs": [
    {
     "data": {
      "text/html": [
       "<div>\n",
       "<style scoped>\n",
       "    .dataframe tbody tr th:only-of-type {\n",
       "        vertical-align: middle;\n",
       "    }\n",
       "\n",
       "    .dataframe tbody tr th {\n",
       "        vertical-align: top;\n",
       "    }\n",
       "\n",
       "    .dataframe thead th {\n",
       "        text-align: right;\n",
       "    }\n",
       "</style>\n",
       "<table border=\"1\" class=\"dataframe\">\n",
       "  <thead>\n",
       "    <tr style=\"text-align: right;\">\n",
       "      <th></th>\n",
       "      <th>Square_Footage</th>\n",
       "      <th>Num_Bedrooms</th>\n",
       "      <th>Num_Bathrooms</th>\n",
       "      <th>Year_Built</th>\n",
       "      <th>Lot_Size</th>\n",
       "      <th>Garage_Size</th>\n",
       "      <th>Neighborhood_Quality</th>\n",
       "      <th>House_Price</th>\n",
       "    </tr>\n",
       "  </thead>\n",
       "  <tbody>\n",
       "    <tr>\n",
       "      <th>0</th>\n",
       "      <td>1360</td>\n",
       "      <td>2</td>\n",
       "      <td>1</td>\n",
       "      <td>1981</td>\n",
       "      <td>0.599637</td>\n",
       "      <td>0</td>\n",
       "      <td>5</td>\n",
       "      <td>262382.8523</td>\n",
       "    </tr>\n",
       "    <tr>\n",
       "      <th>1</th>\n",
       "      <td>4272</td>\n",
       "      <td>3</td>\n",
       "      <td>3</td>\n",
       "      <td>2016</td>\n",
       "      <td>4.753014</td>\n",
       "      <td>1</td>\n",
       "      <td>6</td>\n",
       "      <td>985260.8545</td>\n",
       "    </tr>\n",
       "    <tr>\n",
       "      <th>2</th>\n",
       "      <td>3592</td>\n",
       "      <td>1</td>\n",
       "      <td>2</td>\n",
       "      <td>2016</td>\n",
       "      <td>3.634823</td>\n",
       "      <td>0</td>\n",
       "      <td>9</td>\n",
       "      <td>777977.3901</td>\n",
       "    </tr>\n",
       "    <tr>\n",
       "      <th>3</th>\n",
       "      <td>966</td>\n",
       "      <td>1</td>\n",
       "      <td>2</td>\n",
       "      <td>1977</td>\n",
       "      <td>2.730667</td>\n",
       "      <td>1</td>\n",
       "      <td>8</td>\n",
       "      <td>229698.9187</td>\n",
       "    </tr>\n",
       "    <tr>\n",
       "      <th>4</th>\n",
       "      <td>4926</td>\n",
       "      <td>2</td>\n",
       "      <td>1</td>\n",
       "      <td>1993</td>\n",
       "      <td>4.699073</td>\n",
       "      <td>0</td>\n",
       "      <td>8</td>\n",
       "      <td>1041740.859</td>\n",
       "    </tr>\n",
       "  </tbody>\n",
       "</table>\n",
       "</div>"
      ],
      "text/plain": [
       "   Square_Footage  Num_Bedrooms  Num_Bathrooms  Year_Built  Lot_Size  \\\n",
       "0            1360             2              1        1981  0.599637   \n",
       "1            4272             3              3        2016  4.753014   \n",
       "2            3592             1              2        2016  3.634823   \n",
       "3             966             1              2        1977  2.730667   \n",
       "4            4926             2              1        1993  4.699073   \n",
       "\n",
       "   Garage_Size  Neighborhood_Quality  House_Price  \n",
       "0            0                     5  262382.8523  \n",
       "1            1                     6  985260.8545  \n",
       "2            0                     9  777977.3901  \n",
       "3            1                     8  229698.9187  \n",
       "4            0                     8  1041740.859  "
      ]
     },
     "execution_count": 3,
     "metadata": {},
     "output_type": "execute_result"
    }
   ],
   "source": [
    "df.head()"
   ]
  },
  {
   "cell_type": "code",
   "execution_count": 5,
   "id": "7432466b-ec42-4f45-8c8f-5ed8f729ed5f",
   "metadata": {},
   "outputs": [
    {
     "data": {
      "text/html": [
       "<div>\n",
       "<style scoped>\n",
       "    .dataframe tbody tr th:only-of-type {\n",
       "        vertical-align: middle;\n",
       "    }\n",
       "\n",
       "    .dataframe tbody tr th {\n",
       "        vertical-align: top;\n",
       "    }\n",
       "\n",
       "    .dataframe thead th {\n",
       "        text-align: right;\n",
       "    }\n",
       "</style>\n",
       "<table border=\"1\" class=\"dataframe\">\n",
       "  <thead>\n",
       "    <tr style=\"text-align: right;\">\n",
       "      <th></th>\n",
       "      <th>Square_Footage</th>\n",
       "      <th>Num_Bedrooms</th>\n",
       "      <th>Num_Bathrooms</th>\n",
       "      <th>Year_Built</th>\n",
       "      <th>Lot_Size</th>\n",
       "      <th>Garage_Size</th>\n",
       "      <th>Neighborhood_Quality</th>\n",
       "      <th>House_Price</th>\n",
       "    </tr>\n",
       "  </thead>\n",
       "  <tbody>\n",
       "    <tr>\n",
       "      <th>358</th>\n",
       "      <td>3559</td>\n",
       "      <td>2</td>\n",
       "      <td>1</td>\n",
       "      <td>2003</td>\n",
       "      <td>3.217329</td>\n",
       "      <td>2</td>\n",
       "      <td>8</td>\n",
       "      <td>\" \"</td>\n",
       "    </tr>\n",
       "    <tr>\n",
       "      <th>408</th>\n",
       "      <td>3767</td>\n",
       "      <td>5</td>\n",
       "      <td>3</td>\n",
       "      <td>1981</td>\n",
       "      <td>1.520335</td>\n",
       "      <td>2</td>\n",
       "      <td>4</td>\n",
       "      <td>\" \"</td>\n",
       "    </tr>\n",
       "    <tr>\n",
       "      <th>686</th>\n",
       "      <td>3783</td>\n",
       "      <td>4</td>\n",
       "      <td>3</td>\n",
       "      <td>1963</td>\n",
       "      <td>4.626239</td>\n",
       "      <td>2</td>\n",
       "      <td>10</td>\n",
       "      <td>\" \"</td>\n",
       "    </tr>\n",
       "  </tbody>\n",
       "</table>\n",
       "</div>"
      ],
      "text/plain": [
       "     Square_Footage  Num_Bedrooms  Num_Bathrooms  Year_Built  Lot_Size  \\\n",
       "358            3559             2              1        2003  3.217329   \n",
       "408            3767             5              3        1981  1.520335   \n",
       "686            3783             4              3        1963  4.626239   \n",
       "\n",
       "     Garage_Size  Neighborhood_Quality House_Price  \n",
       "358            2                     8         \" \"  \n",
       "408            2                     4         \" \"  \n",
       "686            2                    10         \" \"  "
      ]
     },
     "execution_count": 5,
     "metadata": {},
     "output_type": "execute_result"
    }
   ],
   "source": [
    "df[df['House_Price']=='\" \"']"
   ]
  },
  {
   "cell_type": "code",
   "execution_count": 6,
   "id": "ad4f861f-df00-4829-9acd-3eddac1da212",
   "metadata": {},
   "outputs": [],
   "source": [
    "df.drop(index=358,inplace=True)"
   ]
  },
  {
   "cell_type": "code",
   "execution_count": 7,
   "id": "8a6bde80-fbc7-4787-ba63-da9211c2a8e7",
   "metadata": {},
   "outputs": [],
   "source": [
    "df.drop(index=408,inplace=True)"
   ]
  },
  {
   "cell_type": "code",
   "execution_count": 8,
   "id": "67a89f39-59ae-4fc3-87a7-22bc7bc40df5",
   "metadata": {},
   "outputs": [],
   "source": [
    "df.drop(index=686,inplace=True)"
   ]
  },
  {
   "cell_type": "code",
   "execution_count": 9,
   "id": "4e63bf0d-37e6-4c96-8aa0-0e0fa4775d49",
   "metadata": {},
   "outputs": [
    {
     "data": {
      "text/html": [
       "<div>\n",
       "<style scoped>\n",
       "    .dataframe tbody tr th:only-of-type {\n",
       "        vertical-align: middle;\n",
       "    }\n",
       "\n",
       "    .dataframe tbody tr th {\n",
       "        vertical-align: top;\n",
       "    }\n",
       "\n",
       "    .dataframe thead th {\n",
       "        text-align: right;\n",
       "    }\n",
       "</style>\n",
       "<table border=\"1\" class=\"dataframe\">\n",
       "  <thead>\n",
       "    <tr style=\"text-align: right;\">\n",
       "      <th></th>\n",
       "      <th>Square_Footage</th>\n",
       "      <th>Num_Bedrooms</th>\n",
       "      <th>Num_Bathrooms</th>\n",
       "      <th>Year_Built</th>\n",
       "      <th>Lot_Size</th>\n",
       "      <th>Garage_Size</th>\n",
       "      <th>Neighborhood_Quality</th>\n",
       "      <th>House_Price</th>\n",
       "    </tr>\n",
       "  </thead>\n",
       "  <tbody>\n",
       "  </tbody>\n",
       "</table>\n",
       "</div>"
      ],
      "text/plain": [
       "Empty DataFrame\n",
       "Columns: [Square_Footage, Num_Bedrooms, Num_Bathrooms, Year_Built, Lot_Size, Garage_Size, Neighborhood_Quality, House_Price]\n",
       "Index: []"
      ]
     },
     "execution_count": 9,
     "metadata": {},
     "output_type": "execute_result"
    }
   ],
   "source": [
    "df[df['House_Price']=='\" \"']"
   ]
  },
  {
   "cell_type": "code",
   "execution_count": 10,
   "id": "7f024fb6-4abe-43e9-bc7b-c2d1a3c67452",
   "metadata": {},
   "outputs": [],
   "source": [
    "features = df.drop(columns='House_Price')"
   ]
  },
  {
   "cell_type": "code",
   "execution_count": 11,
   "id": "e52aea13-124e-4d71-a0a0-e4660439c4dd",
   "metadata": {},
   "outputs": [
    {
     "data": {
      "text/html": [
       "<div>\n",
       "<style scoped>\n",
       "    .dataframe tbody tr th:only-of-type {\n",
       "        vertical-align: middle;\n",
       "    }\n",
       "\n",
       "    .dataframe tbody tr th {\n",
       "        vertical-align: top;\n",
       "    }\n",
       "\n",
       "    .dataframe thead th {\n",
       "        text-align: right;\n",
       "    }\n",
       "</style>\n",
       "<table border=\"1\" class=\"dataframe\">\n",
       "  <thead>\n",
       "    <tr style=\"text-align: right;\">\n",
       "      <th></th>\n",
       "      <th>Square_Footage</th>\n",
       "      <th>Num_Bedrooms</th>\n",
       "      <th>Num_Bathrooms</th>\n",
       "      <th>Year_Built</th>\n",
       "      <th>Lot_Size</th>\n",
       "      <th>Garage_Size</th>\n",
       "      <th>Neighborhood_Quality</th>\n",
       "    </tr>\n",
       "  </thead>\n",
       "  <tbody>\n",
       "    <tr>\n",
       "      <th>0</th>\n",
       "      <td>1360</td>\n",
       "      <td>2</td>\n",
       "      <td>1</td>\n",
       "      <td>1981</td>\n",
       "      <td>0.599637</td>\n",
       "      <td>0</td>\n",
       "      <td>5</td>\n",
       "    </tr>\n",
       "    <tr>\n",
       "      <th>1</th>\n",
       "      <td>4272</td>\n",
       "      <td>3</td>\n",
       "      <td>3</td>\n",
       "      <td>2016</td>\n",
       "      <td>4.753014</td>\n",
       "      <td>1</td>\n",
       "      <td>6</td>\n",
       "    </tr>\n",
       "    <tr>\n",
       "      <th>2</th>\n",
       "      <td>3592</td>\n",
       "      <td>1</td>\n",
       "      <td>2</td>\n",
       "      <td>2016</td>\n",
       "      <td>3.634823</td>\n",
       "      <td>0</td>\n",
       "      <td>9</td>\n",
       "    </tr>\n",
       "    <tr>\n",
       "      <th>3</th>\n",
       "      <td>966</td>\n",
       "      <td>1</td>\n",
       "      <td>2</td>\n",
       "      <td>1977</td>\n",
       "      <td>2.730667</td>\n",
       "      <td>1</td>\n",
       "      <td>8</td>\n",
       "    </tr>\n",
       "    <tr>\n",
       "      <th>4</th>\n",
       "      <td>4926</td>\n",
       "      <td>2</td>\n",
       "      <td>1</td>\n",
       "      <td>1993</td>\n",
       "      <td>4.699073</td>\n",
       "      <td>0</td>\n",
       "      <td>8</td>\n",
       "    </tr>\n",
       "  </tbody>\n",
       "</table>\n",
       "</div>"
      ],
      "text/plain": [
       "   Square_Footage  Num_Bedrooms  Num_Bathrooms  Year_Built  Lot_Size  \\\n",
       "0            1360             2              1        1981  0.599637   \n",
       "1            4272             3              3        2016  4.753014   \n",
       "2            3592             1              2        2016  3.634823   \n",
       "3             966             1              2        1977  2.730667   \n",
       "4            4926             2              1        1993  4.699073   \n",
       "\n",
       "   Garage_Size  Neighborhood_Quality  \n",
       "0            0                     5  \n",
       "1            1                     6  \n",
       "2            0                     9  \n",
       "3            1                     8  \n",
       "4            0                     8  "
      ]
     },
     "execution_count": 11,
     "metadata": {},
     "output_type": "execute_result"
    }
   ],
   "source": [
    "features.head()"
   ]
  },
  {
   "cell_type": "code",
   "execution_count": 12,
   "id": "1b8f1bb6-4927-40eb-985e-6d81b005d387",
   "metadata": {},
   "outputs": [
    {
     "name": "stdout",
     "output_type": "stream",
     "text": [
      "<class 'pandas.core.frame.DataFrame'>\n",
      "Index: 997 entries, 0 to 999\n",
      "Data columns (total 7 columns):\n",
      " #   Column                Non-Null Count  Dtype  \n",
      "---  ------                --------------  -----  \n",
      " 0   Square_Footage        997 non-null    int64  \n",
      " 1   Num_Bedrooms          997 non-null    int64  \n",
      " 2   Num_Bathrooms         997 non-null    int64  \n",
      " 3   Year_Built            997 non-null    int64  \n",
      " 4   Lot_Size              997 non-null    float64\n",
      " 5   Garage_Size           997 non-null    int64  \n",
      " 6   Neighborhood_Quality  997 non-null    int64  \n",
      "dtypes: float64(1), int64(6)\n",
      "memory usage: 62.3 KB\n"
     ]
    }
   ],
   "source": [
    "features.info()"
   ]
  },
  {
   "cell_type": "code",
   "execution_count": 14,
   "id": "156bb81f-48b2-42b7-a2ae-3e3756d75dcb",
   "metadata": {},
   "outputs": [
    {
     "data": {
      "text/html": [
       "<div>\n",
       "<style scoped>\n",
       "    .dataframe tbody tr th:only-of-type {\n",
       "        vertical-align: middle;\n",
       "    }\n",
       "\n",
       "    .dataframe tbody tr th {\n",
       "        vertical-align: top;\n",
       "    }\n",
       "\n",
       "    .dataframe thead th {\n",
       "        text-align: right;\n",
       "    }\n",
       "</style>\n",
       "<table border=\"1\" class=\"dataframe\">\n",
       "  <thead>\n",
       "    <tr style=\"text-align: right;\">\n",
       "      <th></th>\n",
       "      <th>Square_Footage</th>\n",
       "      <th>Num_Bedrooms</th>\n",
       "      <th>Num_Bathrooms</th>\n",
       "      <th>Year_Built</th>\n",
       "      <th>Lot_Size</th>\n",
       "      <th>Garage_Size</th>\n",
       "      <th>Neighborhood_Quality</th>\n",
       "    </tr>\n",
       "  </thead>\n",
       "  <tbody>\n",
       "    <tr>\n",
       "      <th>0</th>\n",
       "      <td>1360</td>\n",
       "      <td>2</td>\n",
       "      <td>1</td>\n",
       "      <td>1981</td>\n",
       "      <td>0.5996</td>\n",
       "      <td>0</td>\n",
       "      <td>5</td>\n",
       "    </tr>\n",
       "    <tr>\n",
       "      <th>1</th>\n",
       "      <td>4272</td>\n",
       "      <td>3</td>\n",
       "      <td>3</td>\n",
       "      <td>2016</td>\n",
       "      <td>4.7530</td>\n",
       "      <td>1</td>\n",
       "      <td>6</td>\n",
       "    </tr>\n",
       "    <tr>\n",
       "      <th>2</th>\n",
       "      <td>3592</td>\n",
       "      <td>1</td>\n",
       "      <td>2</td>\n",
       "      <td>2016</td>\n",
       "      <td>3.6348</td>\n",
       "      <td>0</td>\n",
       "      <td>9</td>\n",
       "    </tr>\n",
       "    <tr>\n",
       "      <th>3</th>\n",
       "      <td>966</td>\n",
       "      <td>1</td>\n",
       "      <td>2</td>\n",
       "      <td>1977</td>\n",
       "      <td>2.7307</td>\n",
       "      <td>1</td>\n",
       "      <td>8</td>\n",
       "    </tr>\n",
       "    <tr>\n",
       "      <th>4</th>\n",
       "      <td>4926</td>\n",
       "      <td>2</td>\n",
       "      <td>1</td>\n",
       "      <td>1993</td>\n",
       "      <td>4.6991</td>\n",
       "      <td>0</td>\n",
       "      <td>8</td>\n",
       "    </tr>\n",
       "    <tr>\n",
       "      <th>...</th>\n",
       "      <td>...</td>\n",
       "      <td>...</td>\n",
       "      <td>...</td>\n",
       "      <td>...</td>\n",
       "      <td>...</td>\n",
       "      <td>...</td>\n",
       "      <td>...</td>\n",
       "    </tr>\n",
       "    <tr>\n",
       "      <th>995</th>\n",
       "      <td>3261</td>\n",
       "      <td>4</td>\n",
       "      <td>1</td>\n",
       "      <td>1978</td>\n",
       "      <td>2.1651</td>\n",
       "      <td>2</td>\n",
       "      <td>10</td>\n",
       "    </tr>\n",
       "    <tr>\n",
       "      <th>996</th>\n",
       "      <td>3179</td>\n",
       "      <td>1</td>\n",
       "      <td>2</td>\n",
       "      <td>1999</td>\n",
       "      <td>2.9771</td>\n",
       "      <td>1</td>\n",
       "      <td>10</td>\n",
       "    </tr>\n",
       "    <tr>\n",
       "      <th>997</th>\n",
       "      <td>2606</td>\n",
       "      <td>4</td>\n",
       "      <td>2</td>\n",
       "      <td>1962</td>\n",
       "      <td>4.0551</td>\n",
       "      <td>0</td>\n",
       "      <td>2</td>\n",
       "    </tr>\n",
       "    <tr>\n",
       "      <th>998</th>\n",
       "      <td>4723</td>\n",
       "      <td>5</td>\n",
       "      <td>2</td>\n",
       "      <td>1950</td>\n",
       "      <td>1.9309</td>\n",
       "      <td>0</td>\n",
       "      <td>7</td>\n",
       "    </tr>\n",
       "    <tr>\n",
       "      <th>999</th>\n",
       "      <td>3268</td>\n",
       "      <td>4</td>\n",
       "      <td>2</td>\n",
       "      <td>1983</td>\n",
       "      <td>3.1088</td>\n",
       "      <td>2</td>\n",
       "      <td>2</td>\n",
       "    </tr>\n",
       "  </tbody>\n",
       "</table>\n",
       "<p>997 rows × 7 columns</p>\n",
       "</div>"
      ],
      "text/plain": [
       "     Square_Footage  Num_Bedrooms  Num_Bathrooms  Year_Built  Lot_Size  \\\n",
       "0              1360             2              1        1981    0.5996   \n",
       "1              4272             3              3        2016    4.7530   \n",
       "2              3592             1              2        2016    3.6348   \n",
       "3               966             1              2        1977    2.7307   \n",
       "4              4926             2              1        1993    4.6991   \n",
       "..              ...           ...            ...         ...       ...   \n",
       "995            3261             4              1        1978    2.1651   \n",
       "996            3179             1              2        1999    2.9771   \n",
       "997            2606             4              2        1962    4.0551   \n",
       "998            4723             5              2        1950    1.9309   \n",
       "999            3268             4              2        1983    3.1088   \n",
       "\n",
       "     Garage_Size  Neighborhood_Quality  \n",
       "0              0                     5  \n",
       "1              1                     6  \n",
       "2              0                     9  \n",
       "3              1                     8  \n",
       "4              0                     8  \n",
       "..           ...                   ...  \n",
       "995            2                    10  \n",
       "996            1                    10  \n",
       "997            0                     2  \n",
       "998            0                     7  \n",
       "999            2                     2  \n",
       "\n",
       "[997 rows x 7 columns]"
      ]
     },
     "execution_count": 14,
     "metadata": {},
     "output_type": "execute_result"
    }
   ],
   "source": [
    "features.apply(convert)"
   ]
  },
  {
   "cell_type": "code",
   "execution_count": 16,
   "id": "a5416b24-6d2b-41f3-91cb-940c707b3734",
   "metadata": {},
   "outputs": [],
   "source": [
    "X = features.to_numpy()"
   ]
  },
  {
   "cell_type": "code",
   "execution_count": 17,
   "id": "04d6b41b-a894-4d50-aa00-c8b430d860c4",
   "metadata": {},
   "outputs": [
    {
     "data": {
      "text/plain": [
       "array([[1.36000000e+03, 2.00000000e+00, 1.00000000e+00, ...,\n",
       "        5.99636640e-01, 0.00000000e+00, 5.00000000e+00],\n",
       "       [4.27200000e+03, 3.00000000e+00, 3.00000000e+00, ...,\n",
       "        4.75301385e+00, 1.00000000e+00, 6.00000000e+00],\n",
       "       [3.59200000e+03, 1.00000000e+00, 2.00000000e+00, ...,\n",
       "        3.63482272e+00, 0.00000000e+00, 9.00000000e+00],\n",
       "       ...,\n",
       "       [2.60600000e+03, 4.00000000e+00, 2.00000000e+00, ...,\n",
       "        4.05506679e+00, 0.00000000e+00, 2.00000000e+00],\n",
       "       [4.72300000e+03, 5.00000000e+00, 2.00000000e+00, ...,\n",
       "        1.93092148e+00, 0.00000000e+00, 7.00000000e+00],\n",
       "       [3.26800000e+03, 4.00000000e+00, 2.00000000e+00, ...,\n",
       "        3.10879025e+00, 2.00000000e+00, 2.00000000e+00]])"
      ]
     },
     "execution_count": 17,
     "metadata": {},
     "output_type": "execute_result"
    }
   ],
   "source": [
    "X"
   ]
  },
  {
   "cell_type": "code",
   "execution_count": 13,
   "id": "43276b40-39b5-4205-bbf3-2932744c879d",
   "metadata": {},
   "outputs": [],
   "source": [
    "def convert(X):\n",
    "    return np.round(X,4)"
   ]
  },
  {
   "cell_type": "code",
   "execution_count": 22,
   "id": "3005591d-e74e-4e3b-ba7f-ff9f64804412",
   "metadata": {},
   "outputs": [
    {
     "data": {
      "text/plain": [
       "5.6685"
      ]
     },
     "execution_count": 22,
     "metadata": {},
     "output_type": "execute_result"
    }
   ],
   "source": [
    "convert(5.6685421457)"
   ]
  },
  {
   "cell_type": "code",
   "execution_count": 18,
   "id": "3a3063ae-aad1-4d4f-afde-dfc52f0dce93",
   "metadata": {},
   "outputs": [],
   "source": [
    "X = np.round(X,4)"
   ]
  },
  {
   "cell_type": "code",
   "execution_count": 19,
   "id": "8dfb78f4-1bfa-4336-9a78-1b5f1e252e8d",
   "metadata": {},
   "outputs": [
    {
     "data": {
      "text/plain": [
       "(997, 7)"
      ]
     },
     "execution_count": 19,
     "metadata": {},
     "output_type": "execute_result"
    }
   ],
   "source": [
    "X.shape"
   ]
  },
  {
   "cell_type": "code",
   "execution_count": 20,
   "id": "77271d16-58a4-46bf-8cef-298e0e7308a3",
   "metadata": {},
   "outputs": [],
   "source": [
    "X_train = X[:780,]"
   ]
  },
  {
   "cell_type": "code",
   "execution_count": 21,
   "id": "c4c8c71c-fb73-410c-a648-774bad6e9dc7",
   "metadata": {},
   "outputs": [
    {
     "data": {
      "text/plain": [
       "(780, 7)"
      ]
     },
     "execution_count": 21,
     "metadata": {},
     "output_type": "execute_result"
    }
   ],
   "source": [
    "X_train.shape"
   ]
  },
  {
   "cell_type": "code",
   "execution_count": 22,
   "id": "39b95f67-3d90-4ade-ac09-f41058d5c368",
   "metadata": {},
   "outputs": [],
   "source": [
    "X_test = X[780:,]"
   ]
  },
  {
   "cell_type": "code",
   "execution_count": 23,
   "id": "768897cd-c074-40f6-b09b-e17185224289",
   "metadata": {},
   "outputs": [],
   "source": [
    "def convert2(X):\n",
    "    return float(X)\n",
    "    "
   ]
  },
  {
   "cell_type": "code",
   "execution_count": 24,
   "id": "b9c4dc1b-6f68-4fd2-a64d-3ef88c04130e",
   "metadata": {},
   "outputs": [],
   "source": [
    "df['House_Price'] = df['House_Price'].apply(convert2)"
   ]
  },
  {
   "cell_type": "code",
   "execution_count": 25,
   "id": "9602664a-4cd0-4eb0-9484-d91dafb1286b",
   "metadata": {},
   "outputs": [],
   "source": [
    "Y = df['House_Price'].to_numpy()"
   ]
  },
  {
   "cell_type": "code",
   "execution_count": 26,
   "id": "710ce372-34a2-466b-8336-94956ad0ae83",
   "metadata": {},
   "outputs": [
    {
     "data": {
      "text/plain": [
       "(997,)"
      ]
     },
     "execution_count": 26,
     "metadata": {},
     "output_type": "execute_result"
    }
   ],
   "source": [
    "Y.shape"
   ]
  },
  {
   "cell_type": "code",
   "execution_count": 27,
   "id": "8ce4a1b5-173f-4c0f-8019-9d3ea60d307d",
   "metadata": {},
   "outputs": [],
   "source": [
    "Y_train,Y_test = Y[:780],Y[780:]"
   ]
  },
  {
   "cell_type": "markdown",
   "id": "ccb9c883-4f08-4019-97ff-4d12e12ad8fe",
   "metadata": {},
   "source": [
    "Linear Regressions , Normal equation , X^TXW = X^TY "
   ]
  },
  {
   "cell_type": "code",
   "execution_count": 28,
   "id": "ab43af35-a116-4293-8e39-aa87b061eadb",
   "metadata": {},
   "outputs": [],
   "source": [
    "C = np.dot(X_train.T,X_train)"
   ]
  },
  {
   "cell_type": "code",
   "execution_count": 29,
   "id": "8b494b49-0c09-461a-8862-a5d46d986edc",
   "metadata": {},
   "outputs": [],
   "source": [
    "inv = np.linalg.pinv(C)"
   ]
  },
  {
   "cell_type": "code",
   "execution_count": 30,
   "id": "087e8f3e-cc79-4fa5-8f15-e32d748e346e",
   "metadata": {},
   "outputs": [
    {
     "data": {
      "text/plain": [
       "(7, 7)"
      ]
     },
     "execution_count": 30,
     "metadata": {},
     "output_type": "execute_result"
    }
   ],
   "source": [
    "inv.shape"
   ]
  },
  {
   "cell_type": "code",
   "execution_count": 31,
   "id": "c1f2224b-cba7-4f22-924e-8da6ef63f744",
   "metadata": {},
   "outputs": [],
   "source": [
    "comp = np.dot(X_train.T,Y_train)"
   ]
  },
  {
   "cell_type": "code",
   "execution_count": 32,
   "id": "36e777fd-e464-475c-9e46-49260b8a965d",
   "metadata": {},
   "outputs": [
    {
     "data": {
      "text/plain": [
       "(7,)"
      ]
     },
     "execution_count": 32,
     "metadata": {},
     "output_type": "execute_result"
    }
   ],
   "source": [
    "comp.shape"
   ]
  },
  {
   "cell_type": "code",
   "execution_count": 33,
   "id": "86ba0a41-0abb-4ce1-9901-01d640d0acf8",
   "metadata": {},
   "outputs": [],
   "source": [
    "W = np.dot(inv,comp)"
   ]
  },
  {
   "cell_type": "code",
   "execution_count": 34,
   "id": "cf1d5540-03de-40bf-bc4b-075822a99738",
   "metadata": {},
   "outputs": [
    {
     "data": {
      "text/plain": [
       "array([  199.13080762,  9831.90517369,  7630.94810855,   -14.12339854,\n",
       "       13840.90230571,  4714.33719679,  -196.06385822])"
      ]
     },
     "execution_count": 34,
     "metadata": {},
     "output_type": "execute_result"
    }
   ],
   "source": [
    "W"
   ]
  },
  {
   "cell_type": "code",
   "execution_count": 35,
   "id": "f3d8c878-8ea1-4dc6-a106-f5595db02fc7",
   "metadata": {},
   "outputs": [
    {
     "data": {
      "text/plain": [
       "(7,)"
      ]
     },
     "execution_count": 35,
     "metadata": {},
     "output_type": "execute_result"
    }
   ],
   "source": [
    "W.shape"
   ]
  },
  {
   "cell_type": "code",
   "execution_count": 36,
   "id": "beb5ac65-8c31-45c9-a863-63f5425c5ae5",
   "metadata": {},
   "outputs": [],
   "source": [
    "pred1 = X_train[0]@W"
   ]
  },
  {
   "cell_type": "code",
   "execution_count": 37,
   "id": "de9853d9-921e-40ff-a749-07f8b20febb9",
   "metadata": {},
   "outputs": [
    {
     "data": {
      "text/plain": [
       "277452.89004266064"
      ]
     },
     "execution_count": 37,
     "metadata": {},
     "output_type": "execute_result"
    }
   ],
   "source": [
    "pred1"
   ]
  },
  {
   "cell_type": "code",
   "execution_count": 45,
   "id": "8a367242-564f-471a-8f93-6df83c425efa",
   "metadata": {},
   "outputs": [],
   "source": [
    "def RMSE_p(Y_pred,Y_actual):\n",
    "    s = 0\n",
    "    for i in range(len(Y_pred)):\n",
    "        s += (Y_pred[i] - Y_actual[i])**2\n",
    "    mse = s/(2*len(Y_pred))\n",
    "    rmse = mse**0.5\n",
    "    return mse,rmse"
   ]
  },
  {
   "cell_type": "code",
   "execution_count": 53,
   "id": "024253e7-89df-4363-a9bc-a1055972a9f4",
   "metadata": {},
   "outputs": [],
   "source": [
    "def R2_s(Y_pred,Y_actual):\n",
    "    y_mean = np.mean(Y_actual)\n",
    "    actual =0 \n",
    "    meaned = 0 \n",
    "    for i in range(len(Y_actual)):\n",
    "        actual += (Y_actual[i]- Y_pred[i])**2 \n",
    "        meaned += (Y_actual[i] - y_mean)**2\n",
    "    print(actual,meaned)\n",
    "    r2 = 1-(actual/meaned)\n",
    "    return r2\n",
    "        "
   ]
  },
  {
   "cell_type": "code",
   "execution_count": 38,
   "id": "a7164978-8230-4725-8379-14ee852b5d4f",
   "metadata": {},
   "outputs": [],
   "source": [
    "Y_predict_training = np.zeros(X_train.shape[0],dtype=float)"
   ]
  },
  {
   "cell_type": "code",
   "execution_count": 39,
   "id": "7d2edbdb-5c1c-4a20-993a-5c323a3b860b",
   "metadata": {},
   "outputs": [],
   "source": [
    "for i in range(len(X_train)):\n",
    "    pred = np.dot(X_train[i],W)\n",
    "    Y_predict_training[i] = pred "
   ]
  },
  {
   "cell_type": "code",
   "execution_count": 40,
   "id": "4dbcfc0e-1d85-4e98-a2b0-0b97c8629529",
   "metadata": {},
   "outputs": [
    {
     "data": {
      "text/plain": [
       "(780,)"
      ]
     },
     "execution_count": 40,
     "metadata": {},
     "output_type": "execute_result"
    }
   ],
   "source": [
    "Y_predict_training.shape"
   ]
  },
  {
   "cell_type": "code",
   "execution_count": 46,
   "id": "c17ad07f-4287-41b1-9d9b-0b39166bad96",
   "metadata": {},
   "outputs": [
    {
     "data": {
      "text/plain": [
       "(259919036.2284961, 16122.004721141106)"
      ]
     },
     "execution_count": 46,
     "metadata": {},
     "output_type": "execute_result"
    }
   ],
   "source": [
    "RMSE_p(Y_predict_training,Y_train)"
   ]
  },
  {
   "cell_type": "code",
   "execution_count": 59,
   "id": "9baf1ec7-3981-449c-a9e2-022795b5383f",
   "metadata": {},
   "outputs": [
    {
     "name": "stdout",
     "output_type": "stream",
     "text": [
      "405473696516.4539 50893388191089.305\n"
     ]
    },
    {
     "data": {
      "text/plain": [
       "0.9920328806760905"
      ]
     },
     "execution_count": 59,
     "metadata": {},
     "output_type": "execute_result"
    }
   ],
   "source": [
    "R2_s(Y_predict_training,Y_train)"
   ]
  },
  {
   "cell_type": "code",
   "execution_count": 60,
   "id": "db1adce2-a7c1-461e-a10a-281bb694d5b8",
   "metadata": {},
   "outputs": [],
   "source": [
    "residuals = Y_train - Y_predict_training"
   ]
  },
  {
   "cell_type": "code",
   "execution_count": 61,
   "id": "31e58535-2d3a-4e46-ac0a-1b3cd95e8615",
   "metadata": {},
   "outputs": [
    {
     "data": {
      "image/png": "[encoded data removed]",
      "text/plain": [
       "<Figure size 640x480 with 1 Axes>"
      ]
     },
     "metadata": {},
     "output_type": "display_data"
    }
   ],
   "source": [
    "plt.scatter(Y_train,residuals,alpha=0.6)\n",
    "plt.show()"
   ]
  },
  {
   "cell_type": "code",
   "execution_count": 63,
   "id": "c4192052-4255-4758-971c-1058d28c0d63",
   "metadata": {},
   "outputs": [
    {
     "data": {
      "image/png": "[encoded data removed]",
      "text/plain": [
       "<Figure size 640x480 with 1 Axes>"
      ]
     },
     "metadata": {},
     "output_type": "display_data"
    }
   ],
   "source": [
    "sns.histplot(residuals,bins=30,kde=True)\n",
    "plt.show()"
   ]
  },
  {
   "cell_type": "code",
   "execution_count": 64,
   "id": "8740676c-1e1e-48cc-a245-b901e57a5b11",
   "metadata": {},
   "outputs": [],
   "source": [
    "def linear_regression_fit(X1,Y1):\n",
    "    c = np.dot(X1.T,X1)\n",
    "    inv = np.linalg.pinv(c)\n",
    "    comp = np.dot(X1,Y1)\n",
    "    W = np.dot(inv,comp)\n",
    "    return W \n",
    "    "
   ]
  },
  {
   "cell_type": "code",
   "execution_count": 65,
   "id": "8cbaab05-9f02-4635-bba4-60e3cdd04669",
   "metadata": {},
   "outputs": [],
   "source": [
    "def linear_regression_predict(X1,W):\n",
    "    return np.dot(X1,W)\n",
    "    "
   ]
  },
  {
   "cell_type": "code",
   "execution_count": 79,
   "id": "8ff87fca-8a50-41c1-9a97-93e952c41a0e",
   "metadata": {},
   "outputs": [],
   "source": [
    "def predict_points(x1,w):\n",
    "    Y_pred_test = np.zeros(x1.shape[0],dtype=float)\n",
    "    for i in range(len(X_test)):\n",
    "        pred = linear_regression_predict(x1[i],w)\n",
    "        Y_pred_test[i] = pred\n",
    "    return Y_pred_test"
   ]
  },
  {
   "cell_type": "code",
   "execution_count": 83,
   "id": "f69ed3cc-eba2-4aa0-85c0-b52be9258b14",
   "metadata": {},
   "outputs": [],
   "source": [
    "Y_pred_test2 = predict_points(X_test,W)"
   ]
  },
  {
   "cell_type": "code",
   "execution_count": 84,
   "id": "26fe6822-56df-4563-aa5a-33fbeddde5a1",
   "metadata": {},
   "outputs": [
    {
     "data": {
      "text/plain": [
       "(217,)"
      ]
     },
     "execution_count": 84,
     "metadata": {},
     "output_type": "execute_result"
    }
   ],
   "source": [
    "Y_test.shape"
   ]
  },
  {
   "cell_type": "code",
   "execution_count": 87,
   "id": "852de7f5-d889-4f61-8240-c227326bd91d",
   "metadata": {},
   "outputs": [
    {
     "data": {
      "text/plain": [
       "(271753113.8563036, 16484.935967613084)"
      ]
     },
     "execution_count": 87,
     "metadata": {},
     "output_type": "execute_result"
    }
   ],
   "source": [
    "RMSE_p(Y_pred_test2,Y_test)"
   ]
  },
  {
   "cell_type": "code",
   "execution_count": 88,
   "id": "1baddb4e-94b1-40ea-ada0-23d869dfece8",
   "metadata": {},
   "outputs": [
    {
     "name": "stdout",
     "output_type": "stream",
     "text": [
      "117940851413.63574 13181669283054.229\n"
     ]
    },
    {
     "data": {
      "text/plain": [
       "0.9910526619291492"
      ]
     },
     "execution_count": 88,
     "metadata": {},
     "output_type": "execute_result"
    }
   ],
   "source": [
    "R2_s(Y_pred_test2,Y_test)"
   ]
  }
 ],
 "metadata": {
  "kernelspec": {
   "display_name": "Python 3 (ipykernel)",
   "language": "python",
   "name": "python3"
  },
  "language_info": {
   "codemirror_mode": {
    "name": "ipython",
    "version": 3
   },
   "file_extension": ".py",
   "mimetype": "text/x-python",
   "name": "python",
   "nbconvert_exporter": "python",
   "pygments_lexer": "ipython3",
   "version": "3.12.7"
  }
 },
 "nbformat": 4,
 "nbformat_minor": 5
}
