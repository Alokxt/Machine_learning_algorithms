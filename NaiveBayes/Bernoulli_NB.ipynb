{
 "cells": [
  {
   "cell_type": "code",
   "execution_count": 1,
   "id": "bcc45c73-b206-4c25-b924-6bda1a80a3e4",
   "metadata": {},
   "outputs": [],
   "source": [
    "import pandas as pd\n",
    "import numpy as np\n",
    "import matplotlib.pyplot as plt "
   ]
  },
  {
   "cell_type": "code",
   "execution_count": 215,
   "id": "72df4296-ccca-4762-8747-295920275dd3",
   "metadata": {},
   "outputs": [],
   "source": [
    "rng = np.random.default_rng(seed=1)\n",
    "X1 = np.concatenate((rng.binomial(size = 50,n = 1, p =0.7), rng.binomial(size = 50,n = 1, p =0.2))).reshape(-1, 1)\n",
    "X2 = np.concatenate((rng.binomial(size = 50,n = 1, p =0.6), rng.binomial(size = 50,n = 1, p =0.1))).reshape(-1, 1)\n",
    "X3 = np.concatenate((rng.binomial(size = 50,n = 1, p =0.6), rng.binomial(size = 50,n = 1, p =0.2))).reshape(-1, 1)\n",
    "X4 = np.concatenate((rng.binomial(size = 50,n = 1, p =0.8), rng.binomial(size = 50,n = 1, p =0.1))).reshape(-1, 1)\n",
    "\n",
    "\n",
    "X = np.column_stack((X1,X2,X3,X4))\n",
    "\n",
    "y = np.concatenate((np.zeros(50, dtype= int), np.ones(50, dtype = int))).reshape(-1, 1)\n",
    "permute = rng.permuted(range(100)) \n",
    "\n",
    "X = X[permute]\n",
    "y = y[permute]"
   ]
  },
  {
   "cell_type": "code",
   "execution_count": 216,
   "id": "778fb026-7808-4412-9030-0d45444d62e6",
   "metadata": {},
   "outputs": [
    {
     "data": {
      "text/plain": [
       "(100, 4)"
      ]
     },
     "execution_count": 216,
     "metadata": {},
     "output_type": "execute_result"
    }
   ],
   "source": [
    "X.shape"
   ]
  },
  {
   "cell_type": "code",
   "execution_count": 217,
   "id": "16f0e9c8-2a7b-4f87-bf76-b922fb08da37",
   "metadata": {},
   "outputs": [
    {
     "data": {
      "text/plain": [
       "(100, 1)"
      ]
     },
     "execution_count": 217,
     "metadata": {},
     "output_type": "execute_result"
    }
   ],
   "source": [
    "y.shape"
   ]
  },
  {
   "cell_type": "code",
   "execution_count": 9,
   "id": "eae51683-7dfb-4e70-bd31-cc095fd7938f",
   "metadata": {},
   "outputs": [
    {
     "data": {
      "text/plain": [
       "array([[0, 0, 0, 0],\n",
       "       [0, 0, 0, 0],\n",
       "       [0, 0, 0, 0],\n",
       "       [0, 0, 0, 0],\n",
       "       [1, 0, 0, 1],\n",
       "       [1, 0, 0, 0],\n",
       "       [1, 1, 1, 1],\n",
       "       [1, 1, 0, 0],\n",
       "       [1, 1, 1, 1],\n",
       "       [0, 1, 1, 1],\n",
       "       [0, 1, 1, 1],\n",
       "       [1, 1, 0, 1],\n",
       "       [1, 0, 0, 1],\n",
       "       [1, 0, 0, 0],\n",
       "       [0, 0, 0, 0],\n",
       "       [0, 0, 0, 0],\n",
       "       [0, 1, 1, 1],\n",
       "       [0, 0, 0, 0],\n",
       "       [1, 1, 1, 1],\n",
       "       [0, 1, 1, 1],\n",
       "       [0, 1, 0, 1],\n",
       "       [0, 0, 0, 0],\n",
       "       [1, 1, 1, 1],\n",
       "       [0, 0, 0, 0],\n",
       "       [0, 1, 1, 1],\n",
       "       [1, 1, 1, 1],\n",
       "       [1, 0, 0, 0],\n",
       "       [0, 0, 1, 1],\n",
       "       [1, 0, 0, 0],\n",
       "       [0, 1, 0, 0],\n",
       "       [0, 0, 0, 0],\n",
       "       [0, 0, 0, 0],\n",
       "       [1, 0, 0, 1],\n",
       "       [0, 0, 0, 0],\n",
       "       [0, 1, 0, 1],\n",
       "       [0, 0, 0, 1],\n",
       "       [1, 1, 0, 0],\n",
       "       [0, 0, 0, 0],\n",
       "       [1, 0, 0, 0],\n",
       "       [1, 1, 1, 1],\n",
       "       [0, 0, 0, 0],\n",
       "       [1, 0, 1, 0],\n",
       "       [1, 0, 0, 1],\n",
       "       [0, 0, 0, 0],\n",
       "       [1, 1, 1, 1],\n",
       "       [1, 1, 1, 1],\n",
       "       [1, 0, 0, 0],\n",
       "       [1, 0, 0, 1],\n",
       "       [1, 1, 1, 0],\n",
       "       [0, 1, 1, 1],\n",
       "       [0, 1, 1, 1],\n",
       "       [1, 0, 0, 0],\n",
       "       [0, 0, 0, 0],\n",
       "       [1, 1, 1, 1],\n",
       "       [0, 0, 0, 1],\n",
       "       [1, 1, 1, 1],\n",
       "       [1, 1, 0, 0],\n",
       "       [0, 0, 1, 0],\n",
       "       [1, 0, 1, 1],\n",
       "       [0, 0, 0, 0],\n",
       "       [0, 0, 1, 1],\n",
       "       [0, 0, 1, 0],\n",
       "       [1, 1, 0, 1],\n",
       "       [0, 0, 0, 0],\n",
       "       [1, 0, 0, 1],\n",
       "       [0, 1, 0, 0],\n",
       "       [0, 0, 0, 1],\n",
       "       [1, 0, 0, 1],\n",
       "       [0, 0, 0, 1],\n",
       "       [0, 0, 1, 0],\n",
       "       [0, 0, 0, 0],\n",
       "       [0, 0, 0, 0],\n",
       "       [0, 1, 0, 1],\n",
       "       [1, 1, 1, 1],\n",
       "       [1, 1, 0, 1],\n",
       "       [0, 0, 1, 0],\n",
       "       [1, 0, 1, 0],\n",
       "       [0, 1, 1, 1],\n",
       "       [1, 0, 1, 1],\n",
       "       [1, 0, 0, 0],\n",
       "       [1, 1, 0, 1],\n",
       "       [0, 0, 0, 0],\n",
       "       [1, 0, 0, 0],\n",
       "       [1, 0, 1, 1],\n",
       "       [0, 0, 0, 0],\n",
       "       [0, 0, 0, 0],\n",
       "       [0, 0, 0, 0],\n",
       "       [1, 1, 1, 1],\n",
       "       [0, 1, 1, 0],\n",
       "       [0, 0, 1, 0],\n",
       "       [1, 1, 1, 1],\n",
       "       [1, 0, 0, 0],\n",
       "       [1, 1, 1, 1],\n",
       "       [1, 1, 0, 0],\n",
       "       [1, 0, 1, 1],\n",
       "       [0, 0, 0, 0],\n",
       "       [0, 0, 0, 0],\n",
       "       [1, 1, 1, 1],\n",
       "       [0, 1, 1, 0],\n",
       "       [0, 0, 0, 1]], dtype=int64)"
      ]
     },
     "execution_count": 9,
     "metadata": {},
     "output_type": "execute_result"
    }
   ],
   "source": [
    "X"
   ]
  },
  {
   "cell_type": "markdown",
   "id": "48e103a3-a85e-460e-bdc7-78cd79826c35",
   "metadata": {},
   "source": [
    "P(y=1/x_test) = P(x_test/y=1). P(y=1)/P(x_test)"
   ]
  },
  {
   "cell_type": "markdown",
   "id": "e23934e7-e86d-4766-be49-9c1e0fc98e70",
   "metadata": {},
   "source": [
    "P(y=1/x_test)>P(y=0/x_test) ~ 1 else 0 "
   ]
  },
  {
   "cell_type": "markdown",
   "id": "e35da4f2-b438-49f4-b201-fe7b3897fa54",
   "metadata": {},
   "source": [
    "P(x_test/y=1) = MLE for y== 1 for every feature"
   ]
  },
  {
   "cell_type": "code",
   "execution_count": 17,
   "id": "178a4666-2b3b-49d3-80aa-2c1da656cd82",
   "metadata": {},
   "outputs": [],
   "source": [
    "P1 = y[y==1].shape[0]/y.shape[0]"
   ]
  },
  {
   "cell_type": "code",
   "execution_count": 14,
   "id": "ee474569-3dd8-4abe-9b1b-a817dca46b2a",
   "metadata": {},
   "outputs": [
    {
     "data": {
      "text/plain": [
       "0.5"
      ]
     },
     "execution_count": 14,
     "metadata": {},
     "output_type": "execute_result"
    }
   ],
   "source": [
    "P1"
   ]
  },
  {
   "cell_type": "code",
   "execution_count": 15,
   "id": "e0b50ae4-84fc-428f-9957-957bd76ff97e",
   "metadata": {},
   "outputs": [],
   "source": [
    "P0 = y[y==0].shape[0]/y.shape[0]"
   ]
  },
  {
   "cell_type": "code",
   "execution_count": 16,
   "id": "a8a9a34b-5c17-4eb5-a246-eef9340dce4c",
   "metadata": {},
   "outputs": [
    {
     "data": {
      "text/plain": [
       "0.5"
      ]
     },
     "execution_count": 16,
     "metadata": {},
     "output_type": "execute_result"
    }
   ],
   "source": [
    "P0"
   ]
  },
  {
   "cell_type": "markdown",
   "id": "a9a4ab32-bb35-4dab-a06e-767247fb7a9e",
   "metadata": {},
   "source": [
    "P(f=1|y=1) = no of rows in f=1 column which has target y == 1 / y[y==1].shape[0]"
   ]
  },
  {
   "cell_type": "code",
   "execution_count": 36,
   "id": "43f8897d-12ce-4346-baa9-a0fd52d22560",
   "metadata": {},
   "outputs": [
    {
     "data": {
      "text/plain": [
       "(100, 1)"
      ]
     },
     "execution_count": 36,
     "metadata": {},
     "output_type": "execute_result"
    }
   ],
   "source": [
    "y.shape"
   ]
  },
  {
   "cell_type": "code",
   "execution_count": 39,
   "id": "b61a24c7-1e44-4cdd-a18b-22cac5838ec6",
   "metadata": {},
   "outputs": [],
   "source": [
    "ind = y==1"
   ]
  },
  {
   "cell_type": "code",
   "execution_count": 48,
   "id": "02774d88-dbee-4cf6-a063-63fcda558b0e",
   "metadata": {},
   "outputs": [],
   "source": [
    "pf0y1 = X[(y.ravel()==1) & (X[:,0] == 1) ].shape[0]/y[y==1].shape[0]"
   ]
  },
  {
   "cell_type": "code",
   "execution_count": 57,
   "id": "191e7f95-6ebb-4943-8137-808a323f611b",
   "metadata": {},
   "outputs": [
    {
     "data": {
      "text/plain": [
       "(100, 4)"
      ]
     },
     "execution_count": 57,
     "metadata": {},
     "output_type": "execute_result"
    }
   ],
   "source": [
    "X.shape"
   ]
  },
  {
   "cell_type": "code",
   "execution_count": 85,
   "id": "75c86fe9-d1bc-484e-99b5-7f96c9058d96",
   "metadata": {},
   "outputs": [
    {
     "data": {
      "text/plain": [
       "(70, 1)"
      ]
     },
     "execution_count": 85,
     "metadata": {},
     "output_type": "execute_result"
    }
   ],
   "source": [
    "Y_train.shape"
   ]
  },
  {
   "cell_type": "code",
   "execution_count": 49,
   "id": "17daf367-f7cc-40bc-9d22-88dba79c7d6a",
   "metadata": {},
   "outputs": [
    {
     "data": {
      "text/plain": [
       "0.26"
      ]
     },
     "execution_count": 49,
     "metadata": {},
     "output_type": "execute_result"
    }
   ],
   "source": [
    "pf0y1"
   ]
  },
  {
   "cell_type": "code",
   "execution_count": 147,
   "id": "0d9cc18e-b81f-4f60-9085-835fcbb7f902",
   "metadata": {},
   "outputs": [
    {
     "data": {
      "text/plain": [
       "(350,)"
      ]
     },
     "execution_count": 147,
     "metadata": {},
     "output_type": "execute_result"
    }
   ],
   "source": [
    "Y_train[Y_train==1].shape"
   ]
  },
  {
   "cell_type": "code",
   "execution_count": 143,
   "id": "1281579e-b9c6-4360-9c74-8a4b52458bf5",
   "metadata": {},
   "outputs": [],
   "source": [
    "feature1_y0 = np.zeros(X_train.shape[1])\n",
    "feature1_y1 = np.zeros(X_train.shape[1])\n",
    "for i in range(X_train.shape[1]):\n",
    "    pfi1y1 = (X_train[(Y_train.ravel()==1) & (X_train[:,i] == 1) ].shape[0] + 1)/(Y_train[Y_train==1].shape[0]+2)\n",
    "    feature1_y1[i] = pfi1y1\n",
    "    pfi1y0 = (X_train[(Y_train.ravel()==0) & (X_train[:,i] == 1) ].shape[0] + 1)/(Y_train[Y_train==0].shape[0]+2)\n",
    "    feature1_y0[i] = pfi1y0\n",
    "    "
   ]
  },
  {
   "cell_type": "code",
   "execution_count": 211,
   "id": "ffe252bd-5184-45dd-b288-1f2167ce804c",
   "metadata": {},
   "outputs": [],
   "source": [
    "f1y0 = feature1_y0"
   ]
  },
  {
   "cell_type": "code",
   "execution_count": 212,
   "id": "71e10b56-1d0b-4dbf-8fc0-1141c172c2fb",
   "metadata": {},
   "outputs": [],
   "source": [
    "f1y1 = feature1_y1"
   ]
  },
  {
   "cell_type": "code",
   "execution_count": 89,
   "id": "521d4d82-5b80-4cdd-9f16-f7cc884d5a78",
   "metadata": {},
   "outputs": [],
   "source": [
    "test = X[0]"
   ]
  },
  {
   "cell_type": "code",
   "execution_count": 90,
   "id": "26d25806-5641-47b6-87d7-4ce15e35391e",
   "metadata": {},
   "outputs": [
    {
     "name": "stdout",
     "output_type": "stream",
     "text": [
      "0.0041746585159833345 0.21609997023913732\n"
     ]
    }
   ],
   "source": [
    "p_0 = P1\n",
    "p_1 =P0\n",
    "for i in range(X.shape[1]):\n",
    "    if test[i] == 0:\n",
    "        p_0 *= 1-feature1_y0[i]\n",
    "        p_1 *= 1-feature1_y1[i]\n",
    "    else:\n",
    "        p_0 *= feature1_y0[i]\n",
    "        p_1 *= feature1_y1[i]\n",
    "print(p_0,p_1)\n",
    "    "
   ]
  },
  {
   "cell_type": "code",
   "execution_count": 91,
   "id": "a65fa578-28a0-4709-adad-c670750ba004",
   "metadata": {},
   "outputs": [
    {
     "data": {
      "text/plain": [
       "array([1])"
      ]
     },
     "execution_count": 91,
     "metadata": {},
     "output_type": "execute_result"
    }
   ],
   "source": [
    "y[0]"
   ]
  },
  {
   "cell_type": "markdown",
   "id": "d11d5939-7933-4e5a-887b-03c3b5bfc07f",
   "metadata": {},
   "source": [
    "Binaries features"
   ]
  },
  {
   "cell_type": "code",
   "execution_count": 73,
   "id": "467097d4-a906-4a88-b303-47b4c5447f63",
   "metadata": {},
   "outputs": [],
   "source": [
    "l = np.array([23,25,45,89,93,33])\n",
    "median = np.median(l,axis=0)\n",
    "l_bin = (l >=median).astype(int)"
   ]
  },
  {
   "cell_type": "code",
   "execution_count": 74,
   "id": "e2a089ac-adb2-41cd-a70c-9c160dfe069a",
   "metadata": {},
   "outputs": [
    {
     "data": {
      "text/plain": [
       "array([0, 0, 1, 1, 1, 0])"
      ]
     },
     "execution_count": 74,
     "metadata": {},
     "output_type": "execute_result"
    }
   ],
   "source": [
    "l_bin"
   ]
  },
  {
   "cell_type": "code",
   "execution_count": 340,
   "id": "36c61da0-8458-4dcb-9ff9-3ba1ea4f0f62",
   "metadata": {},
   "outputs": [],
   "source": [
    "class Bernoulli_naive_bayes:\n",
    "    def __init__(self,alpha=1,Binarize=False,fit_prior=True,threshold=0):\n",
    "        self.bindata = Binarize\n",
    "        self.threshold = threshold\n",
    "        self.fit_prior = fit_prior\n",
    "        self.lapace_const = alpha\n",
    "        \n",
    "    def compute_bayes(self,X,y):\n",
    "        self.feature1_y0 = np.zeros(X.shape[1])\n",
    "        self.feature1_y1 = np.zeros(X.shape[1])\n",
    "        for i in range(X.shape[1]):\n",
    "            pfi1y1 = (X[(y.ravel()==1) & (X[:,i] == 1) ].shape[0] + self.lapace_const)/(y[y==1].shape[0]+(2*self.lapace_const))\n",
    "            self.feature1_y1[i] = pfi1y1\n",
    "            pfi1y0 = (X[(y.ravel() == 0) & (X[:,i] == 1)].shape[0]+self.lapace_const)/(y[y==0].shape[0]+(2*self.lapace_const))\n",
    "            self.feature1_y0[i] = pfi1y0\n",
    "            \n",
    "            \n",
    "    def fit(self,X,y):\n",
    "        if self.bindata ==True:\n",
    "            \n",
    "            X_bin = (X >self.threshold).astype(int)\n",
    "            self.features = X_bin \n",
    "        else:\n",
    "            self.features = X \n",
    "        self.target = y\n",
    "        self.prior = y[y==1].shape[0]/y.shape[0]\n",
    "        self.compute_bayes(self.features,self.target)\n",
    "        \n",
    "    def predict_point(self,x):\n",
    "        p_0 = 0\n",
    "        p_1 =0\n",
    "        if self.fit_prior == True:\n",
    "            p_1 = np.log(self.prior)\n",
    "            p_0 = np.log(1-self.prior)\n",
    "        for i in range(len(x)):\n",
    "            if  x[i] == 0:\n",
    "                p_0 += np.log(1-self.feature1_y0[i])\n",
    "                p_1 += np.log(1-self.feature1_y1[i])\n",
    "            else:\n",
    "                p_0 += np.log(self.feature1_y0[i])\n",
    "                p_1 += np.log(self.feature1_y1[i])\n",
    "       \n",
    "        if p_0>p_1:\n",
    "            return 0\n",
    "        return 1\n",
    "            \n",
    "    def predict(self,X):\n",
    "        if self.bindata == True:\n",
    "            X = (X >self.threshold).astype(int)\n",
    "        preds = np.zeros(X.shape[0])\n",
    "        \n",
    "        for i in range(X.shape[0]):\n",
    "            prediction = self.predict_point(X[i])\n",
    "            preds[i] = prediction\n",
    "            \n",
    "        \n",
    "        return preds \n",
    "            \n",
    "            \n",
    "        \n",
    "        \n",
    "            "
   ]
  },
  {
   "cell_type": "code",
   "execution_count": 320,
   "id": "ff24ce7b-ec36-4d00-b36d-9074a309fe52",
   "metadata": {},
   "outputs": [],
   "source": [
    "from sklearn.datasets import make_classification\n",
    "from sklearn.naive_bayes import BernoulliNB\n",
    "from sklearn.model_selection import train_test_split\n",
    "from sklearn.metrics import accuracy_score"
   ]
  },
  {
   "cell_type": "code",
   "execution_count": 321,
   "id": "13f60ad1-b1f1-4a1e-8f39-28fc7c4e64f6",
   "metadata": {},
   "outputs": [],
   "source": [
    "X, y = make_classification(n_samples=1000, n_features=10, \n",
    "                           n_informative=5, n_redundant=0, \n",
    "                           n_classes=2, random_state=42)"
   ]
  },
  {
   "cell_type": "code",
   "execution_count": 322,
   "id": "ce0cf523-e481-40dd-ac40-e0d07d7c734d",
   "metadata": {},
   "outputs": [],
   "source": [
    "from sklearn.preprocessing import Binarizer"
   ]
  },
  {
   "cell_type": "code",
   "execution_count": 292,
   "id": "2b3705f1-f4d7-4a20-a467-26a9c2141cb6",
   "metadata": {},
   "outputs": [],
   "source": [
    "bini = Binarizer()\n",
    "X_bin = bini.fit_transform(X)"
   ]
  },
  {
   "cell_type": "code",
   "execution_count": 246,
   "id": "812e0797-cdf3-4f10-89e2-c17ae0f520e0",
   "metadata": {},
   "outputs": [
    {
     "data": {
      "text/plain": [
       "array([0., 1., 1., 0., 1., 0., 1., 1., 1., 1.])"
      ]
     },
     "execution_count": 246,
     "metadata": {},
     "output_type": "execute_result"
    }
   ],
   "source": [
    "X_bin[3]"
   ]
  },
  {
   "cell_type": "code",
   "execution_count": 266,
   "id": "e5adae4c-754e-4ac2-aa11-95d6367263df",
   "metadata": {},
   "outputs": [],
   "source": [
    "X_bin2 = (X >=0).astype(int)"
   ]
  },
  {
   "cell_type": "code",
   "execution_count": 268,
   "id": "50b02477-962b-4192-8b57-0eb02f50ff4d",
   "metadata": {},
   "outputs": [
    {
     "data": {
      "text/plain": [
       "0"
      ]
     },
     "execution_count": 268,
     "metadata": {},
     "output_type": "execute_result"
    }
   ],
   "source": [
    "np.sum(X_bin != X_bin2)"
   ]
  },
  {
   "cell_type": "code",
   "execution_count": 323,
   "id": "97fe69c3-a48c-4945-8129-893bb96cde08",
   "metadata": {},
   "outputs": [
    {
     "data": {
      "text/plain": [
       "array([[ 3.86239664, -0.53555708, -0.01563761, ..., -0.33032079,\n",
       "         3.25494185,  1.42375408],\n",
       "       [-2.75566887,  0.81133032, -3.80487368, ..., -2.12421181,\n",
       "        -1.9777969 ,  0.55165227],\n",
       "       [ 1.37952235,  0.86515655,  2.43884712, ...,  1.18589537,\n",
       "         0.81238553,  1.29054823],\n",
       "       ...,\n",
       "       [ 1.33017686,  0.08528407,  2.77181538, ..., -1.33552426,\n",
       "         0.72486005,  1.73966525],\n",
       "       [-1.19160029,  0.37709022,  1.58535027, ..., -2.02342646,\n",
       "        -0.02961941, -1.07821817],\n",
       "       [ 1.46458697,  0.39844805,  2.07032359, ...,  0.59166715,\n",
       "         0.43877996,  0.30288328]])"
      ]
     },
     "execution_count": 323,
     "metadata": {},
     "output_type": "execute_result"
    }
   ],
   "source": [
    "X"
   ]
  },
  {
   "cell_type": "code",
   "execution_count": 344,
   "id": "ecf55cd4-d9bc-47ca-8b06-f7c73276ec1d",
   "metadata": {},
   "outputs": [],
   "source": [
    "bn = Bernoulli_naive_bayes(Binarize=True,fit_prior=True)"
   ]
  },
  {
   "cell_type": "code",
   "execution_count": 345,
   "id": "adf3b207-9f5d-40f6-807c-300c18401978",
   "metadata": {},
   "outputs": [
    {
     "data": {
      "text/plain": [
       "(1000, 10)"
      ]
     },
     "execution_count": 345,
     "metadata": {},
     "output_type": "execute_result"
    }
   ],
   "source": [
    "X.shape"
   ]
  },
  {
   "cell_type": "code",
   "execution_count": 346,
   "id": "4d5e5023-743e-4f50-b53d-bacab625043e",
   "metadata": {},
   "outputs": [],
   "source": [
    "X_train,X_test = X[:700],X[700:]\n",
    "Y_train,Y_test = y[:700],y[700:]"
   ]
  },
  {
   "cell_type": "code",
   "execution_count": 347,
   "id": "c0154cea-309f-4e47-9623-b0659c5e9561",
   "metadata": {},
   "outputs": [],
   "source": [
    "bn.fit(X_train,Y_train)"
   ]
  },
  {
   "cell_type": "code",
   "execution_count": 348,
   "id": "78c2ab48-0727-4753-af8e-eef6551d8998",
   "metadata": {},
   "outputs": [
    {
     "name": "stdout",
     "output_type": "stream",
     "text": [
      "              precision    recall  f1-score   support\n",
      "\n",
      "           0       0.71      0.77      0.74       350\n",
      "           1       0.75      0.69      0.72       350\n",
      "\n",
      "    accuracy                           0.73       700\n",
      "   macro avg       0.73      0.73      0.73       700\n",
      "weighted avg       0.73      0.73      0.73       700\n",
      "\n"
     ]
    }
   ],
   "source": [
    "print(classification_report(Y_train,bn.predict(X_train)))"
   ]
  },
  {
   "cell_type": "code",
   "execution_count": 349,
   "id": "3cb8192a-fb33-474e-91c1-05a71e07cdf5",
   "metadata": {},
   "outputs": [
    {
     "name": "stdout",
     "output_type": "stream",
     "text": [
      "              precision    recall  f1-score   support\n",
      "\n",
      "           0       0.66      0.74      0.70       151\n",
      "           1       0.70      0.62      0.65       149\n",
      "\n",
      "    accuracy                           0.68       300\n",
      "   macro avg       0.68      0.68      0.68       300\n",
      "weighted avg       0.68      0.68      0.68       300\n",
      "\n"
     ]
    }
   ],
   "source": [
    "print(classification_report(Y_test,bn.predict(X_test)))"
   ]
  },
  {
   "cell_type": "markdown",
   "id": "42f90ef3-d895-47d6-bc9d-e47198ccc025",
   "metadata": {},
   "source": [
    "lets compare with Scikit-learn"
   ]
  },
  {
   "cell_type": "code",
   "execution_count": 330,
   "id": "d2f242ef-ac19-4114-b5b4-254d24e840d7",
   "metadata": {},
   "outputs": [],
   "source": [
    "from sklearn.naive_bayes import BernoulliNB"
   ]
  },
  {
   "cell_type": "code",
   "execution_count": 332,
   "id": "534dfd3b-8cb8-46f8-94aa-4c68b21dab84",
   "metadata": {},
   "outputs": [],
   "source": [
    "nb = BernoulliNB(binarize=True,fit_prior=True)"
   ]
  },
  {
   "cell_type": "code",
   "execution_count": 333,
   "id": "9d1a67a8-344b-4609-9964-3523bff70390",
   "metadata": {},
   "outputs": [
    {
     "data": {
      "text/html": [
       "<style>#sk-container-id-1 {\n",
       "  /* Definition of color scheme common for light and dark mode */\n",
       "  --sklearn-color-text: black;\n",
       "  --sklearn-color-line: gray;\n",
       "  /* Definition of color scheme for unfitted estimators */\n",
       "  --sklearn-color-unfitted-level-0: #fff5e6;\n",
       "  --sklearn-color-unfitted-level-1: #f6e4d2;\n",
       "  --sklearn-color-unfitted-level-2: #ffe0b3;\n",
       "  --sklearn-color-unfitted-level-3: chocolate;\n",
       "  /* Definition of color scheme for fitted estimators */\n",
       "  --sklearn-color-fitted-level-0: #f0f8ff;\n",
       "  --sklearn-color-fitted-level-1: #d4ebff;\n",
       "  --sklearn-color-fitted-level-2: #b3dbfd;\n",
       "  --sklearn-color-fitted-level-3: cornflowerblue;\n",
       "\n",
       "  /* Specific color for light theme */\n",
       "  --sklearn-color-text-on-default-background: var(--sg-text-color, var(--theme-code-foreground, var(--jp-content-font-color1, black)));\n",
       "  --sklearn-color-background: var(--sg-background-color, var(--theme-background, var(--jp-layout-color0, white)));\n",
       "  --sklearn-color-border-box: var(--sg-text-color, var(--theme-code-foreground, var(--jp-content-font-color1, black)));\n",
       "  --sklearn-color-icon: #696969;\n",
       "\n",
       "  @media (prefers-color-scheme: dark) {\n",
       "    /* Redefinition of color scheme for dark theme */\n",
       "    --sklearn-color-text-on-default-background: var(--sg-text-color, var(--theme-code-foreground, var(--jp-content-font-color1, white)));\n",
       "    --sklearn-color-background: var(--sg-background-color, var(--theme-background, var(--jp-layout-color0, #111)));\n",
       "    --sklearn-color-border-box: var(--sg-text-color, var(--theme-code-foreground, var(--jp-content-font-color1, white)));\n",
       "    --sklearn-color-icon: #878787;\n",
       "  }\n",
       "}\n",
       "\n",
       "#sk-container-id-1 {\n",
       "  color: var(--sklearn-color-text);\n",
       "}\n",
       "\n",
       "#sk-container-id-1 pre {\n",
       "  padding: 0;\n",
       "}\n",
       "\n",
       "#sk-container-id-1 input.sk-hidden--visually {\n",
       "  border: 0;\n",
       "  clip: rect(1px 1px 1px 1px);\n",
       "  clip: rect(1px, 1px, 1px, 1px);\n",
       "  height: 1px;\n",
       "  margin: -1px;\n",
       "  overflow: hidden;\n",
       "  padding: 0;\n",
       "  position: absolute;\n",
       "  width: 1px;\n",
       "}\n",
       "\n",
       "#sk-container-id-1 div.sk-dashed-wrapped {\n",
       "  border: 1px dashed var(--sklearn-color-line);\n",
       "  margin: 0 0.4em 0.5em 0.4em;\n",
       "  box-sizing: border-box;\n",
       "  padding-bottom: 0.4em;\n",
       "  background-color: var(--sklearn-color-background);\n",
       "}\n",
       "\n",
       "#sk-container-id-1 div.sk-container {\n",
       "  /* jupyter's `normalize.less` sets `[hidden] { display: none; }`\n",
       "     but bootstrap.min.css set `[hidden] { display: none !important; }`\n",
       "     so we also need the `!important` here to be able to override the\n",
       "     default hidden behavior on the sphinx rendered scikit-learn.org.\n",
       "     See: https://github.com/scikit-learn/scikit-learn/issues/21755 */\n",
       "  display: inline-block !important;\n",
       "  position: relative;\n",
       "}\n",
       "\n",
       "#sk-container-id-1 div.sk-text-repr-fallback {\n",
       "  display: none;\n",
       "}\n",
       "\n",
       "div.sk-parallel-item,\n",
       "div.sk-serial,\n",
       "div.sk-item {\n",
       "  /* draw centered vertical line to link estimators */\n",
       "  background-image: linear-gradient(var(--sklearn-color-text-on-default-background), var(--sklearn-color-text-on-default-background));\n",
       "  background-size: 2px 100%;\n",
       "  background-repeat: no-repeat;\n",
       "  background-position: center center;\n",
       "}\n",
       "\n",
       "/* Parallel-specific style estimator block */\n",
       "\n",
       "#sk-container-id-1 div.sk-parallel-item::after {\n",
       "  content: \"\";\n",
       "  width: 100%;\n",
       "  border-bottom: 2px solid var(--sklearn-color-text-on-default-background);\n",
       "  flex-grow: 1;\n",
       "}\n",
       "\n",
       "#sk-container-id-1 div.sk-parallel {\n",
       "  display: flex;\n",
       "  align-items: stretch;\n",
       "  justify-content: center;\n",
       "  background-color: var(--sklearn-color-background);\n",
       "  position: relative;\n",
       "}\n",
       "\n",
       "#sk-container-id-1 div.sk-parallel-item {\n",
       "  display: flex;\n",
       "  flex-direction: column;\n",
       "}\n",
       "\n",
       "#sk-container-id-1 div.sk-parallel-item:first-child::after {\n",
       "  align-self: flex-end;\n",
       "  width: 50%;\n",
       "}\n",
       "\n",
       "#sk-container-id-1 div.sk-parallel-item:last-child::after {\n",
       "  align-self: flex-start;\n",
       "  width: 50%;\n",
       "}\n",
       "\n",
       "#sk-container-id-1 div.sk-parallel-item:only-child::after {\n",
       "  width: 0;\n",
       "}\n",
       "\n",
       "/* Serial-specific style estimator block */\n",
       "\n",
       "#sk-container-id-1 div.sk-serial {\n",
       "  display: flex;\n",
       "  flex-direction: column;\n",
       "  align-items: center;\n",
       "  background-color: var(--sklearn-color-background);\n",
       "  padding-right: 1em;\n",
       "  padding-left: 1em;\n",
       "}\n",
       "\n",
       "\n",
       "/* Toggleable style: style used for estimator/Pipeline/ColumnTransformer box that is\n",
       "clickable and can be expanded/collapsed.\n",
       "- Pipeline and ColumnTransformer use this feature and define the default style\n",
       "- Estimators will overwrite some part of the style using the `sk-estimator` class\n",
       "*/\n",
       "\n",
       "/* Pipeline and ColumnTransformer style (default) */\n",
       "\n",
       "#sk-container-id-1 div.sk-toggleable {\n",
       "  /* Default theme specific background. It is overwritten whether we have a\n",
       "  specific estimator or a Pipeline/ColumnTransformer */\n",
       "  background-color: var(--sklearn-color-background);\n",
       "}\n",
       "\n",
       "/* Toggleable label */\n",
       "#sk-container-id-1 label.sk-toggleable__label {\n",
       "  cursor: pointer;\n",
       "  display: block;\n",
       "  width: 100%;\n",
       "  margin-bottom: 0;\n",
       "  padding: 0.5em;\n",
       "  box-sizing: border-box;\n",
       "  text-align: center;\n",
       "}\n",
       "\n",
       "#sk-container-id-1 label.sk-toggleable__label-arrow:before {\n",
       "  /* Arrow on the left of the label */\n",
       "  content: \"▸\";\n",
       "  float: left;\n",
       "  margin-right: 0.25em;\n",
       "  color: var(--sklearn-color-icon);\n",
       "}\n",
       "\n",
       "#sk-container-id-1 label.sk-toggleable__label-arrow:hover:before {\n",
       "  color: var(--sklearn-color-text);\n",
       "}\n",
       "\n",
       "/* Toggleable content - dropdown */\n",
       "\n",
       "#sk-container-id-1 div.sk-toggleable__content {\n",
       "  max-height: 0;\n",
       "  max-width: 0;\n",
       "  overflow: hidden;\n",
       "  text-align: left;\n",
       "  /* unfitted */\n",
       "  background-color: var(--sklearn-color-unfitted-level-0);\n",
       "}\n",
       "\n",
       "#sk-container-id-1 div.sk-toggleable__content.fitted {\n",
       "  /* fitted */\n",
       "  background-color: var(--sklearn-color-fitted-level-0);\n",
       "}\n",
       "\n",
       "#sk-container-id-1 div.sk-toggleable__content pre {\n",
       "  margin: 0.2em;\n",
       "  border-radius: 0.25em;\n",
       "  color: var(--sklearn-color-text);\n",
       "  /* unfitted */\n",
       "  background-color: var(--sklearn-color-unfitted-level-0);\n",
       "}\n",
       "\n",
       "#sk-container-id-1 div.sk-toggleable__content.fitted pre {\n",
       "  /* unfitted */\n",
       "  background-color: var(--sklearn-color-fitted-level-0);\n",
       "}\n",
       "\n",
       "#sk-container-id-1 input.sk-toggleable__control:checked~div.sk-toggleable__content {\n",
       "  /* Expand drop-down */\n",
       "  max-height: 200px;\n",
       "  max-width: 100%;\n",
       "  overflow: auto;\n",
       "}\n",
       "\n",
       "#sk-container-id-1 input.sk-toggleable__control:checked~label.sk-toggleable__label-arrow:before {\n",
       "  content: \"▾\";\n",
       "}\n",
       "\n",
       "/* Pipeline/ColumnTransformer-specific style */\n",
       "\n",
       "#sk-container-id-1 div.sk-label input.sk-toggleable__control:checked~label.sk-toggleable__label {\n",
       "  color: var(--sklearn-color-text);\n",
       "  background-color: var(--sklearn-color-unfitted-level-2);\n",
       "}\n",
       "\n",
       "#sk-container-id-1 div.sk-label.fitted input.sk-toggleable__control:checked~label.sk-toggleable__label {\n",
       "  background-color: var(--sklearn-color-fitted-level-2);\n",
       "}\n",
       "\n",
       "/* Estimator-specific style */\n",
       "\n",
       "/* Colorize estimator box */\n",
       "#sk-container-id-1 div.sk-estimator input.sk-toggleable__control:checked~label.sk-toggleable__label {\n",
       "  /* unfitted */\n",
       "  background-color: var(--sklearn-color-unfitted-level-2);\n",
       "}\n",
       "\n",
       "#sk-container-id-1 div.sk-estimator.fitted input.sk-toggleable__control:checked~label.sk-toggleable__label {\n",
       "  /* fitted */\n",
       "  background-color: var(--sklearn-color-fitted-level-2);\n",
       "}\n",
       "\n",
       "#sk-container-id-1 div.sk-label label.sk-toggleable__label,\n",
       "#sk-container-id-1 div.sk-label label {\n",
       "  /* The background is the default theme color */\n",
       "  color: var(--sklearn-color-text-on-default-background);\n",
       "}\n",
       "\n",
       "/* On hover, darken the color of the background */\n",
       "#sk-container-id-1 div.sk-label:hover label.sk-toggleable__label {\n",
       "  color: var(--sklearn-color-text);\n",
       "  background-color: var(--sklearn-color-unfitted-level-2);\n",
       "}\n",
       "\n",
       "/* Label box, darken color on hover, fitted */\n",
       "#sk-container-id-1 div.sk-label.fitted:hover label.sk-toggleable__label.fitted {\n",
       "  color: var(--sklearn-color-text);\n",
       "  background-color: var(--sklearn-color-fitted-level-2);\n",
       "}\n",
       "\n",
       "/* Estimator label */\n",
       "\n",
       "#sk-container-id-1 div.sk-label label {\n",
       "  font-family: monospace;\n",
       "  font-weight: bold;\n",
       "  display: inline-block;\n",
       "  line-height: 1.2em;\n",
       "}\n",
       "\n",
       "#sk-container-id-1 div.sk-label-container {\n",
       "  text-align: center;\n",
       "}\n",
       "\n",
       "/* Estimator-specific */\n",
       "#sk-container-id-1 div.sk-estimator {\n",
       "  font-family: monospace;\n",
       "  border: 1px dotted var(--sklearn-color-border-box);\n",
       "  border-radius: 0.25em;\n",
       "  box-sizing: border-box;\n",
       "  margin-bottom: 0.5em;\n",
       "  /* unfitted */\n",
       "  background-color: var(--sklearn-color-unfitted-level-0);\n",
       "}\n",
       "\n",
       "#sk-container-id-1 div.sk-estimator.fitted {\n",
       "  /* fitted */\n",
       "  background-color: var(--sklearn-color-fitted-level-0);\n",
       "}\n",
       "\n",
       "/* on hover */\n",
       "#sk-container-id-1 div.sk-estimator:hover {\n",
       "  /* unfitted */\n",
       "  background-color: var(--sklearn-color-unfitted-level-2);\n",
       "}\n",
       "\n",
       "#sk-container-id-1 div.sk-estimator.fitted:hover {\n",
       "  /* fitted */\n",
       "  background-color: var(--sklearn-color-fitted-level-2);\n",
       "}\n",
       "\n",
       "/* Specification for estimator info (e.g. \"i\" and \"?\") */\n",
       "\n",
       "/* Common style for \"i\" and \"?\" */\n",
       "\n",
       ".sk-estimator-doc-link,\n",
       "a:link.sk-estimator-doc-link,\n",
       "a:visited.sk-estimator-doc-link {\n",
       "  float: right;\n",
       "  font-size: smaller;\n",
       "  line-height: 1em;\n",
       "  font-family: monospace;\n",
       "  background-color: var(--sklearn-color-background);\n",
       "  border-radius: 1em;\n",
       "  height: 1em;\n",
       "  width: 1em;\n",
       "  text-decoration: none !important;\n",
       "  margin-left: 1ex;\n",
       "  /* unfitted */\n",
       "  border: var(--sklearn-color-unfitted-level-1) 1pt solid;\n",
       "  color: var(--sklearn-color-unfitted-level-1);\n",
       "}\n",
       "\n",
       ".sk-estimator-doc-link.fitted,\n",
       "a:link.sk-estimator-doc-link.fitted,\n",
       "a:visited.sk-estimator-doc-link.fitted {\n",
       "  /* fitted */\n",
       "  border: var(--sklearn-color-fitted-level-1) 1pt solid;\n",
       "  color: var(--sklearn-color-fitted-level-1);\n",
       "}\n",
       "\n",
       "/* On hover */\n",
       "div.sk-estimator:hover .sk-estimator-doc-link:hover,\n",
       ".sk-estimator-doc-link:hover,\n",
       "div.sk-label-container:hover .sk-estimator-doc-link:hover,\n",
       ".sk-estimator-doc-link:hover {\n",
       "  /* unfitted */\n",
       "  background-color: var(--sklearn-color-unfitted-level-3);\n",
       "  color: var(--sklearn-color-background);\n",
       "  text-decoration: none;\n",
       "}\n",
       "\n",
       "div.sk-estimator.fitted:hover .sk-estimator-doc-link.fitted:hover,\n",
       ".sk-estimator-doc-link.fitted:hover,\n",
       "div.sk-label-container:hover .sk-estimator-doc-link.fitted:hover,\n",
       ".sk-estimator-doc-link.fitted:hover {\n",
       "  /* fitted */\n",
       "  background-color: var(--sklearn-color-fitted-level-3);\n",
       "  color: var(--sklearn-color-background);\n",
       "  text-decoration: none;\n",
       "}\n",
       "\n",
       "/* Span, style for the box shown on hovering the info icon */\n",
       ".sk-estimator-doc-link span {\n",
       "  display: none;\n",
       "  z-index: 9999;\n",
       "  position: relative;\n",
       "  font-weight: normal;\n",
       "  right: .2ex;\n",
       "  padding: .5ex;\n",
       "  margin: .5ex;\n",
       "  width: min-content;\n",
       "  min-width: 20ex;\n",
       "  max-width: 50ex;\n",
       "  color: var(--sklearn-color-text);\n",
       "  box-shadow: 2pt 2pt 4pt #999;\n",
       "  /* unfitted */\n",
       "  background: var(--sklearn-color-unfitted-level-0);\n",
       "  border: .5pt solid var(--sklearn-color-unfitted-level-3);\n",
       "}\n",
       "\n",
       ".sk-estimator-doc-link.fitted span {\n",
       "  /* fitted */\n",
       "  background: var(--sklearn-color-fitted-level-0);\n",
       "  border: var(--sklearn-color-fitted-level-3);\n",
       "}\n",
       "\n",
       ".sk-estimator-doc-link:hover span {\n",
       "  display: block;\n",
       "}\n",
       "\n",
       "/* \"?\"-specific style due to the `<a>` HTML tag */\n",
       "\n",
       "#sk-container-id-1 a.estimator_doc_link {\n",
       "  float: right;\n",
       "  font-size: 1rem;\n",
       "  line-height: 1em;\n",
       "  font-family: monospace;\n",
       "  background-color: var(--sklearn-color-background);\n",
       "  border-radius: 1rem;\n",
       "  height: 1rem;\n",
       "  width: 1rem;\n",
       "  text-decoration: none;\n",
       "  /* unfitted */\n",
       "  color: var(--sklearn-color-unfitted-level-1);\n",
       "  border: var(--sklearn-color-unfitted-level-1) 1pt solid;\n",
       "}\n",
       "\n",
       "#sk-container-id-1 a.estimator_doc_link.fitted {\n",
       "  /* fitted */\n",
       "  border: var(--sklearn-color-fitted-level-1) 1pt solid;\n",
       "  color: var(--sklearn-color-fitted-level-1);\n",
       "}\n",
       "\n",
       "/* On hover */\n",
       "#sk-container-id-1 a.estimator_doc_link:hover {\n",
       "  /* unfitted */\n",
       "  background-color: var(--sklearn-color-unfitted-level-3);\n",
       "  color: var(--sklearn-color-background);\n",
       "  text-decoration: none;\n",
       "}\n",
       "\n",
       "#sk-container-id-1 a.estimator_doc_link.fitted:hover {\n",
       "  /* fitted */\n",
       "  background-color: var(--sklearn-color-fitted-level-3);\n",
       "}\n",
       "</style><div id=\"sk-container-id-1\" class=\"sk-top-container\"><div class=\"sk-text-repr-fallback\"><pre>BernoulliNB(binarize=True)</pre><b>In a Jupyter environment, please rerun this cell to show the HTML representation or trust the notebook. <br />On GitHub, the HTML representation is unable to render, please try loading this page with nbviewer.org.</b></div><div class=\"sk-container\" hidden><div class=\"sk-item\"><div class=\"sk-estimator fitted sk-toggleable\"><input class=\"sk-toggleable__control sk-hidden--visually\" id=\"sk-estimator-id-1\" type=\"checkbox\" checked><label for=\"sk-estimator-id-1\" class=\"sk-toggleable__label fitted sk-toggleable__label-arrow fitted\">&nbsp;&nbsp;BernoulliNB<a class=\"sk-estimator-doc-link fitted\" rel=\"noreferrer\" target=\"_blank\" href=\"https://scikit-learn.org/1.5/modules/generated/sklearn.naive_bayes.BernoulliNB.html\">?<span>Documentation for BernoulliNB</span></a><span class=\"sk-estimator-doc-link fitted\">i<span>Fitted</span></span></label><div class=\"sk-toggleable__content fitted\"><pre>BernoulliNB(binarize=True)</pre></div> </div></div></div></div>"
      ],
      "text/plain": [
       "BernoulliNB(binarize=True)"
      ]
     },
     "execution_count": 333,
     "metadata": {},
     "output_type": "execute_result"
    }
   ],
   "source": [
    "nb.fit(X_train,Y_train)"
   ]
  },
  {
   "cell_type": "code",
   "execution_count": 334,
   "id": "08534a08-4c99-4438-be51-8b4df9854d67",
   "metadata": {},
   "outputs": [
    {
     "name": "stdout",
     "output_type": "stream",
     "text": [
      "              precision    recall  f1-score   support\n",
      "\n",
      "           0       0.69      0.67      0.68       350\n",
      "           1       0.68      0.69      0.69       350\n",
      "\n",
      "    accuracy                           0.68       700\n",
      "   macro avg       0.68      0.68      0.68       700\n",
      "weighted avg       0.68      0.68      0.68       700\n",
      "\n"
     ]
    }
   ],
   "source": [
    "print(classification_report(Y_train,nb.predict(X_train)))"
   ]
  },
  {
   "cell_type": "code",
   "execution_count": 335,
   "id": "e20929c9-accd-4973-a551-78ee2e6c880a",
   "metadata": {},
   "outputs": [
    {
     "name": "stdout",
     "output_type": "stream",
     "text": [
      "              precision    recall  f1-score   support\n",
      "\n",
      "           0       0.71      0.62      0.66       151\n",
      "           1       0.66      0.74      0.70       149\n",
      "\n",
      "    accuracy                           0.68       300\n",
      "   macro avg       0.68      0.68      0.68       300\n",
      "weighted avg       0.68      0.68      0.68       300\n",
      "\n"
     ]
    }
   ],
   "source": [
    "print(classification_report(Y_test,nb.predict(X_test)))"
   ]
  },
  {
   "cell_type": "code",
   "execution_count": 341,
   "id": "1cb729ba-ef02-4970-a112-b26a6dc2107b",
   "metadata": {},
   "outputs": [],
   "source": [
    "bn2 = Bernoulli_naive_bayes(Binarize=True,fit_prior=True,threshold=2)"
   ]
  },
  {
   "cell_type": "code",
   "execution_count": 342,
   "id": "2b368eb3-068c-46f1-9082-12d1673f86c8",
   "metadata": {},
   "outputs": [],
   "source": [
    "bn2.fit(X_train,Y_train)"
   ]
  },
  {
   "cell_type": "code",
   "execution_count": 343,
   "id": "8af91146-6746-477f-967e-eb7ad486cc7f",
   "metadata": {},
   "outputs": [
    {
     "name": "stdout",
     "output_type": "stream",
     "text": [
      "              precision    recall  f1-score   support\n",
      "\n",
      "           0       0.76      0.39      0.52       350\n",
      "           1       0.59      0.88      0.71       350\n",
      "\n",
      "    accuracy                           0.63       700\n",
      "   macro avg       0.68      0.63      0.61       700\n",
      "weighted avg       0.68      0.63      0.61       700\n",
      "\n"
     ]
    }
   ],
   "source": [
    "print(classification_report(Y_train,bn2.predict(X_train)))"
   ]
  },
  {
   "cell_type": "code",
   "execution_count": null,
   "id": "9a355e67-8139-4716-a0ed-aac8e26b4bb2",
   "metadata": {},
   "outputs": [],
   "source": []
  }
 ],
 "metadata": {
  "kernelspec": {
   "display_name": "Python 3 (ipykernel)",
   "language": "python",
   "name": "python3"
  },
  "language_info": {
   "codemirror_mode": {
    "name": "ipython",
    "version": 3
   },
   "file_extension": ".py",
   "mimetype": "text/x-python",
   "name": "python",
   "nbconvert_exporter": "python",
   "pygments_lexer": "ipython3",
   "version": "3.12.7"
  }
 },
 "nbformat": 4,
 "nbformat_minor": 5
}
