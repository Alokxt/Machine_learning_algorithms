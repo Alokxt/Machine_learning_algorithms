{
 "cells": [
  {
   "cell_type": "code",
   "execution_count": 1,
   "id": "64a43f5b-f259-4de8-9806-375b5c56c651",
   "metadata": {},
   "outputs": [],
   "source": [
    "import numpy as np\n",
    "import pandas as pd"
   ]
  },
  {
   "cell_type": "code",
   "execution_count": 2,
   "id": "e0ef2b41-5a93-4190-8c3a-5ada643ebb7d",
   "metadata": {},
   "outputs": [
    {
     "name": "stdout",
     "output_type": "stream",
     "text": [
      "(150, 4) (150,)\n"
     ]
    }
   ],
   "source": [
    "from sklearn.datasets import load_iris\n",
    "import numpy as np\n",
    "\n",
    "X, y = load_iris(return_X_y=True)\n",
    "print(X.shape, y.shape) "
   ]
  },
  {
   "cell_type": "code",
   "execution_count": 16,
   "id": "d4ff4e17-cbb7-4f0d-a53d-af477050b152",
   "metadata": {},
   "outputs": [],
   "source": [
    "n = X.shape[0]\n",
    "rnd = np.arange(n)\n",
    "np.random.seed(42)\n",
    "np.random.shuffle(rnd)"
   ]
  },
  {
   "cell_type": "code",
   "execution_count": 19,
   "id": "cbe4a04b-fd3e-4a95-8ef9-0096fd53228b",
   "metadata": {},
   "outputs": [],
   "source": [
    "Xs = X[rnd]\n",
    "ys = y[rnd]"
   ]
  },
  {
   "cell_type": "code",
   "execution_count": 26,
   "id": "772735f4-566f-44d9-bba2-b9bef0e9e4dd",
   "metadata": {},
   "outputs": [],
   "source": [
    "X_train,X_test = Xs[:105],Xs[105:]"
   ]
  },
  {
   "cell_type": "code",
   "execution_count": 27,
   "id": "801ff598-85f5-4172-b827-7ed6be7bc655",
   "metadata": {},
   "outputs": [],
   "source": [
    "Y_train,Y_test = ys[:105],ys[105:]"
   ]
  },
  {
   "cell_type": "markdown",
   "id": "6ea58b56-3d8c-48cc-a21e-0a3c202717b9",
   "metadata": {},
   "source": [
    "feature Independance ~ means and variances for every class of every feature , No shared Covariance"
   ]
  },
  {
   "cell_type": "markdown",
   "id": "ab10e176-d664-4f11-b3fe-ccf361b3e4e4",
   "metadata": {},
   "source": [
    "Means[k][f] - mean of every kth class in fth feature \n",
    "variance[k][f] - variance of -----\n",
    "probabilities for every kth class - log(prior[k]) - 1/2 (log(2*pie*variance[k][j]) + (xj-u[k][j])**2/variance[k][j])\n",
    "             class having heighest prob will we predicted"
   ]
  },
  {
   "cell_type": "code",
   "execution_count": 28,
   "id": "6731646c-0162-4ab6-a21c-120d1d6d591f",
   "metadata": {},
   "outputs": [],
   "source": [
    "means = np.zeros((np.unique(y).shape[0],X.shape[1]))"
   ]
  },
  {
   "cell_type": "code",
   "execution_count": 29,
   "id": "f7793f5e-0f34-456d-a7c2-bbf2496f2ef1",
   "metadata": {},
   "outputs": [],
   "source": [
    "k = np.unique(y).shape[0]"
   ]
  },
  {
   "cell_type": "code",
   "execution_count": 41,
   "id": "7470f614-8844-419e-bd29-b702403de07f",
   "metadata": {},
   "outputs": [],
   "source": [
    "for i in range(k):\n",
    "    for j in range(X.shape[1]):\n",
    "        means[i][j] = X_train[Y_train==i,j].mean()\n",
    "        \n",
    "    "
   ]
  },
  {
   "cell_type": "code",
   "execution_count": 42,
   "id": "446ee116-cb05-4d47-9522-873555e250a1",
   "metadata": {},
   "outputs": [],
   "source": [
    "variances = np.array([X_train[Y_train==i].var(axis=0) for i in np.unique(Y_train)])"
   ]
  },
  {
   "cell_type": "code",
   "execution_count": 44,
   "id": "05b43aa9-3cac-4fda-a168-df1d6f4f3d39",
   "metadata": {},
   "outputs": [
    {
     "data": {
      "text/plain": [
       "array([[0.1165    , 0.12219375, 0.0316    , 0.012     ],\n",
       "       [0.2332966 , 0.11702479, 0.2368595 , 0.04707071],\n",
       "       [0.41      , 0.13616211, 0.34631836, 0.07652344]])"
      ]
     },
     "execution_count": 44,
     "metadata": {},
     "output_type": "execute_result"
    }
   ],
   "source": [
    "variances"
   ]
  },
  {
   "cell_type": "code",
   "execution_count": 45,
   "id": "5c73e677-c121-4503-929b-46b528493878",
   "metadata": {},
   "outputs": [],
   "source": [
    "priors = np.bincount(Y_train)/Y_train.shape[0]"
   ]
  },
  {
   "cell_type": "code",
   "execution_count": 46,
   "id": "e73986ed-8b45-4170-9fc4-a5f4ed1aca7c",
   "metadata": {},
   "outputs": [
    {
     "data": {
      "text/plain": [
       "array([0.38095238, 0.31428571, 0.3047619 ])"
      ]
     },
     "execution_count": 46,
     "metadata": {},
     "output_type": "execute_result"
    }
   ],
   "source": [
    "priors"
   ]
  },
  {
   "cell_type": "code",
   "execution_count": 73,
   "id": "d27281af-6b0a-4a47-a295-f14f5386e3e2",
   "metadata": {},
   "outputs": [],
   "source": [
    "probs = np.zeros((k,X_test.shape[0]))"
   ]
  },
  {
   "cell_type": "code",
   "execution_count": 74,
   "id": "62f27be0-17f2-422d-9ab9-7e8b33aad036",
   "metadata": {},
   "outputs": [
    {
     "data": {
      "text/plain": [
       "(3, 45)"
      ]
     },
     "execution_count": 74,
     "metadata": {},
     "output_type": "execute_result"
    }
   ],
   "source": [
    "probs.shape"
   ]
  },
  {
   "cell_type": "code",
   "execution_count": 86,
   "id": "b56adc6e-2014-4e39-be9c-d5273523c1e5",
   "metadata": {},
   "outputs": [],
   "source": [
    "for i in range(k):\n",
    "    prob = np.sum((X_test -means[i])**2/variances[i] + np.log(6.28*variances[i]),axis=1)\n",
    "    p = np.log(priors[i]) - 0.5*prob\n",
    "    probs[i] = p\n",
    "    "
   ]
  },
  {
   "cell_type": "code",
   "execution_count": 79,
   "id": "62f0fc1b-90eb-4098-8003-ab1a4197c96a",
   "metadata": {},
   "outputs": [
    {
     "data": {
      "text/plain": [
       "array([[ 2.29889356e+00, -1.45379839e+02, -1.69039534e+02,\n",
       "         8.43702662e+00, -1.00141467e+02, -1.04033407e+02,\n",
       "        -1.18410410e+02, -1.05231686e+02, -1.49650250e+02,\n",
       "        -4.81664410e-01, -1.44635932e+02, -9.59475581e+01,\n",
       "        -1.35178784e+02, -6.15431614e+01, -8.28022055e+01,\n",
       "        -9.89683745e+01,  8.81140513e+00, -9.65384443e+01,\n",
       "        -8.32586320e+01,  6.51431203e-01, -8.47443927e+01,\n",
       "        -1.47274804e+02, -1.49342770e+02, -6.82353303e+00,\n",
       "        -5.41267556e+01, -1.66009437e+02, -1.31010080e+02,\n",
       "         8.52630078e+00, -1.59442119e+02,  6.81475150e+00,\n",
       "        -1.11724539e+02, -1.48296912e+02, -1.31907009e+02,\n",
       "        -8.43552048e+01, -1.31592286e+02, -8.96312163e+01,\n",
       "        -9.09332398e+01, -1.25750915e+02, -1.22688064e+02,\n",
       "        -1.71475162e+00, -8.44896645e+01, -1.02689950e+02,\n",
       "         2.02478521e+00, -7.82170717e+01, -1.52996507e+02],\n",
       "       [ 1.62532113e+01, -1.45278685e+01, -2.00424559e+01,\n",
       "         1.81667390e+01, -3.47598527e+00, -4.75713935e+00,\n",
       "        -7.72306748e+00, -6.68664000e+00, -1.62273827e+01,\n",
       "         1.41126151e+01, -1.49583522e+01, -3.48136000e+00,\n",
       "        -1.21893915e+01,  5.44514648e+00,  9.96174398e-01,\n",
       "        -3.69214956e+00,  2.13784852e+01, -3.27425517e+00,\n",
       "         1.84946143e+00,  1.43223317e+01, -5.02842519e-01,\n",
       "        -1.36742754e+01, -1.60175199e+01,  1.26265071e+01,\n",
       "         8.43641308e+00, -2.02664469e+01, -1.07072743e+01,\n",
       "         1.68801967e+01, -1.81385998e+01,  1.83815243e+01,\n",
       "        -7.52948363e+00, -1.41013755e+01, -1.00534116e+01,\n",
       "         1.37357803e-01, -1.06982148e+01,  3.54453715e-01,\n",
       "        -2.21232946e+00, -8.77270989e+00, -8.56791571e+00,\n",
       "         1.49676007e+01, -5.08824402e-01, -1.95961637e+00,\n",
       "         1.26022416e+01,  2.05088549e+00, -1.60152092e+01],\n",
       "       [ 1.65996826e+01, -2.29491838e+00, -6.12224784e+00,\n",
       "         1.80099205e+01,  4.65471826e+00,  4.02510397e+00,\n",
       "         2.14202220e+00,  2.45552922e+00, -3.55956973e+00,\n",
       "         1.48857320e+01, -2.63970313e+00,  4.59989590e+00,\n",
       "        -8.42542650e-01,  1.05902395e+01,  7.64170456e+00,\n",
       "         4.43188473e+00,  2.09053125e+01,  4.84273258e+00,\n",
       "         8.22797029e+00,  1.51534148e+01,  6.41691456e+00,\n",
       "        -1.73228799e+00, -3.56334688e+00,  1.40905280e+01,\n",
       "         1.25890196e+01, -6.17692523e+00,  5.11221993e-02,\n",
       "         1.68061994e+01, -4.64473611e+00,  1.83560609e+01,\n",
       "         2.00254355e+00, -1.85167279e+00,  4.97855006e-01,\n",
       "         7.02938205e+00,  3.11190427e-02,  7.70059401e+00,\n",
       "         5.51976250e+00,  1.42256451e+00,  1.34032967e+00,\n",
       "         1.58443399e+01,  6.68595300e+00,  5.91553819e+00,\n",
       "         1.38751581e+01,  8.43961995e+00, -3.23827535e+00]])"
      ]
     },
     "execution_count": 79,
     "metadata": {},
     "output_type": "execute_result"
    }
   ],
   "source": [
    "probs"
   ]
  },
  {
   "cell_type": "code",
   "execution_count": 71,
   "id": "7fdba887-944f-47dd-8517-115364908ba5",
   "metadata": {},
   "outputs": [
    {
     "data": {
      "text/plain": [
       "(45,)"
      ]
     },
     "execution_count": 71,
     "metadata": {},
     "output_type": "execute_result"
    }
   ],
   "source": [
    "(np.sum((X_test - means[0])/variances[0] +  np.log(6.28*variances[0]),axis=1)).shape"
   ]
  },
  {
   "cell_type": "code",
   "execution_count": 77,
   "id": "b6ed1bd3-16e3-4ee0-a9a7-24fb94be223c",
   "metadata": {},
   "outputs": [
    {
     "data": {
      "text/plain": [
       "(45,)"
      ]
     },
     "execution_count": 77,
     "metadata": {},
     "output_type": "execute_result"
    }
   ],
   "source": [
    "(np.log(priors[i]) - 0.5*(np.sum((X_test - means[0])/variances[0] +  np.log(6.28*variances[0]),axis=1))).shape"
   ]
  },
  {
   "cell_type": "code",
   "execution_count": 82,
   "id": "864f3af0-f729-4a21-a23d-3b0ebbf5d745",
   "metadata": {},
   "outputs": [
    {
     "data": {
      "text/plain": [
       "(3, 45)"
      ]
     },
     "execution_count": 82,
     "metadata": {},
     "output_type": "execute_result"
    }
   ],
   "source": [
    "probs.shape"
   ]
  },
  {
   "cell_type": "code",
   "execution_count": 87,
   "id": "65aa4d1a-ca47-488f-9561-a672262dc31b",
   "metadata": {},
   "outputs": [],
   "source": [
    "max_p = np.argmax(probs,axis=0)"
   ]
  },
  {
   "cell_type": "code",
   "execution_count": 88,
   "id": "6fff02f3-84fa-4eef-a3c9-a5a88c7225ba",
   "metadata": {},
   "outputs": [
    {
     "data": {
      "text/plain": [
       "array([0, 2, 2, 0, 1, 1, 2, 1, 2, 0, 2, 1, 2, 1, 1, 1, 0, 1, 1, 0, 1, 2,\n",
       "       2, 0, 1, 2, 2, 0, 2, 0, 2, 2, 2, 1, 2, 1, 1, 2, 2, 0, 1, 1, 0, 1,\n",
       "       2], dtype=int64)"
      ]
     },
     "execution_count": 88,
     "metadata": {},
     "output_type": "execute_result"
    }
   ],
   "source": [
    "max_p"
   ]
  },
  {
   "cell_type": "code",
   "execution_count": 85,
   "id": "c8e748ad-30f1-4e22-93c4-38c9bbe8a9f7",
   "metadata": {},
   "outputs": [
    {
     "data": {
      "text/plain": [
       "array([0, 2, 2, 0, 1, 1, 2, 1, 2, 0, 2, 1, 2, 1, 1, 1, 0, 1, 1, 0, 1, 2,\n",
       "       2, 0, 1, 2, 2, 0, 2, 0, 1, 2, 2, 1, 2, 1, 1, 2, 2, 0, 1, 2, 0, 1,\n",
       "       2])"
      ]
     },
     "execution_count": 85,
     "metadata": {},
     "output_type": "execute_result"
    }
   ],
   "source": [
    "Y_test"
   ]
  },
  {
   "cell_type": "code",
   "execution_count": 90,
   "id": "af14bc15-af0f-43db-9092-0559d242e6e9",
   "metadata": {},
   "outputs": [],
   "source": [
    "from sklearn.metrics import classification_report"
   ]
  },
  {
   "cell_type": "code",
   "execution_count": 91,
   "id": "a3b96ff7-3f69-4c90-b50c-eebfe3c4b313",
   "metadata": {},
   "outputs": [
    {
     "name": "stdout",
     "output_type": "stream",
     "text": [
      "              precision    recall  f1-score   support\n",
      "\n",
      "           0       1.00      1.00      1.00        10\n",
      "           1       0.94      0.94      0.94        17\n",
      "           2       0.94      0.94      0.94        18\n",
      "\n",
      "    accuracy                           0.96        45\n",
      "   macro avg       0.96      0.96      0.96        45\n",
      "weighted avg       0.96      0.96      0.96        45\n",
      "\n"
     ]
    }
   ],
   "source": [
    "print(classification_report(Y_test,max_p))"
   ]
  },
  {
   "cell_type": "code",
   "execution_count": 96,
   "id": "14788712-41e1-47aa-86cc-05772e89afbb",
   "metadata": {},
   "outputs": [],
   "source": [
    "class Gaussian_Naive_Bayes:\n",
    "    def __init__(self,fit_prior=True):\n",
    "        self.fit_prior = fit_prior\n",
    "    def fit(self,X,y):\n",
    "        self.k = np.unique(y).shape[0]\n",
    "        self.means = np.array([X[y==i].mean(axis=0) for i in range(self.k)])\n",
    "        self.variances = np.array([X[y==i].var(axis=0) for i in range(self.k)])\n",
    "        self.priors = np.bincount(y)/y.shape[0]\n",
    "    def predict(self,X):\n",
    "        probs = np.zeros((self.k,X.shape[0]))\n",
    "        for i in range(self.k):\n",
    "            prob = np.sum((X -self.means[i])**2/self.variances[i] + np.log(6.28*self.variances[i]),axis=1)\n",
    "            p = np.log(self.priors[i]) - 0.5*prob\n",
    "            probs[i] = p\n",
    "        preds = np.argmax(probs,axis=0)\n",
    "        return preds"
   ]
  },
  {
   "cell_type": "code",
   "execution_count": 97,
   "id": "3e913f7a-f06b-4ec1-a271-4227022d0d0c",
   "metadata": {},
   "outputs": [],
   "source": [
    "gnb = Gaussian_Naive_Bayes()"
   ]
  },
  {
   "cell_type": "code",
   "execution_count": 98,
   "id": "454c74ec-c149-4992-80e1-678eb7c351ce",
   "metadata": {},
   "outputs": [],
   "source": [
    "gnb.fit(X_train,Y_train)"
   ]
  },
  {
   "cell_type": "code",
   "execution_count": 100,
   "id": "db6a1ee4-4d36-40f0-b1cb-ca6ef4a98070",
   "metadata": {},
   "outputs": [
    {
     "name": "stdout",
     "output_type": "stream",
     "text": [
      "              precision    recall  f1-score   support\n",
      "\n",
      "           0       1.00      1.00      1.00        40\n",
      "           1       0.91      0.94      0.93        33\n",
      "           2       0.94      0.91      0.92        32\n",
      "\n",
      "    accuracy                           0.95       105\n",
      "   macro avg       0.95      0.95      0.95       105\n",
      "weighted avg       0.95      0.95      0.95       105\n",
      "\n"
     ]
    }
   ],
   "source": [
    "print(classification_report(Y_train,gnb.predict(X_train)))"
   ]
  },
  {
   "cell_type": "code",
   "execution_count": 101,
   "id": "779c6ab3-bb75-4ea6-b3e4-efff83575cde",
   "metadata": {},
   "outputs": [
    {
     "name": "stdout",
     "output_type": "stream",
     "text": [
      "              precision    recall  f1-score   support\n",
      "\n",
      "           0       1.00      1.00      1.00        10\n",
      "           1       0.94      0.94      0.94        17\n",
      "           2       0.94      0.94      0.94        18\n",
      "\n",
      "    accuracy                           0.96        45\n",
      "   macro avg       0.96      0.96      0.96        45\n",
      "weighted avg       0.96      0.96      0.96        45\n",
      "\n"
     ]
    }
   ],
   "source": [
    "print(classification_report(Y_test,gnb.predict(X_test)))"
   ]
  },
  {
   "cell_type": "code",
   "execution_count": 102,
   "id": "af020cbe-b093-415c-9d7a-4ed301a681c2",
   "metadata": {},
   "outputs": [],
   "source": [
    "from sklearn.datasets import load_wine"
   ]
  },
  {
   "cell_type": "code",
   "execution_count": 103,
   "id": "dbbce2b1-f8b3-41e3-831c-6d7bc9e0c8a2",
   "metadata": {},
   "outputs": [],
   "source": [
    "wine = load_wine()"
   ]
  },
  {
   "cell_type": "code",
   "execution_count": 118,
   "id": "5c3c2154-a0cd-492c-8722-a50ae5e546ed",
   "metadata": {},
   "outputs": [],
   "source": [
    "X2n = wine.data\n",
    "y2n = wine.target"
   ]
  },
  {
   "cell_type": "code",
   "execution_count": 119,
   "id": "9285e6ec-8f6b-4786-a48b-679e50de936e",
   "metadata": {},
   "outputs": [],
   "source": [
    "n = X2n.shape[0]\n",
    "rnd = np.arange(n)\n",
    "np.random.seed(42)\n",
    "np.random.shuffle(rnd)"
   ]
  },
  {
   "cell_type": "code",
   "execution_count": 120,
   "id": "64b3062c-3746-4545-afbe-f9838d81f85b",
   "metadata": {},
   "outputs": [],
   "source": [
    "X2 = X2n[rnd]\n",
    "y2 = y2n[rnd]"
   ]
  },
  {
   "cell_type": "code",
   "execution_count": 121,
   "id": "bf12d84d-6f53-44a7-9111-9a57fa7bff6e",
   "metadata": {},
   "outputs": [
    {
     "data": {
      "text/plain": [
       "(178, 13)"
      ]
     },
     "execution_count": 121,
     "metadata": {},
     "output_type": "execute_result"
    }
   ],
   "source": [
    "X.shape"
   ]
  },
  {
   "cell_type": "code",
   "execution_count": 122,
   "id": "e89bac3b-74d4-46ce-94d0-d994f7ef80ec",
   "metadata": {},
   "outputs": [],
   "source": [
    "X_train2,X_test2 = X2[:140],X2[140:]\n",
    "Y_train2,Y_test2 = y2[:140],y2[140:]"
   ]
  },
  {
   "cell_type": "code",
   "execution_count": 123,
   "id": "5ff16d90-bc59-425d-a4dc-ec5bf4203706",
   "metadata": {},
   "outputs": [],
   "source": [
    "gnb2 = Gaussian_Naive_Bayes()"
   ]
  },
  {
   "cell_type": "code",
   "execution_count": 124,
   "id": "7c8183bb-7be3-4e74-a8db-26109801d58b",
   "metadata": {},
   "outputs": [],
   "source": [
    "gnb2.fit(X_train2,Y_train2)"
   ]
  },
  {
   "cell_type": "code",
   "execution_count": 125,
   "id": "e912e45b-6d55-415f-b401-a260884c8682",
   "metadata": {},
   "outputs": [
    {
     "name": "stdout",
     "output_type": "stream",
     "text": [
      "              precision    recall  f1-score   support\n",
      "\n",
      "           0       1.00      0.98      0.99        48\n",
      "           1       0.98      0.98      0.98        56\n",
      "           2       0.97      1.00      0.99        36\n",
      "\n",
      "    accuracy                           0.99       140\n",
      "   macro avg       0.99      0.99      0.99       140\n",
      "weighted avg       0.99      0.99      0.99       140\n",
      "\n"
     ]
    }
   ],
   "source": [
    "print(classification_report(Y_train2,gnb2.predict(X_train2)))"
   ]
  },
  {
   "cell_type": "code",
   "execution_count": 126,
   "id": "6b49880d-268d-4c74-8b3d-bb47942edb58",
   "metadata": {},
   "outputs": [
    {
     "name": "stdout",
     "output_type": "stream",
     "text": [
      "              precision    recall  f1-score   support\n",
      "\n",
      "           0       1.00      1.00      1.00        11\n",
      "           1       1.00      1.00      1.00        15\n",
      "           2       1.00      1.00      1.00        12\n",
      "\n",
      "    accuracy                           1.00        38\n",
      "   macro avg       1.00      1.00      1.00        38\n",
      "weighted avg       1.00      1.00      1.00        38\n",
      "\n"
     ]
    }
   ],
   "source": [
    "print(classification_report(Y_test2,gnb2.predict(X_test2)))"
   ]
  },
  {
   "cell_type": "markdown",
   "id": "b96037ba-12eb-4d88-8c64-ac5dab73244e",
   "metadata": {},
   "source": [
    "lets compare with Scikit-learn"
   ]
  },
  {
   "cell_type": "code",
   "execution_count": 127,
   "id": "ed7d36e1-0ee0-4eb8-8055-9485593c1fec",
   "metadata": {},
   "outputs": [],
   "source": [
    "from sklearn.naive_bayes import GaussianNB"
   ]
  },
  {
   "cell_type": "code",
   "execution_count": 128,
   "id": "368dfbda-a13e-470a-b9cc-40a281c1fea9",
   "metadata": {},
   "outputs": [],
   "source": [
    "gnbr = GaussianNB()"
   ]
  },
  {
   "cell_type": "code",
   "execution_count": 129,
   "id": "438a1343-afbc-410c-9bd3-4d72fb5467cf",
   "metadata": {},
   "outputs": [
    {
     "data": {
      "text/html": [
       "<style>#sk-container-id-1 {\n",
       "  /* Definition of color scheme common for light and dark mode */\n",
       "  --sklearn-color-text: black;\n",
       "  --sklearn-color-line: gray;\n",
       "  /* Definition of color scheme for unfitted estimators */\n",
       "  --sklearn-color-unfitted-level-0: #fff5e6;\n",
       "  --sklearn-color-unfitted-level-1: #f6e4d2;\n",
       "  --sklearn-color-unfitted-level-2: #ffe0b3;\n",
       "  --sklearn-color-unfitted-level-3: chocolate;\n",
       "  /* Definition of color scheme for fitted estimators */\n",
       "  --sklearn-color-fitted-level-0: #f0f8ff;\n",
       "  --sklearn-color-fitted-level-1: #d4ebff;\n",
       "  --sklearn-color-fitted-level-2: #b3dbfd;\n",
       "  --sklearn-color-fitted-level-3: cornflowerblue;\n",
       "\n",
       "  /* Specific color for light theme */\n",
       "  --sklearn-color-text-on-default-background: var(--sg-text-color, var(--theme-code-foreground, var(--jp-content-font-color1, black)));\n",
       "  --sklearn-color-background: var(--sg-background-color, var(--theme-background, var(--jp-layout-color0, white)));\n",
       "  --sklearn-color-border-box: var(--sg-text-color, var(--theme-code-foreground, var(--jp-content-font-color1, black)));\n",
       "  --sklearn-color-icon: #696969;\n",
       "\n",
       "  @media (prefers-color-scheme: dark) {\n",
       "    /* Redefinition of color scheme for dark theme */\n",
       "    --sklearn-color-text-on-default-background: var(--sg-text-color, var(--theme-code-foreground, var(--jp-content-font-color1, white)));\n",
       "    --sklearn-color-background: var(--sg-background-color, var(--theme-background, var(--jp-layout-color0, #111)));\n",
       "    --sklearn-color-border-box: var(--sg-text-color, var(--theme-code-foreground, var(--jp-content-font-color1, white)));\n",
       "    --sklearn-color-icon: #878787;\n",
       "  }\n",
       "}\n",
       "\n",
       "#sk-container-id-1 {\n",
       "  color: var(--sklearn-color-text);\n",
       "}\n",
       "\n",
       "#sk-container-id-1 pre {\n",
       "  padding: 0;\n",
       "}\n",
       "\n",
       "#sk-container-id-1 input.sk-hidden--visually {\n",
       "  border: 0;\n",
       "  clip: rect(1px 1px 1px 1px);\n",
       "  clip: rect(1px, 1px, 1px, 1px);\n",
       "  height: 1px;\n",
       "  margin: -1px;\n",
       "  overflow: hidden;\n",
       "  padding: 0;\n",
       "  position: absolute;\n",
       "  width: 1px;\n",
       "}\n",
       "\n",
       "#sk-container-id-1 div.sk-dashed-wrapped {\n",
       "  border: 1px dashed var(--sklearn-color-line);\n",
       "  margin: 0 0.4em 0.5em 0.4em;\n",
       "  box-sizing: border-box;\n",
       "  padding-bottom: 0.4em;\n",
       "  background-color: var(--sklearn-color-background);\n",
       "}\n",
       "\n",
       "#sk-container-id-1 div.sk-container {\n",
       "  /* jupyter's `normalize.less` sets `[hidden] { display: none; }`\n",
       "     but bootstrap.min.css set `[hidden] { display: none !important; }`\n",
       "     so we also need the `!important` here to be able to override the\n",
       "     default hidden behavior on the sphinx rendered scikit-learn.org.\n",
       "     See: https://github.com/scikit-learn/scikit-learn/issues/21755 */\n",
       "  display: inline-block !important;\n",
       "  position: relative;\n",
       "}\n",
       "\n",
       "#sk-container-id-1 div.sk-text-repr-fallback {\n",
       "  display: none;\n",
       "}\n",
       "\n",
       "div.sk-parallel-item,\n",
       "div.sk-serial,\n",
       "div.sk-item {\n",
       "  /* draw centered vertical line to link estimators */\n",
       "  background-image: linear-gradient(var(--sklearn-color-text-on-default-background), var(--sklearn-color-text-on-default-background));\n",
       "  background-size: 2px 100%;\n",
       "  background-repeat: no-repeat;\n",
       "  background-position: center center;\n",
       "}\n",
       "\n",
       "/* Parallel-specific style estimator block */\n",
       "\n",
       "#sk-container-id-1 div.sk-parallel-item::after {\n",
       "  content: \"\";\n",
       "  width: 100%;\n",
       "  border-bottom: 2px solid var(--sklearn-color-text-on-default-background);\n",
       "  flex-grow: 1;\n",
       "}\n",
       "\n",
       "#sk-container-id-1 div.sk-parallel {\n",
       "  display: flex;\n",
       "  align-items: stretch;\n",
       "  justify-content: center;\n",
       "  background-color: var(--sklearn-color-background);\n",
       "  position: relative;\n",
       "}\n",
       "\n",
       "#sk-container-id-1 div.sk-parallel-item {\n",
       "  display: flex;\n",
       "  flex-direction: column;\n",
       "}\n",
       "\n",
       "#sk-container-id-1 div.sk-parallel-item:first-child::after {\n",
       "  align-self: flex-end;\n",
       "  width: 50%;\n",
       "}\n",
       "\n",
       "#sk-container-id-1 div.sk-parallel-item:last-child::after {\n",
       "  align-self: flex-start;\n",
       "  width: 50%;\n",
       "}\n",
       "\n",
       "#sk-container-id-1 div.sk-parallel-item:only-child::after {\n",
       "  width: 0;\n",
       "}\n",
       "\n",
       "/* Serial-specific style estimator block */\n",
       "\n",
       "#sk-container-id-1 div.sk-serial {\n",
       "  display: flex;\n",
       "  flex-direction: column;\n",
       "  align-items: center;\n",
       "  background-color: var(--sklearn-color-background);\n",
       "  padding-right: 1em;\n",
       "  padding-left: 1em;\n",
       "}\n",
       "\n",
       "\n",
       "/* Toggleable style: style used for estimator/Pipeline/ColumnTransformer box that is\n",
       "clickable and can be expanded/collapsed.\n",
       "- Pipeline and ColumnTransformer use this feature and define the default style\n",
       "- Estimators will overwrite some part of the style using the `sk-estimator` class\n",
       "*/\n",
       "\n",
       "/* Pipeline and ColumnTransformer style (default) */\n",
       "\n",
       "#sk-container-id-1 div.sk-toggleable {\n",
       "  /* Default theme specific background. It is overwritten whether we have a\n",
       "  specific estimator or a Pipeline/ColumnTransformer */\n",
       "  background-color: var(--sklearn-color-background);\n",
       "}\n",
       "\n",
       "/* Toggleable label */\n",
       "#sk-container-id-1 label.sk-toggleable__label {\n",
       "  cursor: pointer;\n",
       "  display: block;\n",
       "  width: 100%;\n",
       "  margin-bottom: 0;\n",
       "  padding: 0.5em;\n",
       "  box-sizing: border-box;\n",
       "  text-align: center;\n",
       "}\n",
       "\n",
       "#sk-container-id-1 label.sk-toggleable__label-arrow:before {\n",
       "  /* Arrow on the left of the label */\n",
       "  content: \"▸\";\n",
       "  float: left;\n",
       "  margin-right: 0.25em;\n",
       "  color: var(--sklearn-color-icon);\n",
       "}\n",
       "\n",
       "#sk-container-id-1 label.sk-toggleable__label-arrow:hover:before {\n",
       "  color: var(--sklearn-color-text);\n",
       "}\n",
       "\n",
       "/* Toggleable content - dropdown */\n",
       "\n",
       "#sk-container-id-1 div.sk-toggleable__content {\n",
       "  max-height: 0;\n",
       "  max-width: 0;\n",
       "  overflow: hidden;\n",
       "  text-align: left;\n",
       "  /* unfitted */\n",
       "  background-color: var(--sklearn-color-unfitted-level-0);\n",
       "}\n",
       "\n",
       "#sk-container-id-1 div.sk-toggleable__content.fitted {\n",
       "  /* fitted */\n",
       "  background-color: var(--sklearn-color-fitted-level-0);\n",
       "}\n",
       "\n",
       "#sk-container-id-1 div.sk-toggleable__content pre {\n",
       "  margin: 0.2em;\n",
       "  border-radius: 0.25em;\n",
       "  color: var(--sklearn-color-text);\n",
       "  /* unfitted */\n",
       "  background-color: var(--sklearn-color-unfitted-level-0);\n",
       "}\n",
       "\n",
       "#sk-container-id-1 div.sk-toggleable__content.fitted pre {\n",
       "  /* unfitted */\n",
       "  background-color: var(--sklearn-color-fitted-level-0);\n",
       "}\n",
       "\n",
       "#sk-container-id-1 input.sk-toggleable__control:checked~div.sk-toggleable__content {\n",
       "  /* Expand drop-down */\n",
       "  max-height: 200px;\n",
       "  max-width: 100%;\n",
       "  overflow: auto;\n",
       "}\n",
       "\n",
       "#sk-container-id-1 input.sk-toggleable__control:checked~label.sk-toggleable__label-arrow:before {\n",
       "  content: \"▾\";\n",
       "}\n",
       "\n",
       "/* Pipeline/ColumnTransformer-specific style */\n",
       "\n",
       "#sk-container-id-1 div.sk-label input.sk-toggleable__control:checked~label.sk-toggleable__label {\n",
       "  color: var(--sklearn-color-text);\n",
       "  background-color: var(--sklearn-color-unfitted-level-2);\n",
       "}\n",
       "\n",
       "#sk-container-id-1 div.sk-label.fitted input.sk-toggleable__control:checked~label.sk-toggleable__label {\n",
       "  background-color: var(--sklearn-color-fitted-level-2);\n",
       "}\n",
       "\n",
       "/* Estimator-specific style */\n",
       "\n",
       "/* Colorize estimator box */\n",
       "#sk-container-id-1 div.sk-estimator input.sk-toggleable__control:checked~label.sk-toggleable__label {\n",
       "  /* unfitted */\n",
       "  background-color: var(--sklearn-color-unfitted-level-2);\n",
       "}\n",
       "\n",
       "#sk-container-id-1 div.sk-estimator.fitted input.sk-toggleable__control:checked~label.sk-toggleable__label {\n",
       "  /* fitted */\n",
       "  background-color: var(--sklearn-color-fitted-level-2);\n",
       "}\n",
       "\n",
       "#sk-container-id-1 div.sk-label label.sk-toggleable__label,\n",
       "#sk-container-id-1 div.sk-label label {\n",
       "  /* The background is the default theme color */\n",
       "  color: var(--sklearn-color-text-on-default-background);\n",
       "}\n",
       "\n",
       "/* On hover, darken the color of the background */\n",
       "#sk-container-id-1 div.sk-label:hover label.sk-toggleable__label {\n",
       "  color: var(--sklearn-color-text);\n",
       "  background-color: var(--sklearn-color-unfitted-level-2);\n",
       "}\n",
       "\n",
       "/* Label box, darken color on hover, fitted */\n",
       "#sk-container-id-1 div.sk-label.fitted:hover label.sk-toggleable__label.fitted {\n",
       "  color: var(--sklearn-color-text);\n",
       "  background-color: var(--sklearn-color-fitted-level-2);\n",
       "}\n",
       "\n",
       "/* Estimator label */\n",
       "\n",
       "#sk-container-id-1 div.sk-label label {\n",
       "  font-family: monospace;\n",
       "  font-weight: bold;\n",
       "  display: inline-block;\n",
       "  line-height: 1.2em;\n",
       "}\n",
       "\n",
       "#sk-container-id-1 div.sk-label-container {\n",
       "  text-align: center;\n",
       "}\n",
       "\n",
       "/* Estimator-specific */\n",
       "#sk-container-id-1 div.sk-estimator {\n",
       "  font-family: monospace;\n",
       "  border: 1px dotted var(--sklearn-color-border-box);\n",
       "  border-radius: 0.25em;\n",
       "  box-sizing: border-box;\n",
       "  margin-bottom: 0.5em;\n",
       "  /* unfitted */\n",
       "  background-color: var(--sklearn-color-unfitted-level-0);\n",
       "}\n",
       "\n",
       "#sk-container-id-1 div.sk-estimator.fitted {\n",
       "  /* fitted */\n",
       "  background-color: var(--sklearn-color-fitted-level-0);\n",
       "}\n",
       "\n",
       "/* on hover */\n",
       "#sk-container-id-1 div.sk-estimator:hover {\n",
       "  /* unfitted */\n",
       "  background-color: var(--sklearn-color-unfitted-level-2);\n",
       "}\n",
       "\n",
       "#sk-container-id-1 div.sk-estimator.fitted:hover {\n",
       "  /* fitted */\n",
       "  background-color: var(--sklearn-color-fitted-level-2);\n",
       "}\n",
       "\n",
       "/* Specification for estimator info (e.g. \"i\" and \"?\") */\n",
       "\n",
       "/* Common style for \"i\" and \"?\" */\n",
       "\n",
       ".sk-estimator-doc-link,\n",
       "a:link.sk-estimator-doc-link,\n",
       "a:visited.sk-estimator-doc-link {\n",
       "  float: right;\n",
       "  font-size: smaller;\n",
       "  line-height: 1em;\n",
       "  font-family: monospace;\n",
       "  background-color: var(--sklearn-color-background);\n",
       "  border-radius: 1em;\n",
       "  height: 1em;\n",
       "  width: 1em;\n",
       "  text-decoration: none !important;\n",
       "  margin-left: 1ex;\n",
       "  /* unfitted */\n",
       "  border: var(--sklearn-color-unfitted-level-1) 1pt solid;\n",
       "  color: var(--sklearn-color-unfitted-level-1);\n",
       "}\n",
       "\n",
       ".sk-estimator-doc-link.fitted,\n",
       "a:link.sk-estimator-doc-link.fitted,\n",
       "a:visited.sk-estimator-doc-link.fitted {\n",
       "  /* fitted */\n",
       "  border: var(--sklearn-color-fitted-level-1) 1pt solid;\n",
       "  color: var(--sklearn-color-fitted-level-1);\n",
       "}\n",
       "\n",
       "/* On hover */\n",
       "div.sk-estimator:hover .sk-estimator-doc-link:hover,\n",
       ".sk-estimator-doc-link:hover,\n",
       "div.sk-label-container:hover .sk-estimator-doc-link:hover,\n",
       ".sk-estimator-doc-link:hover {\n",
       "  /* unfitted */\n",
       "  background-color: var(--sklearn-color-unfitted-level-3);\n",
       "  color: var(--sklearn-color-background);\n",
       "  text-decoration: none;\n",
       "}\n",
       "\n",
       "div.sk-estimator.fitted:hover .sk-estimator-doc-link.fitted:hover,\n",
       ".sk-estimator-doc-link.fitted:hover,\n",
       "div.sk-label-container:hover .sk-estimator-doc-link.fitted:hover,\n",
       ".sk-estimator-doc-link.fitted:hover {\n",
       "  /* fitted */\n",
       "  background-color: var(--sklearn-color-fitted-level-3);\n",
       "  color: var(--sklearn-color-background);\n",
       "  text-decoration: none;\n",
       "}\n",
       "\n",
       "/* Span, style for the box shown on hovering the info icon */\n",
       ".sk-estimator-doc-link span {\n",
       "  display: none;\n",
       "  z-index: 9999;\n",
       "  position: relative;\n",
       "  font-weight: normal;\n",
       "  right: .2ex;\n",
       "  padding: .5ex;\n",
       "  margin: .5ex;\n",
       "  width: min-content;\n",
       "  min-width: 20ex;\n",
       "  max-width: 50ex;\n",
       "  color: var(--sklearn-color-text);\n",
       "  box-shadow: 2pt 2pt 4pt #999;\n",
       "  /* unfitted */\n",
       "  background: var(--sklearn-color-unfitted-level-0);\n",
       "  border: .5pt solid var(--sklearn-color-unfitted-level-3);\n",
       "}\n",
       "\n",
       ".sk-estimator-doc-link.fitted span {\n",
       "  /* fitted */\n",
       "  background: var(--sklearn-color-fitted-level-0);\n",
       "  border: var(--sklearn-color-fitted-level-3);\n",
       "}\n",
       "\n",
       ".sk-estimator-doc-link:hover span {\n",
       "  display: block;\n",
       "}\n",
       "\n",
       "/* \"?\"-specific style due to the `<a>` HTML tag */\n",
       "\n",
       "#sk-container-id-1 a.estimator_doc_link {\n",
       "  float: right;\n",
       "  font-size: 1rem;\n",
       "  line-height: 1em;\n",
       "  font-family: monospace;\n",
       "  background-color: var(--sklearn-color-background);\n",
       "  border-radius: 1rem;\n",
       "  height: 1rem;\n",
       "  width: 1rem;\n",
       "  text-decoration: none;\n",
       "  /* unfitted */\n",
       "  color: var(--sklearn-color-unfitted-level-1);\n",
       "  border: var(--sklearn-color-unfitted-level-1) 1pt solid;\n",
       "}\n",
       "\n",
       "#sk-container-id-1 a.estimator_doc_link.fitted {\n",
       "  /* fitted */\n",
       "  border: var(--sklearn-color-fitted-level-1) 1pt solid;\n",
       "  color: var(--sklearn-color-fitted-level-1);\n",
       "}\n",
       "\n",
       "/* On hover */\n",
       "#sk-container-id-1 a.estimator_doc_link:hover {\n",
       "  /* unfitted */\n",
       "  background-color: var(--sklearn-color-unfitted-level-3);\n",
       "  color: var(--sklearn-color-background);\n",
       "  text-decoration: none;\n",
       "}\n",
       "\n",
       "#sk-container-id-1 a.estimator_doc_link.fitted:hover {\n",
       "  /* fitted */\n",
       "  background-color: var(--sklearn-color-fitted-level-3);\n",
       "}\n",
       "</style><div id=\"sk-container-id-1\" class=\"sk-top-container\"><div class=\"sk-text-repr-fallback\"><pre>GaussianNB()</pre><b>In a Jupyter environment, please rerun this cell to show the HTML representation or trust the notebook. <br />On GitHub, the HTML representation is unable to render, please try loading this page with nbviewer.org.</b></div><div class=\"sk-container\" hidden><div class=\"sk-item\"><div class=\"sk-estimator fitted sk-toggleable\"><input class=\"sk-toggleable__control sk-hidden--visually\" id=\"sk-estimator-id-1\" type=\"checkbox\" checked><label for=\"sk-estimator-id-1\" class=\"sk-toggleable__label fitted sk-toggleable__label-arrow fitted\">&nbsp;&nbsp;GaussianNB<a class=\"sk-estimator-doc-link fitted\" rel=\"noreferrer\" target=\"_blank\" href=\"https://scikit-learn.org/1.5/modules/generated/sklearn.naive_bayes.GaussianNB.html\">?<span>Documentation for GaussianNB</span></a><span class=\"sk-estimator-doc-link fitted\">i<span>Fitted</span></span></label><div class=\"sk-toggleable__content fitted\"><pre>GaussianNB()</pre></div> </div></div></div></div>"
      ],
      "text/plain": [
       "GaussianNB()"
      ]
     },
     "execution_count": 129,
     "metadata": {},
     "output_type": "execute_result"
    }
   ],
   "source": [
    "gnbr.fit(X_train2,Y_train2)"
   ]
  },
  {
   "cell_type": "code",
   "execution_count": 130,
   "id": "cd4add4d-48c8-4fdd-aec6-b3dba9df4afb",
   "metadata": {},
   "outputs": [
    {
     "name": "stdout",
     "output_type": "stream",
     "text": [
      "              precision    recall  f1-score   support\n",
      "\n",
      "           0       1.00      0.98      0.99        48\n",
      "           1       0.98      0.98      0.98        56\n",
      "           2       0.97      1.00      0.99        36\n",
      "\n",
      "    accuracy                           0.99       140\n",
      "   macro avg       0.99      0.99      0.99       140\n",
      "weighted avg       0.99      0.99      0.99       140\n",
      "\n"
     ]
    }
   ],
   "source": [
    "print(classification_report(Y_train2,gnbr.predict(X_train2)))"
   ]
  },
  {
   "cell_type": "code",
   "execution_count": 131,
   "id": "a5fe645f-d807-4277-af12-2724eafe3640",
   "metadata": {},
   "outputs": [
    {
     "name": "stdout",
     "output_type": "stream",
     "text": [
      "              precision    recall  f1-score   support\n",
      "\n",
      "           0       1.00      1.00      1.00        11\n",
      "           1       1.00      1.00      1.00        15\n",
      "           2       1.00      1.00      1.00        12\n",
      "\n",
      "    accuracy                           1.00        38\n",
      "   macro avg       1.00      1.00      1.00        38\n",
      "weighted avg       1.00      1.00      1.00        38\n",
      "\n"
     ]
    }
   ],
   "source": [
    "print(classification_report(Y_test2,gnbr.predict(X_test2)))"
   ]
  },
  {
   "cell_type": "code",
   "execution_count": null,
   "id": "c5b608ca-7bea-4863-a483-9b71bbafaa42",
   "metadata": {},
   "outputs": [],
   "source": []
  }
 ],
 "metadata": {
  "kernelspec": {
   "display_name": "Python 3 (ipykernel)",
   "language": "python",
   "name": "python3"
  },
  "language_info": {
   "codemirror_mode": {
    "name": "ipython",
    "version": 3
   },
   "file_extension": ".py",
   "mimetype": "text/x-python",
   "name": "python",
   "nbconvert_exporter": "python",
   "pygments_lexer": "ipython3",
   "version": "3.12.7"
  }
 },
 "nbformat": 4,
 "nbformat_minor": 5
}
